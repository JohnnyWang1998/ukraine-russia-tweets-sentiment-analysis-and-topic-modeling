{
 "cells": [
  {
   "cell_type": "markdown",
   "metadata": {
    "id": "UzNwUgtwKEQf"
   },
   "source": [
    "# EDA"
   ]
  },
  {
   "cell_type": "code",
   "execution_count": 3,
   "metadata": {},
   "outputs": [
    {
     "name": "stderr",
     "output_type": "stream",
     "text": [
      "[nltk_data] Downloading package punkt to\n",
      "[nltk_data]     /Users/johnnywang/nltk_data...\n",
      "[nltk_data]   Package punkt is already up-to-date!\n",
      "[nltk_data] Downloading package stopwords to\n",
      "[nltk_data]     /Users/johnnywang/nltk_data...\n",
      "[nltk_data]   Package stopwords is already up-to-date!\n"
     ]
    }
   ],
   "source": [
    "# internal imports\n",
    "\n",
    "# OPTIONAL: Load the \"autoreload\" extension so that code can change\n",
    "%load_ext autoreload\n",
    "# OPTIONAL: always reload modules so that as you change code in src, it gets loaded\n",
    "%autoreload 2\n",
    "\n",
    "import sys, os\n",
    "sys.path.insert(0, os.path.abspath('..'))\n",
    "from src.data import extract_media_data as emd\n",
    "from src.data import checker\n",
    "from src.data import preprocessor\n",
    "from src.models import topic_modeling as tm"
   ]
  },
  {
   "cell_type": "code",
   "execution_count": 4,
   "metadata": {
    "id": "0X87BxfhKEQk"
   },
   "outputs": [],
   "source": [
    "import numpy as np\n",
    "import pandas as pd\n",
    "import seaborn as sn\n",
    "from typing import List\n",
    "from tqdm import tqdm"
   ]
  },
  {
   "cell_type": "code",
   "execution_count": 5,
   "metadata": {
    "id": "gAGz0aRdD3T4"
   },
   "outputs": [],
   "source": [
    "#Visualizations\n",
    "import seaborn as sns\n",
    "import matplotlib.pyplot as plt\n",
    "import pyLDAvis\n",
    "import pyLDAvis.sklearn\n",
    "import warnings\n",
    "warnings.filterwarnings(\"ignore\", category=DeprecationWarning)\n",
    "\n",
    "#Natural Language Processing (NLP)\n",
    "import spacy\n",
    "import gensim\n",
    "from spacy.tokenizer import Tokenizer\n",
    "from gensim.corpora import Dictionary\n",
    "from gensim.models.ldamulticore import LdaMulticore\n",
    "from gensim.models import CoherenceModel\n",
    "from sklearn.decomposition import LatentDirichletAllocation\n",
    "from sklearn.feature_extraction.text import CountVectorizer, TfidfVectorizer\n",
    "from sklearn.model_selection import GridSearchCV\n",
    "from pprint import pprint\n",
    "# from wordcloud import STOPWORDS\n",
    "# stopwords = set(STOPWORDS)"
   ]
  },
  {
   "cell_type": "code",
   "execution_count": 6,
   "metadata": {},
   "outputs": [],
   "source": [
    "# data before the war\n",
    "data_before = pd.read_csv('../data/interim/new_data.csv')\n",
    "# data after the war\n",
    "data_after = pd.read_csv('../data/interim/data_cleaned_version_1.csv', index_col=[0])"
   ]
  },
  {
   "cell_type": "markdown",
   "metadata": {
    "id": "aEmbnp3HKEQm"
   },
   "source": [
    "## Overview"
   ]
  },
  {
   "cell_type": "code",
   "execution_count": 9,
   "metadata": {
    "colab": {
     "base_uri": "https://localhost:8080/"
    },
    "executionInfo": {
     "elapsed": 476,
     "status": "ok",
     "timestamp": 1649791981346,
     "user": {
      "displayName": "Wang Johnny",
      "userId": "00967194380598162450"
     },
     "user_tz": 240
    },
    "id": "R5e4pSK4Q8ex",
    "outputId": "ed5689e2-db34-410d-ac9b-6b01de9ca8ad"
   },
   "outputs": [
    {
     "name": "stdout",
     "output_type": "stream",
     "text": [
      "<class 'pandas.core.frame.DataFrame'>\n",
      "RangeIndex: 105599 entries, 0 to 105598\n",
      "Data columns (total 12 columns):\n",
      " #   Column          Non-Null Count   Dtype \n",
      "---  ------          --------------   ----- \n",
      " 0   userid          105599 non-null  int64 \n",
      " 1   username        105599 non-null  object\n",
      " 2   following       105599 non-null  int64 \n",
      " 3   followers       105599 non-null  int64 \n",
      " 4   totaltweets     105599 non-null  int64 \n",
      " 5   usercreatedts   105599 non-null  object\n",
      " 6   tweetcreatedts  105599 non-null  object\n",
      " 7   retweetcount    105599 non-null  int64 \n",
      " 8   text            105599 non-null  object\n",
      " 9   hashtags        105599 non-null  object\n",
      " 10  language        105599 non-null  object\n",
      " 11  favorite_count  105599 non-null  int64 \n",
      "dtypes: int64(6), object(6)\n",
      "memory usage: 9.7+ MB\n"
     ]
    }
   ],
   "source": [
    "data_before.info()"
   ]
  },
  {
   "cell_type": "code",
   "execution_count": 10,
   "metadata": {
    "colab": {
     "base_uri": "https://localhost:8080/",
     "height": 530
    },
    "executionInfo": {
     "elapsed": 112,
     "status": "ok",
     "timestamp": 1649791484617,
     "user": {
      "displayName": "Wang Johnny",
      "userId": "00967194380598162450"
     },
     "user_tz": 240
    },
    "id": "XK96kGX7OvBC",
    "outputId": "16c93b75-8fa3-4357-8915-3092ea4557a4"
   },
   "outputs": [
    {
     "data": {
      "text/html": [
       "<div>\n",
       "<style scoped>\n",
       "    .dataframe tbody tr th:only-of-type {\n",
       "        vertical-align: middle;\n",
       "    }\n",
       "\n",
       "    .dataframe tbody tr th {\n",
       "        vertical-align: top;\n",
       "    }\n",
       "\n",
       "    .dataframe thead th {\n",
       "        text-align: right;\n",
       "    }\n",
       "</style>\n",
       "<table border=\"1\" class=\"dataframe\">\n",
       "  <thead>\n",
       "    <tr style=\"text-align: right;\">\n",
       "      <th></th>\n",
       "      <th>userid</th>\n",
       "      <th>username</th>\n",
       "      <th>following</th>\n",
       "      <th>followers</th>\n",
       "      <th>totaltweets</th>\n",
       "      <th>usercreatedts</th>\n",
       "      <th>tweetcreatedts</th>\n",
       "      <th>retweetcount</th>\n",
       "      <th>text</th>\n",
       "      <th>hashtags</th>\n",
       "      <th>language</th>\n",
       "      <th>favorite_count</th>\n",
       "    </tr>\n",
       "  </thead>\n",
       "  <tbody>\n",
       "    <tr>\n",
       "      <th>0</th>\n",
       "      <td>1235244517307166725</td>\n",
       "      <td>InformazioneA</td>\n",
       "      <td>103</td>\n",
       "      <td>864</td>\n",
       "      <td>7999</td>\n",
       "      <td>2020-03-04 16:43:53</td>\n",
       "      <td>2022-01-17 00:00:01</td>\n",
       "      <td>1</td>\n",
       "      <td>#Russia #Ukraine #US \\nIn the midst of the cri...</td>\n",
       "      <td>['russia', 'ukraine', 'us', 'moscow', 'kiev', ...</td>\n",
       "      <td>en</td>\n",
       "      <td>1</td>\n",
       "    </tr>\n",
       "    <tr>\n",
       "      <th>1</th>\n",
       "      <td>429580982</td>\n",
       "      <td>Sec_Cyber</td>\n",
       "      <td>1105</td>\n",
       "      <td>16344</td>\n",
       "      <td>246636</td>\n",
       "      <td>2011-12-06 04:14:04</td>\n",
       "      <td>2022-01-17 00:00:09</td>\n",
       "      <td>0</td>\n",
       "      <td>Ukraine claims Russia behind #cyberattack in '...</td>\n",
       "      <td>['cyberattack']</td>\n",
       "      <td>en</td>\n",
       "      <td>0</td>\n",
       "    </tr>\n",
       "    <tr>\n",
       "      <th>2</th>\n",
       "      <td>31106730</td>\n",
       "      <td>samiaji</td>\n",
       "      <td>120</td>\n",
       "      <td>463</td>\n",
       "      <td>83876</td>\n",
       "      <td>2009-04-14 12:08:45</td>\n",
       "      <td>2022-01-17 00:00:35</td>\n",
       "      <td>1</td>\n",
       "      <td>Ukraine says Russia behind cyberattack in 'hyb...</td>\n",
       "      <td>[]</td>\n",
       "      <td>en</td>\n",
       "      <td>0</td>\n",
       "    </tr>\n",
       "    <tr>\n",
       "      <th>3</th>\n",
       "      <td>16028382</td>\n",
       "      <td>WESH</td>\n",
       "      <td>353</td>\n",
       "      <td>222861</td>\n",
       "      <td>427358</td>\n",
       "      <td>2008-08-28 15:42:42</td>\n",
       "      <td>2022-01-17 00:01:05</td>\n",
       "      <td>0</td>\n",
       "      <td>Ukraine says Russia behind cyberattack in 'hyb...</td>\n",
       "      <td>[]</td>\n",
       "      <td>en</td>\n",
       "      <td>2</td>\n",
       "    </tr>\n",
       "    <tr>\n",
       "      <th>4</th>\n",
       "      <td>9285512</td>\n",
       "      <td>whatsinitforme</td>\n",
       "      <td>3421</td>\n",
       "      <td>1332</td>\n",
       "      <td>26311</td>\n",
       "      <td>2007-10-06 22:23:39</td>\n",
       "      <td>2022-01-17 00:01:19</td>\n",
       "      <td>0</td>\n",
       "      <td>@BowesChay @rickyspanish81 @Russia @Rus_Emb_Ir...</td>\n",
       "      <td>[]</td>\n",
       "      <td>en</td>\n",
       "      <td>3</td>\n",
       "    </tr>\n",
       "  </tbody>\n",
       "</table>\n",
       "</div>"
      ],
      "text/plain": [
       "                userid        username  following  followers  totaltweets  \\\n",
       "0  1235244517307166725   InformazioneA        103        864         7999   \n",
       "1            429580982       Sec_Cyber       1105      16344       246636   \n",
       "2             31106730         samiaji        120        463        83876   \n",
       "3             16028382            WESH        353     222861       427358   \n",
       "4              9285512  whatsinitforme       3421       1332        26311   \n",
       "\n",
       "         usercreatedts       tweetcreatedts  retweetcount  \\\n",
       "0  2020-03-04 16:43:53  2022-01-17 00:00:01             1   \n",
       "1  2011-12-06 04:14:04  2022-01-17 00:00:09             0   \n",
       "2  2009-04-14 12:08:45  2022-01-17 00:00:35             1   \n",
       "3  2008-08-28 15:42:42  2022-01-17 00:01:05             0   \n",
       "4  2007-10-06 22:23:39  2022-01-17 00:01:19             0   \n",
       "\n",
       "                                                text  \\\n",
       "0  #Russia #Ukraine #US \\nIn the midst of the cri...   \n",
       "1  Ukraine claims Russia behind #cyberattack in '...   \n",
       "2  Ukraine says Russia behind cyberattack in 'hyb...   \n",
       "3  Ukraine says Russia behind cyberattack in 'hyb...   \n",
       "4  @BowesChay @rickyspanish81 @Russia @Rus_Emb_Ir...   \n",
       "\n",
       "                                            hashtags language  favorite_count  \n",
       "0  ['russia', 'ukraine', 'us', 'moscow', 'kiev', ...       en               1  \n",
       "1                                    ['cyberattack']       en               0  \n",
       "2                                                 []       en               0  \n",
       "3                                                 []       en               2  \n",
       "4                                                 []       en               3  "
      ]
     },
     "execution_count": 10,
     "metadata": {},
     "output_type": "execute_result"
    }
   ],
   "source": [
    "# checker.check_data(data_before)\n",
    "data_before.head()"
   ]
  },
  {
   "cell_type": "code",
   "execution_count": 11,
   "metadata": {
    "colab": {
     "base_uri": "https://localhost:8080/"
    },
    "executionInfo": {
     "elapsed": 714,
     "status": "ok",
     "timestamp": 1649791992242,
     "user": {
      "displayName": "Wang Johnny",
      "userId": "00967194380598162450"
     },
     "user_tz": 240
    },
    "id": "ueIqGKkGKEQm",
    "outputId": "eea6331f-3c79-461d-a2b7-be2940108b6e"
   },
   "outputs": [
    {
     "name": "stdout",
     "output_type": "stream",
     "text": [
      "<class 'pandas.core.frame.DataFrame'>\n",
      "Int64Index: 835202 entries, 0 to 835201\n",
      "Data columns (total 12 columns):\n",
      " #   Column          Non-Null Count   Dtype \n",
      "---  ------          --------------   ----- \n",
      " 0   userid          835202 non-null  int64 \n",
      " 1   username        835202 non-null  object\n",
      " 2   following       835202 non-null  int64 \n",
      " 3   followers       835202 non-null  int64 \n",
      " 4   totaltweets     835202 non-null  int64 \n",
      " 5   usercreatedts   835202 non-null  object\n",
      " 6   tweetcreatedts  835202 non-null  object\n",
      " 7   retweetcount    835202 non-null  int64 \n",
      " 8   text            835202 non-null  object\n",
      " 9   hashtags        835202 non-null  object\n",
      " 10  language        835202 non-null  object\n",
      " 11  favorite_count  835202 non-null  int64 \n",
      "dtypes: int64(6), object(6)\n",
      "memory usage: 82.8+ MB\n"
     ]
    }
   ],
   "source": [
    "data_after.info()"
   ]
  },
  {
   "cell_type": "markdown",
   "metadata": {
    "id": "Aysy2ScxRD52"
   },
   "source": [
    "## Concate two dataframe together"
   ]
  },
  {
   "cell_type": "code",
   "execution_count": 7,
   "metadata": {
    "id": "A5E-xmX2RHBJ"
   },
   "outputs": [],
   "source": [
    "df = pd.concat([data_before, data_after])\n",
    "df.reset_index(inplace=True)"
   ]
  },
  {
   "cell_type": "code",
   "execution_count": 8,
   "metadata": {
    "colab": {
     "base_uri": "https://localhost:8080/"
    },
    "executionInfo": {
     "elapsed": 698,
     "status": "ok",
     "timestamp": 1649792299581,
     "user": {
      "displayName": "Wang Johnny",
      "userId": "00967194380598162450"
     },
     "user_tz": 240
    },
    "id": "a8hr9ifSSJwo",
    "outputId": "52a889d7-6df2-4585-e635-97cba1141cca"
   },
   "outputs": [
    {
     "name": "stdout",
     "output_type": "stream",
     "text": [
      "<class 'pandas.core.frame.DataFrame'>\n",
      "RangeIndex: 940801 entries, 0 to 940800\n",
      "Data columns (total 13 columns):\n",
      " #   Column          Non-Null Count   Dtype \n",
      "---  ------          --------------   ----- \n",
      " 0   index           940801 non-null  int64 \n",
      " 1   userid          940801 non-null  int64 \n",
      " 2   username        940801 non-null  object\n",
      " 3   following       940801 non-null  int64 \n",
      " 4   followers       940801 non-null  int64 \n",
      " 5   totaltweets     940801 non-null  int64 \n",
      " 6   usercreatedts   940801 non-null  object\n",
      " 7   tweetcreatedts  940801 non-null  object\n",
      " 8   retweetcount    940801 non-null  int64 \n",
      " 9   text            940801 non-null  object\n",
      " 10  hashtags        940801 non-null  object\n",
      " 11  language        940801 non-null  object\n",
      " 12  favorite_count  940801 non-null  int64 \n",
      "dtypes: int64(7), object(6)\n",
      "memory usage: 93.3+ MB\n"
     ]
    }
   ],
   "source": [
    "df.info()"
   ]
  },
  {
   "cell_type": "code",
   "execution_count": 9,
   "metadata": {
    "colab": {
     "base_uri": "https://localhost:8080/",
     "height": 49
    },
    "executionInfo": {
     "elapsed": 1422,
     "status": "ok",
     "timestamp": 1649792326653,
     "user": {
      "displayName": "Wang Johnny",
      "userId": "00967194380598162450"
     },
     "user_tz": 240
    },
    "id": "Y3ArVfoPKEQq",
    "outputId": "3bb41b35-45e7-446f-eea8-193435db0f5b"
   },
   "outputs": [
    {
     "data": {
      "text/html": [
       "<div>\n",
       "<style scoped>\n",
       "    .dataframe tbody tr th:only-of-type {\n",
       "        vertical-align: middle;\n",
       "    }\n",
       "\n",
       "    .dataframe tbody tr th {\n",
       "        vertical-align: top;\n",
       "    }\n",
       "\n",
       "    .dataframe thead th {\n",
       "        text-align: right;\n",
       "    }\n",
       "</style>\n",
       "<table border=\"1\" class=\"dataframe\">\n",
       "  <thead>\n",
       "    <tr style=\"text-align: right;\">\n",
       "      <th></th>\n",
       "      <th>Feature</th>\n",
       "      <th>NA Count</th>\n",
       "      <th>NA Rate</th>\n",
       "    </tr>\n",
       "  </thead>\n",
       "  <tbody>\n",
       "  </tbody>\n",
       "</table>\n",
       "</div>"
      ],
      "text/plain": [
       "Empty DataFrame\n",
       "Columns: [Feature, NA Count, NA Rate]\n",
       "Index: []"
      ]
     },
     "execution_count": 9,
     "metadata": {},
     "output_type": "execute_result"
    }
   ],
   "source": [
    "# only these three columns have missing values\n",
    "# luckily they are not too important for our model building, so we can abandon these columns\n",
    "checker.check_missing_value(df, df.columns)"
   ]
  },
  {
   "cell_type": "code",
   "execution_count": 10,
   "metadata": {},
   "outputs": [
    {
     "data": {
      "text/html": [
       "<div>\n",
       "<style scoped>\n",
       "    .dataframe tbody tr th:only-of-type {\n",
       "        vertical-align: middle;\n",
       "    }\n",
       "\n",
       "    .dataframe tbody tr th {\n",
       "        vertical-align: top;\n",
       "    }\n",
       "\n",
       "    .dataframe thead th {\n",
       "        text-align: right;\n",
       "    }\n",
       "</style>\n",
       "<table border=\"1\" class=\"dataframe\">\n",
       "  <thead>\n",
       "    <tr style=\"text-align: right;\">\n",
       "      <th></th>\n",
       "      <th>Feature</th>\n",
       "      <th>Value Count</th>\n",
       "      <th>Rate</th>\n",
       "    </tr>\n",
       "  </thead>\n",
       "  <tbody>\n",
       "    <tr>\n",
       "      <th>0</th>\n",
       "      <td>favorite_count</td>\n",
       "      <td>711778</td>\n",
       "      <td>0.756566</td>\n",
       "    </tr>\n",
       "    <tr>\n",
       "      <th>1</th>\n",
       "      <td>retweetcount</td>\n",
       "      <td>596378</td>\n",
       "      <td>0.633905</td>\n",
       "    </tr>\n",
       "    <tr>\n",
       "      <th>2</th>\n",
       "      <td>following</td>\n",
       "      <td>4884</td>\n",
       "      <td>0.005191</td>\n",
       "    </tr>\n",
       "    <tr>\n",
       "      <th>3</th>\n",
       "      <td>index</td>\n",
       "      <td>2</td>\n",
       "      <td>0.000002</td>\n",
       "    </tr>\n",
       "  </tbody>\n",
       "</table>\n",
       "</div>"
      ],
      "text/plain": [
       "          Feature  Value Count      Rate\n",
       "0  favorite_count       711778  0.756566\n",
       "1    retweetcount       596378  0.633905\n",
       "2       following         4884  0.005191\n",
       "3           index            2  0.000002"
      ]
     },
     "execution_count": 10,
     "metadata": {},
     "output_type": "execute_result"
    }
   ],
   "source": [
    "# most tweets do not get likes\n",
    "checker.check_zeros(df, df.columns)"
   ]
  },
  {
   "cell_type": "markdown",
   "metadata": {
    "id": "zG51Rk5bhukl"
   },
   "source": [
    "# Preprocessing"
   ]
  },
  {
   "cell_type": "markdown",
   "metadata": {
    "id": "bHtAfLxyIBGB"
   },
   "source": [
    "## Get Media list"
   ]
  },
  {
   "cell_type": "code",
   "execution_count": 19,
   "metadata": {
    "id": "UVqd5-kVIVcm"
   },
   "outputs": [
    {
     "name": "stderr",
     "output_type": "stream",
     "text": [
      "/Users/johnnywang/NEU/2022 spring/6120 NLP/final project/ukraine-russia-conflict-tweets-nlp-project/src/data/extract_media_data.py:12: GuessedAtParserWarning: No parser was explicitly specified, so I'm using the best available HTML parser for this system (\"html.parser\"). This usually isn't a problem, but if you run this code on another system, or in a different virtual environment, it may use a different parser and behave differently.\n",
      "\n",
      "The code that caused this warning is on line 12 of the file /Users/johnnywang/NEU/2022 spring/6120 NLP/final project/ukraine-russia-conflict-tweets-nlp-project/src/data/extract_media_data.py. To get rid of this warning, pass the additional argument 'features=\"html.parser\"' to the BeautifulSoup constructor.\n",
      "\n",
      "  soup = BeautifulSoup(urllib.request.urlopen(url).read())\n"
     ]
    }
   ],
   "source": [
    "url = \"https://memeburn.com/2010/09/the-100-most-influential-news-media-twitter-accounts\"\n",
    "media_account_dict = emd.get_media_dict(url)"
   ]
  },
  {
   "cell_type": "markdown",
   "metadata": {
    "id": "QfGB078qih5Y"
   },
   "source": [
    "## Filter tweets from media and ordinary people"
   ]
  },
  {
   "cell_type": "code",
   "execution_count": 20,
   "metadata": {
    "colab": {
     "base_uri": "https://localhost:8080/"
    },
    "executionInfo": {
     "elapsed": 664,
     "status": "ok",
     "timestamp": 1649792376555,
     "user": {
      "displayName": "Wang Johnny",
      "userId": "00967194380598162450"
     },
     "user_tz": 240
    },
    "id": "bvgSLPMiKEQr",
    "outputId": "ccd9d107-1450-433b-e6e0-8f32df1eb103"
   },
   "outputs": [],
   "source": [
    "media_tweets_df = df[df.username.isin(media_account_dict.values())]"
   ]
  },
  {
   "cell_type": "code",
   "execution_count": 21,
   "metadata": {},
   "outputs": [
    {
     "name": "stdout",
     "output_type": "stream",
     "text": [
      "<class 'pandas.core.frame.DataFrame'>\n",
      "Int64Index: 63 entries, 2440 to 704729\n",
      "Data columns (total 13 columns):\n",
      " #   Column          Non-Null Count  Dtype \n",
      "---  ------          --------------  ----- \n",
      " 0   index           63 non-null     int64 \n",
      " 1   userid          63 non-null     int64 \n",
      " 2   username        63 non-null     object\n",
      " 3   following       63 non-null     int64 \n",
      " 4   followers       63 non-null     int64 \n",
      " 5   totaltweets     63 non-null     int64 \n",
      " 6   usercreatedts   63 non-null     object\n",
      " 7   tweetcreatedts  63 non-null     object\n",
      " 8   retweetcount    63 non-null     int64 \n",
      " 9   text            63 non-null     object\n",
      " 10  hashtags        63 non-null     object\n",
      " 11  language        63 non-null     object\n",
      " 12  favorite_count  63 non-null     int64 \n",
      "dtypes: int64(7), object(6)\n",
      "memory usage: 6.9+ KB\n"
     ]
    }
   ],
   "source": [
    "media_tweets_df.info()"
   ]
  },
  {
   "cell_type": "markdown",
   "metadata": {
    "id": "I9qeCZ1QTu_h"
   },
   "source": [
    "Since there are not too many tweets (only 63) which were generated from the media list. We can also filter out Twitter account whose followers is larger than a threshold, for example 1 milliom."
   ]
  },
  {
   "cell_type": "code",
   "execution_count": 11,
   "metadata": {
    "colab": {
     "base_uri": "https://localhost:8080/"
    },
    "executionInfo": {
     "elapsed": 276,
     "status": "ok",
     "timestamp": 1649793879275,
     "user": {
      "displayName": "Wang Johnny",
      "userId": "00967194380598162450"
     },
     "user_tz": 240
    },
    "id": "ML4oq0U6UQyP",
    "outputId": "99907755-6dd8-4c2c-cfb9-5efdda51318c"
   },
   "outputs": [],
   "source": [
    "follower_threshold = 100000\n",
    "influencer_tweets = df[df.followers>=follower_threshold].copy()\n",
    "normal_tweets = df[df.followers>=follower_threshold].copy()"
   ]
  },
  {
   "cell_type": "code",
   "execution_count": 12,
   "metadata": {
    "id": "qp642mCeZjdH"
   },
   "outputs": [],
   "source": [
    "# convert to pandas date time for easy processing\n",
    "df['tweetcreatedts'] = pd.to_datetime(df['tweetcreatedts'])\n",
    "# reset the index\n",
    "df = df.set_index('tweetcreatedts', drop=False)"
   ]
  },
  {
   "cell_type": "code",
   "execution_count": 13,
   "metadata": {},
   "outputs": [
    {
     "data": {
      "text/html": [
       "<div>\n",
       "<style scoped>\n",
       "    .dataframe tbody tr th:only-of-type {\n",
       "        vertical-align: middle;\n",
       "    }\n",
       "\n",
       "    .dataframe tbody tr th {\n",
       "        vertical-align: top;\n",
       "    }\n",
       "\n",
       "    .dataframe thead th {\n",
       "        text-align: right;\n",
       "    }\n",
       "</style>\n",
       "<table border=\"1\" class=\"dataframe\">\n",
       "  <thead>\n",
       "    <tr style=\"text-align: right;\">\n",
       "      <th></th>\n",
       "      <th>index</th>\n",
       "      <th>userid</th>\n",
       "      <th>username</th>\n",
       "      <th>following</th>\n",
       "      <th>followers</th>\n",
       "      <th>totaltweets</th>\n",
       "      <th>usercreatedts</th>\n",
       "      <th>tweetcreatedts</th>\n",
       "      <th>retweetcount</th>\n",
       "      <th>text</th>\n",
       "      <th>hashtags</th>\n",
       "      <th>language</th>\n",
       "      <th>favorite_count</th>\n",
       "    </tr>\n",
       "    <tr>\n",
       "      <th>tweetcreatedts</th>\n",
       "      <th></th>\n",
       "      <th></th>\n",
       "      <th></th>\n",
       "      <th></th>\n",
       "      <th></th>\n",
       "      <th></th>\n",
       "      <th></th>\n",
       "      <th></th>\n",
       "      <th></th>\n",
       "      <th></th>\n",
       "      <th></th>\n",
       "      <th></th>\n",
       "      <th></th>\n",
       "    </tr>\n",
       "  </thead>\n",
       "  <tbody>\n",
       "    <tr>\n",
       "      <th>2022-01-17 00:01:05</th>\n",
       "      <td>3</td>\n",
       "      <td>16028382</td>\n",
       "      <td>WESH</td>\n",
       "      <td>353</td>\n",
       "      <td>222861</td>\n",
       "      <td>427358</td>\n",
       "      <td>2008-08-28 15:42:42</td>\n",
       "      <td>2022-01-17 00:01:05</td>\n",
       "      <td>0</td>\n",
       "      <td>Ukraine says Russia behind cyberattack in 'hyb...</td>\n",
       "      <td>[]</td>\n",
       "      <td>en</td>\n",
       "      <td>2</td>\n",
       "    </tr>\n",
       "    <tr>\n",
       "      <th>2022-01-17 00:03:00</th>\n",
       "      <td>6</td>\n",
       "      <td>16086928</td>\n",
       "      <td>komonews</td>\n",
       "      <td>2318</td>\n",
       "      <td>453474</td>\n",
       "      <td>309608</td>\n",
       "      <td>2008-09-01 19:48:55</td>\n",
       "      <td>2022-01-17 00:03:00</td>\n",
       "      <td>2</td>\n",
       "      <td>Ukraine said Sunday that Russia was behind a c...</td>\n",
       "      <td>[]</td>\n",
       "      <td>en</td>\n",
       "      <td>2</td>\n",
       "    </tr>\n",
       "    <tr>\n",
       "      <th>2022-01-17 00:03:18</th>\n",
       "      <td>7</td>\n",
       "      <td>1115874631</td>\n",
       "      <td>CGTNOfficial</td>\n",
       "      <td>74</td>\n",
       "      <td>13391764</td>\n",
       "      <td>213027</td>\n",
       "      <td>2013-01-24 03:18:59</td>\n",
       "      <td>2022-01-17 00:03:18</td>\n",
       "      <td>6</td>\n",
       "      <td>Russian troops to stay near Ukrainian border a...</td>\n",
       "      <td>[]</td>\n",
       "      <td>en</td>\n",
       "      <td>23</td>\n",
       "    </tr>\n",
       "    <tr>\n",
       "      <th>2022-01-17 00:10:00</th>\n",
       "      <td>18</td>\n",
       "      <td>16558796</td>\n",
       "      <td>7News</td>\n",
       "      <td>1151</td>\n",
       "      <td>352439</td>\n",
       "      <td>361513</td>\n",
       "      <td>2008-10-02 13:11:54</td>\n",
       "      <td>2022-01-17 00:10:00</td>\n",
       "      <td>1</td>\n",
       "      <td>Ukraine says Russia behind cyberattack in ‘hyb...</td>\n",
       "      <td>[]</td>\n",
       "      <td>en</td>\n",
       "      <td>2</td>\n",
       "    </tr>\n",
       "    <tr>\n",
       "      <th>2022-01-17 00:11:06</th>\n",
       "      <td>21</td>\n",
       "      <td>15922073</td>\n",
       "      <td>WXII</td>\n",
       "      <td>1300</td>\n",
       "      <td>129832</td>\n",
       "      <td>379847</td>\n",
       "      <td>2008-08-20 19:42:50</td>\n",
       "      <td>2022-01-17 00:11:06</td>\n",
       "      <td>0</td>\n",
       "      <td>Ukraine says Russia behind cyberattack in 'hyb...</td>\n",
       "      <td>[]</td>\n",
       "      <td>en</td>\n",
       "      <td>0</td>\n",
       "    </tr>\n",
       "    <tr>\n",
       "      <th>...</th>\n",
       "      <td>...</td>\n",
       "      <td>...</td>\n",
       "      <td>...</td>\n",
       "      <td>...</td>\n",
       "      <td>...</td>\n",
       "      <td>...</td>\n",
       "      <td>...</td>\n",
       "      <td>...</td>\n",
       "      <td>...</td>\n",
       "      <td>...</td>\n",
       "      <td>...</td>\n",
       "      <td>...</td>\n",
       "      <td>...</td>\n",
       "    </tr>\n",
       "    <tr>\n",
       "      <th>2022-01-17 23:19:04</th>\n",
       "      <td>2838</td>\n",
       "      <td>1339166129110065152</td>\n",
       "      <td>GBNEWS</td>\n",
       "      <td>43</td>\n",
       "      <td>375894</td>\n",
       "      <td>35262</td>\n",
       "      <td>2020-12-16 11:11:23</td>\n",
       "      <td>2022-01-17 23:19:04</td>\n",
       "      <td>3</td>\n",
       "      <td>📰 Dominic Frisby reads through tomorrow's fron...</td>\n",
       "      <td>[]</td>\n",
       "      <td>en</td>\n",
       "      <td>18</td>\n",
       "    </tr>\n",
       "    <tr>\n",
       "      <th>2022-01-17 23:32:44</th>\n",
       "      <td>2879</td>\n",
       "      <td>15535860</td>\n",
       "      <td>nbcsandiego</td>\n",
       "      <td>4191</td>\n",
       "      <td>252100</td>\n",
       "      <td>268044</td>\n",
       "      <td>2008-07-22 19:34:30</td>\n",
       "      <td>2022-01-17 23:32:44</td>\n",
       "      <td>1</td>\n",
       "      <td>Russia Denies Looking for Pretext to Invade Uk...</td>\n",
       "      <td>[]</td>\n",
       "      <td>en</td>\n",
       "      <td>0</td>\n",
       "    </tr>\n",
       "    <tr>\n",
       "      <th>2022-01-17 23:50:00</th>\n",
       "      <td>2914</td>\n",
       "      <td>34655603</td>\n",
       "      <td>TheSun</td>\n",
       "      <td>367</td>\n",
       "      <td>1959368</td>\n",
       "      <td>656505</td>\n",
       "      <td>2009-04-23 16:23:40</td>\n",
       "      <td>2022-01-17 23:50:00</td>\n",
       "      <td>5</td>\n",
       "      <td>Putin ‘sending ballistic missiles and snipers’...</td>\n",
       "      <td>[]</td>\n",
       "      <td>en</td>\n",
       "      <td>10</td>\n",
       "    </tr>\n",
       "    <tr>\n",
       "      <th>2022-01-17 23:52:37</th>\n",
       "      <td>2918</td>\n",
       "      <td>860123351154556928</td>\n",
       "      <td>DeadlineWH</td>\n",
       "      <td>178</td>\n",
       "      <td>390270</td>\n",
       "      <td>12609</td>\n",
       "      <td>2017-05-04 13:26:02</td>\n",
       "      <td>2022-01-17 23:52:37</td>\n",
       "      <td>70</td>\n",
       "      <td>\"I hope Putin comes to his senses because an i...</td>\n",
       "      <td>[]</td>\n",
       "      <td>en</td>\n",
       "      <td>219</td>\n",
       "    </tr>\n",
       "    <tr>\n",
       "      <th>2022-01-17 23:55:01</th>\n",
       "      <td>2924</td>\n",
       "      <td>14662354</td>\n",
       "      <td>WashTimes</td>\n",
       "      <td>1894</td>\n",
       "      <td>417857</td>\n",
       "      <td>337046</td>\n",
       "      <td>2008-05-05 17:43:25</td>\n",
       "      <td>2022-01-17 23:55:01</td>\n",
       "      <td>2</td>\n",
       "      <td>Beijing notably offered rhetorical support thi...</td>\n",
       "      <td>[]</td>\n",
       "      <td>en</td>\n",
       "      <td>4</td>\n",
       "    </tr>\n",
       "  </tbody>\n",
       "</table>\n",
       "<p>227 rows × 13 columns</p>\n",
       "</div>"
      ],
      "text/plain": [
       "                     index               userid      username  following  \\\n",
       "tweetcreatedts                                                             \n",
       "2022-01-17 00:01:05      3             16028382          WESH        353   \n",
       "2022-01-17 00:03:00      6             16086928      komonews       2318   \n",
       "2022-01-17 00:03:18      7           1115874631  CGTNOfficial         74   \n",
       "2022-01-17 00:10:00     18             16558796         7News       1151   \n",
       "2022-01-17 00:11:06     21             15922073          WXII       1300   \n",
       "...                    ...                  ...           ...        ...   \n",
       "2022-01-17 23:19:04   2838  1339166129110065152        GBNEWS         43   \n",
       "2022-01-17 23:32:44   2879             15535860   nbcsandiego       4191   \n",
       "2022-01-17 23:50:00   2914             34655603        TheSun        367   \n",
       "2022-01-17 23:52:37   2918   860123351154556928    DeadlineWH        178   \n",
       "2022-01-17 23:55:01   2924             14662354     WashTimes       1894   \n",
       "\n",
       "                     followers  totaltweets        usercreatedts  \\\n",
       "tweetcreatedts                                                     \n",
       "2022-01-17 00:01:05     222861       427358  2008-08-28 15:42:42   \n",
       "2022-01-17 00:03:00     453474       309608  2008-09-01 19:48:55   \n",
       "2022-01-17 00:03:18   13391764       213027  2013-01-24 03:18:59   \n",
       "2022-01-17 00:10:00     352439       361513  2008-10-02 13:11:54   \n",
       "2022-01-17 00:11:06     129832       379847  2008-08-20 19:42:50   \n",
       "...                        ...          ...                  ...   \n",
       "2022-01-17 23:19:04     375894        35262  2020-12-16 11:11:23   \n",
       "2022-01-17 23:32:44     252100       268044  2008-07-22 19:34:30   \n",
       "2022-01-17 23:50:00    1959368       656505  2009-04-23 16:23:40   \n",
       "2022-01-17 23:52:37     390270        12609  2017-05-04 13:26:02   \n",
       "2022-01-17 23:55:01     417857       337046  2008-05-05 17:43:25   \n",
       "\n",
       "                         tweetcreatedts  retweetcount  \\\n",
       "tweetcreatedts                                          \n",
       "2022-01-17 00:01:05 2022-01-17 00:01:05             0   \n",
       "2022-01-17 00:03:00 2022-01-17 00:03:00             2   \n",
       "2022-01-17 00:03:18 2022-01-17 00:03:18             6   \n",
       "2022-01-17 00:10:00 2022-01-17 00:10:00             1   \n",
       "2022-01-17 00:11:06 2022-01-17 00:11:06             0   \n",
       "...                                 ...           ...   \n",
       "2022-01-17 23:19:04 2022-01-17 23:19:04             3   \n",
       "2022-01-17 23:32:44 2022-01-17 23:32:44             1   \n",
       "2022-01-17 23:50:00 2022-01-17 23:50:00             5   \n",
       "2022-01-17 23:52:37 2022-01-17 23:52:37            70   \n",
       "2022-01-17 23:55:01 2022-01-17 23:55:01             2   \n",
       "\n",
       "                                                                  text  \\\n",
       "tweetcreatedts                                                           \n",
       "2022-01-17 00:01:05  Ukraine says Russia behind cyberattack in 'hyb...   \n",
       "2022-01-17 00:03:00  Ukraine said Sunday that Russia was behind a c...   \n",
       "2022-01-17 00:03:18  Russian troops to stay near Ukrainian border a...   \n",
       "2022-01-17 00:10:00  Ukraine says Russia behind cyberattack in ‘hyb...   \n",
       "2022-01-17 00:11:06  Ukraine says Russia behind cyberattack in 'hyb...   \n",
       "...                                                                ...   \n",
       "2022-01-17 23:19:04  📰 Dominic Frisby reads through tomorrow's fron...   \n",
       "2022-01-17 23:32:44  Russia Denies Looking for Pretext to Invade Uk...   \n",
       "2022-01-17 23:50:00  Putin ‘sending ballistic missiles and snipers’...   \n",
       "2022-01-17 23:52:37  \"I hope Putin comes to his senses because an i...   \n",
       "2022-01-17 23:55:01  Beijing notably offered rhetorical support thi...   \n",
       "\n",
       "                    hashtags language  favorite_count  \n",
       "tweetcreatedts                                         \n",
       "2022-01-17 00:01:05       []       en               2  \n",
       "2022-01-17 00:03:00       []       en               2  \n",
       "2022-01-17 00:03:18       []       en              23  \n",
       "2022-01-17 00:10:00       []       en               2  \n",
       "2022-01-17 00:11:06       []       en               0  \n",
       "...                      ...      ...             ...  \n",
       "2022-01-17 23:19:04       []       en              18  \n",
       "2022-01-17 23:32:44       []       en               0  \n",
       "2022-01-17 23:50:00       []       en              10  \n",
       "2022-01-17 23:52:37       []       en             219  \n",
       "2022-01-17 23:55:01       []       en               4  \n",
       "\n",
       "[227 rows x 13 columns]"
      ]
     },
     "execution_count": 13,
     "metadata": {},
     "output_type": "execute_result"
    }
   ],
   "source": [
    "date_list = [str(i) for i in np.unique(df.index.date)]\n",
    "df[df.followers>follower_threshold].loc[date_list[0]]"
   ]
  },
  {
   "cell_type": "markdown",
   "metadata": {
    "id": "2TslbhIpeQrP"
   },
   "source": [
    "## Data Split"
   ]
  },
  {
   "cell_type": "code",
   "execution_count": 19,
   "metadata": {
    "id": "UqhZjSpueQT3"
   },
   "outputs": [],
   "source": [
    "# split all the tweets to tweets per day\n",
    "date_list = [str(i) for i in np.unique(df.index.date)]\n",
    "text_dict = {}\n",
    "media_text_dict = {}\n",
    "normal_text_dict = {}\n",
    "for date in date_list:\n",
    "    text_dict[date] = list(df.loc[date].text)\n",
    "    media_text_dict[date] = list(df[df.followers>follower_threshold].loc[date].text)\n",
    "    normal_text_dict[date] = list(df[df.followers<=follower_threshold].loc[date].text)"
   ]
  },
  {
   "cell_type": "markdown",
   "metadata": {
    "id": "9e9p7qsJKEQr"
   },
   "source": [
    "## Data Cleaning"
   ]
  },
  {
   "cell_type": "code",
   "execution_count": 20,
   "metadata": {},
   "outputs": [
    {
     "name": "stderr",
     "output_type": "stream",
     "text": [
      "25it [40:04, 96.20s/it] \n"
     ]
    }
   ],
   "source": [
    "for date, media_text, normal_text in tqdm(zip(date_list, media_text_dict.values(), normal_text_dict.values())):\n",
    "    media_cleaned_text = [preprocessor.clean_message(i) for i in media_text]\n",
    "    normal_cleaned_text = [preprocessor.clean_message(i) for i in normal_text]\n",
    "    media_text_dict[date] = media_cleaned_text\n",
    "    normal_text_dict[date] = normal_cleaned_text\n",
    "    text_dict[date] = media_cleaned_text + normal_cleaned_text\n"
   ]
  },
  {
   "cell_type": "code",
   "execution_count": 45,
   "metadata": {
    "colab": {
     "base_uri": "https://localhost:8080/"
    },
    "executionInfo": {
     "elapsed": 105299,
     "status": "ok",
     "timestamp": 1649798605107,
     "user": {
      "displayName": "Wang Johnny",
      "userId": "00967194380598162450"
     },
     "user_tz": 240
    },
    "id": "1yOnoZ99kwBb",
    "outputId": "cc0422cb-cd1a-491d-8afd-ced11f9cc6fc"
   },
   "outputs": [
    {
     "name": "stderr",
     "output_type": "stream",
     "text": [
      "100%|██████████| 25/25 [00:40<00:00,  1.62s/it]\n"
     ]
    }
   ],
   "source": [
    "for date, text_list in tqdm(text_dict.items()):\n",
    "    # TODO: loop through all the text_list instead of 1000 entries\n",
    "    cleaned_text = [preprocessor.clean_message(i) for i in text_list[:1000]]\n",
    "    text_dict[date] = cleaned_text\n"
   ]
  },
  {
   "cell_type": "markdown",
   "metadata": {
    "id": "jWhsoQjPLDyr"
   },
   "source": [
    "# Modeling"
   ]
  },
  {
   "cell_type": "markdown",
   "metadata": {
    "id": "zUdiyDRWLTeu"
   },
   "source": [
    "## Baseline"
   ]
  },
  {
   "cell_type": "code",
   "execution_count": 21,
   "metadata": {
    "id": "wPOESJ0IryF4"
   },
   "outputs": [],
   "source": [
    "# let's first get the baseline model from tweets data on 01-17\n",
    "tweet_list = text_dict['2022-01-17']"
   ]
  },
  {
   "cell_type": "code",
   "execution_count": 22,
   "metadata": {
    "colab": {
     "base_uri": "https://localhost:8080/"
    },
    "executionInfo": {
     "elapsed": 107,
     "status": "ok",
     "timestamp": 1649799031287,
     "user": {
      "displayName": "Wang Johnny",
      "userId": "00967194380598162450"
     },
     "user_tz": 240
    },
    "id": "V_bdEsnPe74h",
    "outputId": "4dcf0869-67df-4506-b6d1-887a60c58f07"
   },
   "outputs": [],
   "source": [
    "vectorizer = CountVectorizer(\n",
    "analyzer='word',       \n",
    "min_df=3,# minimum required occurences of a word \n",
    "lowercase=True,# convert all words to lowercase\n",
    "token_pattern='[a-zA-Z0-9]{3,}',# num chars > 3\n",
    "max_features=5000,# max number of unique words\n",
    "                            )\n",
    "data_matrix = vectorizer.fit_transform(tweet_list)"
   ]
  },
  {
   "cell_type": "code",
   "execution_count": 23,
   "metadata": {
    "id": "Eu1W-nple-fU"
   },
   "outputs": [],
   "source": [
    "# I will use LDA to create topics along with the probability distribution for each word in our vocabulary for each topic\n",
    "lda_model = LatentDirichletAllocation(\n",
    "n_components=5, # Number of topics\n",
    "learning_method='online',\n",
    "random_state=20,       \n",
    "n_jobs = -1  # Use all available CPUs\n",
    "                                     )\n",
    "lda_output = lda_model.fit_transform(data_matrix)"
   ]
  },
  {
   "cell_type": "markdown",
   "metadata": {
    "id": "9ndigpY2LPeS"
   },
   "source": [
    "## Evaluation"
   ]
  },
  {
   "cell_type": "code",
   "execution_count": 24,
   "metadata": {
    "colab": {
     "base_uri": "https://localhost:8080/"
    },
    "executionInfo": {
     "elapsed": 2220,
     "status": "ok",
     "timestamp": 1649801415716,
     "user": {
      "displayName": "Wang Johnny",
      "userId": "00967194380598162450"
     },
     "user_tz": 240
    },
    "id": "XkwTwL_50pTz",
    "outputId": "71178916-ceeb-4de7-90af-70e82a5f0393"
   },
   "outputs": [
    {
     "name": "stdout",
     "output_type": "stream",
     "text": [
      "Log Likelihood:  -312682.32767904125\n",
      "Perplexity:  806.2552006106661\n",
      "{'batch_size': 128,\n",
      " 'doc_topic_prior': None,\n",
      " 'evaluate_every': -1,\n",
      " 'learning_decay': 0.7,\n",
      " 'learning_method': 'online',\n",
      " 'learning_offset': 10.0,\n",
      " 'max_doc_update_iter': 100,\n",
      " 'max_iter': 10,\n",
      " 'mean_change_tol': 0.001,\n",
      " 'n_components': 5,\n",
      " 'n_jobs': -1,\n",
      " 'perp_tol': 0.1,\n",
      " 'random_state': 20,\n",
      " 'topic_word_prior': None,\n",
      " 'total_samples': 1000000.0,\n",
      " 'verbose': 0}\n"
     ]
    }
   ],
   "source": [
    "# Log Likelyhood: Higher the better\n",
    "print(\"Log Likelihood: \", lda_model.score(data_matrix))\n",
    "\n",
    "# Perplexity: Lower the better. Perplexity = exp(-1. * log-likelihood per word)\n",
    "print(\"Perplexity: \", lda_model.perplexity(data_matrix))\n",
    "\n",
    "# See model parameters\n",
    "pprint(lda_model.get_params())"
   ]
  },
  {
   "cell_type": "markdown",
   "metadata": {
    "id": "pMncQdmf1DEL"
   },
   "source": [
    "## Visualization"
   ]
  },
  {
   "cell_type": "code",
   "execution_count": 25,
   "metadata": {
    "colab": {
     "base_uri": "https://localhost:8080/",
     "height": 1000
    },
    "executionInfo": {
     "elapsed": 2874,
     "status": "ok",
     "timestamp": 1649799362112,
     "user": {
      "displayName": "Wang Johnny",
      "userId": "00967194380598162450"
     },
     "user_tz": 240
    },
    "id": "SKVKYh5YfBCT",
    "outputId": "c6d14f2f-8837-46f2-ea62-8c881e14fda2"
   },
   "outputs": [
    {
     "name": "stderr",
     "output_type": "stream",
     "text": [
      "/opt/homebrew/lib/python3.9/site-packages/sklearn/utils/deprecation.py:87: FutureWarning: Function get_feature_names is deprecated; get_feature_names is deprecated in 1.0 and will be removed in 1.2. Please use get_feature_names_out instead.\n",
      "  warnings.warn(msg, category=FutureWarning)\n",
      "/opt/homebrew/lib/python3.9/site-packages/pyLDAvis/_prepare.py:246: FutureWarning: In a future version of pandas all arguments of DataFrame.drop except for the argument 'labels' will be keyword-only.\n",
      "  default_term_info = default_term_info.sort_values(\n",
      "/opt/homebrew/lib/python3.9/site-packages/past/builtins/misc.py:45: DeprecationWarning: the imp module is deprecated in favour of importlib; see the module's documentation for alternative uses\n",
      "  from imp import reload\n",
      "/opt/homebrew/lib/python3.9/site-packages/past/builtins/misc.py:45: DeprecationWarning: the imp module is deprecated in favour of importlib; see the module's documentation for alternative uses\n",
      "  from imp import reload\n",
      "/opt/homebrew/lib/python3.9/site-packages/past/builtins/misc.py:45: DeprecationWarning: the imp module is deprecated in favour of importlib; see the module's documentation for alternative uses\n",
      "  from imp import reload\n",
      "/opt/homebrew/lib/python3.9/site-packages/past/builtins/misc.py:45: DeprecationWarning: the imp module is deprecated in favour of importlib; see the module's documentation for alternative uses\n",
      "  from imp import reload\n",
      "/opt/homebrew/lib/python3.9/site-packages/past/builtins/misc.py:45: DeprecationWarning: the imp module is deprecated in favour of importlib; see the module's documentation for alternative uses\n",
      "  from imp import reload\n",
      "/opt/homebrew/lib/python3.9/site-packages/past/builtins/misc.py:45: DeprecationWarning: the imp module is deprecated in favour of importlib; see the module's documentation for alternative uses\n",
      "  from imp import reload\n",
      "/opt/homebrew/lib/python3.9/site-packages/past/builtins/misc.py:45: DeprecationWarning: the imp module is deprecated in favour of importlib; see the module's documentation for alternative uses\n",
      "  from imp import reload\n",
      "/opt/homebrew/lib/python3.9/site-packages/past/builtins/misc.py:45: DeprecationWarning: the imp module is deprecated in favour of importlib; see the module's documentation for alternative uses\n",
      "  from imp import reload\n",
      "/opt/homebrew/lib/python3.9/site-packages/sklearn/manifold/_t_sne.py:780: FutureWarning: The default initialization in TSNE will change from 'random' to 'pca' in 1.2.\n",
      "  warnings.warn(\n",
      "/opt/homebrew/lib/python3.9/site-packages/sklearn/manifold/_t_sne.py:790: FutureWarning: The default learning rate in TSNE will change from 200.0 to 'auto' in 1.2.\n",
      "  warnings.warn(\n",
      "/opt/homebrew/lib/python3.9/site-packages/sklearn/manifold/_t_sne.py:819: FutureWarning: 'square_distances' has been introduced in 0.24 to help phase out legacy squaring behavior. The 'legacy' setting will be removed in 1.1 (renaming of 0.26), and the default setting will be changed to True. In 1.3, 'square_distances' will be removed altogether, and distances will be squared by default. Set 'square_distances'=True to silence this warning.\n",
      "  warnings.warn(\n"
     ]
    },
    {
     "data": {
      "text/html": [
       "\n",
       "<link rel=\"stylesheet\" type=\"text/css\" href=\"https://cdn.jsdelivr.net/gh/bmabey/pyLDAvis@3.3.1/pyLDAvis/js/ldavis.v1.0.0.css\">\n",
       "\n",
       "\n",
       "<div id=\"ldavis_el57872126999271522444500077\"></div>\n",
       "<script type=\"text/javascript\">\n",
       "\n",
       "var ldavis_el57872126999271522444500077_data = {\"mdsDat\": {\"x\": [150.22215270996094, 51.16336441040039, -73.1445541381836, -66.4101333618164, 54.41732406616211], \"y\": [-72.2695541381836, -159.968017578125, 21.523815155029297, -110.60643768310547, 12.44344425201416], \"topics\": [1, 2, 3, 4, 5], \"cluster\": [1, 1, 1, 1, 1], \"Freq\": [32.908217008756786, 23.85960470363924, 18.24015825053748, 17.097687006134244, 7.894333030932259]}, \"tinfo\": {\"Term\": [\"russia\", \"invad\", \"war\", \"nato\", \"europ\", \"crisi\", \"ukrain\", \"invas\", \"look\", \"germani\", \"move\", \"border\", \"russiaukrain\", \"fear\", \"belaru\", \"whi\", \"pretext\", \"sweden\", \"deni\", \"say\", \"missil\", \"troop\", \"weapon\", \"near\", \"amp\", \"cyberattack\", \"decad\", \"behind\", \"state\", \"exercis\", \"dont\", \"make\", \"defend\", \"alreadi\", \"thing\", \"put\", \"still\", \"you\", \"help\", \"cant\", \"ask\", \"secretari\", \"global\", \"econom\", \"front\", \"decid\", \"donba\", \"lot\", \"soldier\", \"air\", \"your\", \"here\", \"care\", \"all\", \"democraci\", \"johnson\", \"afghanistan\", \"parti\", \"made\", \"after\", \"back\", \"need\", \"one\", \"defenc\", \"think\", \"west\", \"train\", \"know\", \"understand\", \"want\", \"but\", \"seem\", \"would\", \"year\", \"defens\", \"see\", \"and\", \"doesnt\", \"peopl\", \"war\", \"get\", \"start\", \"ukrain\", \"russian\", \"like\", \"forc\", \"putin\", \"the\", \"troop\", \"nato\", \"russia\", \"weapon\", \"take\", \"militari\", \"look\", \"invas\", \"deni\", \"there\", \"crimea\", \"flag\", \"germani\", \"fals\", \"toler\", \"spokesman\", \"amid\", \"gradual\", \"soviet\", \"interest\", \"realli\", \"pressur\", \"invit\", \"stay\", \"current\", \"refus\", \"union\", \"lead\", \"issu\", \"option\", \"posit\", \"find\", \"without\", \"peskov\", \"within\", \"someth\", \"kremlin\", \"invad\", \"pretext\", \"situat\", \"russia\", \"warn\", \"right\", \"ukrain\", \"nato\", \"putin\", \"europ\", \"ukrainian\", \"russian\", \"say\", \"usa\", \"troop\", \"border\", \"near\", \"war\", \"could\", \"like\", \"amp\", \"militari\", \"would\", \"missil\", \"behind\", \"exercis\", \"move\", \"reject\", \"hybrid\", \"joint\", \"threaten\", \"drill\", \"angrili\", \"believ\", \"georgia\", \"prevent\", \"remain\", \"away\", \"live\", \"didnt\", \"senat\", \"sniper\", \"ballist\", \"close\", \"monday\", \"februari\", \"poroshenko\", \"north\", \"cyberattack\", \"land\", \"ww3\", \"korea\", \"airspac\", \"avoid\", \"taiwan\", \"concentr\", \"belaru\", \"give\", \"top\", \"border\", \"presid\", \"alleg\", \"russia\", \"ukrain\", \"war\", \"china\", \"troop\", \"near\", \"via\", \"new\", \"say\", \"russian\", \"invad\", \"diplomat\", \"prepar\", \"nato\", \"the\", \"pretext\", \"countri\", \"amp\", \"cyber\", \"isnt\", \"stand\", \"cooper\", \"agreement\", \"neighbor\", \"accus\", \"propaganda\", \"belarusian\", \"share\", \"intern\", \"rule\", \"lukashenko\", \"bwallacemp\", \"month\", \"command\", \"wouldnt\", \"recent\", \"negoti\", \"howev\", \"enhanc\", \"wage\", \"offer\", \"capabl\", \"play\", \"agenc\", \"expand\", \"deepen\", \"piec\", \"price\", \"evid\", \"next\", \"sign\", \"ever\", \"support\", \"amp\", \"said\", \"includ\", \"join\", \"nato\", \"govern\", \"allianc\", \"attack\", \"militari\", \"ukrain\", \"nation\", \"western\", \"the\", \"membership\", \"read\", \"today\", \"thi\", \"come\", \"forc\", \"russia\", \"alli\", \"arm\", \"continu\", \"state\", \"ukrainian\", \"border\", \"putin\", \"time\", \"countri\", \"russiaukrain\", \"sweden\", \"baltic\", \"decad\", \"brussel\", \"region\", \"closest\", \"soon\", \"chanc\", \"two\", \"nazi\", \"ambassador\", \"worri\", \"import\", \"gotland\", \"nearli\", \"watch\", \"over\", \"crisi\", \"percent\", \"strateg\", \"island\", \"minist\", \"drone\", \"raf\", \"attent\", \"solidar\", \"antitank\", \"partyg\", \"borisjohnson\", \"bbc\", \"fear\", \"whi\", \"republican\", \"finland\", \"europ\", \"foreign\", \"major\", \"nuclear\", \"war\", \"weapon\", \"state\", \"respons\", \"ukrain\", \"tension\"], \"Freq\": [1779.0, 571.0, 1015.0, 1194.0, 192.0, 114.0, 2832.0, 180.0, 173.0, 174.0, 136.0, 505.0, 75.0, 90.0, 147.0, 85.0, 191.0, 64.0, 116.0, 214.0, 85.0, 576.0, 140.0, 151.0, 315.0, 80.0, 48.0, 70.0, 122.0, 68.0, 104.01325652358429, 76.77996703580857, 67.47913093586567, 55.87682563779553, 54.848502951383786, 50.77081132872982, 44.186415623021844, 44.23770563500223, 91.5006110292584, 41.519026186175275, 37.36284276044707, 36.452241431171394, 32.64221224737462, 32.25618153225855, 31.599696518297307, 30.905930009894316, 29.957545890140356, 29.0133045451503, 29.903892322943932, 25.59348062790921, 24.915070380390684, 23.67292714004426, 22.86592027196258, 22.735923758955888, 22.868207829329183, 22.3956310658948, 24.500176314786312, 21.77649866664383, 22.159669104061937, 21.120123206446802, 72.81904074952463, 128.54849079756679, 112.83738782159159, 47.35585349817309, 93.03087632567158, 119.63090058647869, 51.43903703264641, 72.38995282344604, 27.92765745639933, 157.42657388687124, 76.83065289505983, 44.0401130604568, 180.57391674636796, 71.08599952685327, 64.86637136023012, 68.39632669446465, 66.69665134285918, 64.99031067130899, 75.49094771589999, 465.001219709251, 81.65286800501403, 70.92880560556986, 717.7084040879037, 270.9935863319917, 106.27591512493323, 95.13354167572611, 171.62096671017713, 157.68273090842263, 174.51941611830912, 232.19039336894656, 271.18860084578233, 78.66731009827879, 69.31065206315292, 70.37272863028879, 172.6166489935395, 179.59864424902472, 116.07266649793438, 76.93919703875325, 49.026061932444236, 47.75229645504878, 171.95107455369964, 47.02685850474256, 46.27120792201845, 44.62704336733749, 45.21836902853891, 42.04537964345916, 41.6002436084688, 32.95194980967795, 43.56573845140018, 30.592684829975184, 31.763634251411602, 30.295100119177263, 29.648127287890862, 29.5594386777854, 26.28509727027944, 27.653138615464314, 31.637598339884022, 26.240984942898738, 26.71537682933788, 23.72660845226206, 23.773626147064885, 21.051511941626085, 20.45996138162578, 20.334404306737753, 70.22414760586688, 408.4917519167667, 144.1211673587949, 42.20163449193037, 815.1012580504131, 48.3763567838244, 66.14783783273239, 844.0130311012977, 438.6293026332978, 192.71295028015433, 106.50331978749077, 94.76736543886378, 242.15569240374458, 106.01477597854216, 46.01176192877719, 177.9734738539066, 123.77949659180211, 67.03779387631205, 108.42619751179525, 57.66951197424794, 61.37666973676516, 58.88106083479238, 52.35795438281253, 48.14957013423092, 85.15004821130374, 70.14196302301185, 67.94361220069473, 134.90254937197676, 60.332564612892, 67.19840105583758, 50.59494192234299, 61.01789606682448, 43.02635135515848, 37.531154975142194, 38.32351897891513, 34.51746263184421, 33.83807307585809, 32.151532027796456, 32.25213885710392, 32.26976853338595, 30.7192725351204, 30.963903221533055, 28.079665173900853, 26.913537624215017, 28.664053155483476, 26.37208580083753, 22.918400523458143, 22.056499326544294, 22.95834053295649, 77.31968973865112, 24.579594916591468, 19.28309557176391, 18.35514005134943, 19.368031674099516, 20.647996294113792, 44.37128649083565, 24.58442823062599, 117.92296742369338, 53.475889103624716, 40.25837153765076, 264.9054960150509, 50.628247641312726, 42.5542042559399, 530.964951553154, 701.5224692246479, 292.998543135968, 55.97946718149615, 198.19670834037106, 82.85357466388861, 67.57697608367006, 70.81082249393397, 92.36682135668761, 151.62857845765765, 131.36261434681688, 44.010840078081124, 53.12554619694658, 96.14087441645268, 62.81463347674989, 46.4473732895987, 46.1951778186905, 46.47162671346528, 54.83903528467279, 58.840779113397296, 45.28186227231589, 50.80472427093695, 31.28413383124172, 27.09105833939714, 24.031376155892456, 22.874240597214353, 22.410279393736804, 21.028461083884537, 25.85316997970555, 20.61445872329489, 23.895440879118862, 19.887340363968747, 19.58582436349974, 18.953271315792975, 18.534827142369842, 18.181088410502806, 16.53323207108468, 16.370011410292904, 16.16128077450546, 16.347406213961847, 15.782946516962346, 15.653340094203957, 15.792655028671073, 15.071738230218019, 15.078487626746018, 15.284660382331346, 14.61683815753183, 14.032496273718218, 15.128914757820004, 31.020132639273097, 44.82303216828537, 22.727066324279317, 80.04003131372741, 152.49072837249318, 57.1056389157411, 38.71054495187628, 66.26691179382748, 410.5709298557288, 52.242617418047686, 34.32964629018691, 63.92141717062524, 104.49411234479953, 508.0899257359021, 42.47284773241948, 39.277910341656266, 123.28368065151183, 29.015293599809887, 28.26833735327234, 31.325265338093335, 51.75243571480351, 36.09899232729598, 53.780176005329, 145.30000677733608, 39.90162112436988, 40.31081986827329, 34.22135139727978, 39.92578276172549, 43.41446324662856, 56.02941294837892, 49.880043684961514, 38.567525941432706, 39.79521479244568, 74.93682620828972, 64.02830285303912, 42.41241500557554, 47.47259931016666, 39.28702475767735, 39.307768063775896, 37.294437617008555, 33.51054362107453, 30.555461486368053, 29.543124564006014, 28.159749419278977, 23.969302057631555, 19.745575902523626, 19.545981122357738, 18.658092756270662, 18.78359406086603, 17.148643488669386, 16.077203795874787, 109.02105173151472, 15.5756010476591, 15.117707347891622, 12.132563489131089, 33.60575139743223, 10.622043908303613, 10.447331705660586, 10.458713042808743, 10.01831595052154, 10.074274373791116, 9.950079488345555, 9.59533718754285, 12.692271979653473, 71.04963770643806, 62.99932436199989, 10.500399341623767, 22.049973549077645, 85.49333014294058, 29.417091581139612, 27.81276894978444, 27.482008019455108, 114.51318314943431, 35.098745437842275, 30.6762570916652, 21.209351640715216, 61.335350729923036, 21.242212720484574], \"Total\": [1779.0, 571.0, 1015.0, 1194.0, 192.0, 114.0, 2832.0, 180.0, 173.0, 174.0, 136.0, 505.0, 75.0, 90.0, 147.0, 85.0, 191.0, 64.0, 116.0, 214.0, 85.0, 576.0, 140.0, 151.0, 315.0, 80.0, 48.0, 70.0, 122.0, 68.0, 104.94367092828513, 77.55240965717044, 68.28419402880013, 56.65019995159994, 55.62084633754408, 51.54597509555533, 44.95937412762236, 45.01351120219716, 93.18645405049774, 42.29393577647097, 38.136010658162704, 37.225670781506984, 33.42149022579431, 33.031987077002896, 32.381075549243405, 31.697585588027064, 30.740551978520536, 29.78195769048298, 30.706977462024224, 26.369279929669897, 25.684672095437595, 24.45063348639672, 23.63924767393165, 23.506861655068324, 23.649729082418077, 23.17423402990053, 25.3762136431012, 22.5552355832106, 22.966898569091885, 21.895161996604987, 77.32723060892066, 141.25218724131534, 125.99788424499421, 50.8874372299559, 104.21843739811011, 136.26783501928085, 56.02872132538396, 81.86044477573734, 29.254244069974792, 201.5079090860053, 91.5927056652571, 48.72757813733552, 246.61461390713714, 84.6175206269463, 76.76317359981739, 81.96963062975212, 81.09890467487423, 79.1973548381552, 96.86349597706992, 1015.5495831054689, 112.55615847305897, 95.1680860329944, 2832.669180879674, 706.0070279574943, 184.4030647140354, 157.0789214982447, 435.7876650624558, 382.1943296115964, 576.9188267315444, 1194.9361074611318, 1779.219909288742, 140.15603459025007, 95.78262880542164, 253.06128709081554, 173.40066819457886, 180.7144241784983, 116.83888856741753, 77.71619526542075, 49.8094464455109, 48.52127866623717, 174.75641525986012, 47.79588632847899, 47.034336971573914, 45.39045315187162, 46.01647938064827, 42.80812511696227, 42.37293604065267, 33.752391342249986, 44.637486348325524, 31.36766650052712, 32.57555086048063, 31.070996807638995, 30.435012624552755, 30.35707516612395, 27.054334500906908, 28.464170743972257, 32.57281589335979, 27.022130522274033, 27.572987936967074, 24.502634176702408, 24.561068031469713, 21.827780851060055, 21.24217477073026, 21.11546609676122, 75.94703098706282, 571.7116971248129, 191.1466366447157, 47.744897260491186, 1779.219909288742, 58.260334735909936, 89.84842927502298, 2832.669180879674, 1194.9361074611318, 435.7876650624558, 192.65116539064528, 169.62410263376646, 706.0070279574943, 214.85788092326553, 59.10173589906012, 576.9188267315444, 505.3161682161489, 151.75834627145974, 1015.5495831054689, 129.3478795768871, 184.4030647140354, 315.7057831503736, 253.06128709081554, 246.61461390713714, 85.9232661528642, 70.93312947678933, 68.71471231937619, 136.47192154030475, 61.101656196409216, 68.07869712049687, 51.36276965756632, 62.06346754307029, 43.795244150874694, 38.29587013587108, 39.11848213164407, 35.316690951958776, 34.648433820227545, 32.93681718725695, 33.04172234641889, 33.082347311089755, 31.50157258144064, 31.770302425727238, 28.8445623455069, 27.680956285079507, 29.49406377500477, 27.150146983308172, 23.707971500781643, 22.83304688032055, 23.788922635144555, 80.15556539043338, 25.497310772829028, 20.058134872312568, 19.138034585900595, 20.209915050451492, 21.61700783592542, 48.36851201854333, 26.007947719499477, 147.8183715498694, 62.14598888562288, 46.52430463450049, 505.3161682161489, 64.98677765624296, 52.72120934406944, 1779.219909288742, 2832.669180879674, 1015.5495831054689, 82.25485963574249, 576.9188267315444, 151.75834627145974, 113.18449073883514, 132.91156009088616, 214.85788092326553, 706.0070279574943, 571.7116971248129, 59.639487778045364, 102.15035624760164, 1194.9361074611318, 382.1943296115964, 191.1466366447157, 174.87357303394305, 315.7057831503736, 55.66415676470731, 59.770026211927146, 46.05121779661797, 51.80867124341304, 32.05185118759527, 27.864506345857897, 24.802522296187547, 23.64666496872051, 23.179662393636498, 21.798769594090984, 26.818906216482528, 21.39311059365055, 24.818913138307593, 20.656057699465407, 20.359787845155317, 19.723056155471596, 19.309886471566784, 18.95558846044104, 17.30489373594681, 17.140801342596973, 16.922749495728812, 17.12208306408942, 16.554079238570527, 16.4231765092498, 16.569595188417626, 15.83521748571673, 15.85239179018943, 16.07540915832478, 15.383311036016895, 14.80249090077601, 16.004609140138122, 33.995265966566485, 54.770276751306696, 25.625058244655637, 128.39228708443483, 315.7057831503736, 88.19481357305868, 53.33822992605765, 108.32449656652787, 1194.9361074611318, 81.27257685493555, 47.64088383512808, 117.43082619587025, 253.06128709081554, 2832.669180879674, 67.62921347217178, 59.964209833799465, 382.1943296115964, 38.41830455228961, 37.38006462422696, 45.544260818615896, 129.35304688367, 62.13740951030431, 157.0789214982447, 1779.219909288742, 85.87212232016203, 90.21479824642317, 61.94426128198411, 122.68913461077219, 169.62410263376646, 505.3161682161489, 435.7876650624558, 110.80779016876886, 174.87357303394305, 75.6989132006868, 64.79430304541162, 43.183984447047685, 48.39684392700205, 40.05279329570354, 40.08226900738379, 38.05444666398694, 34.28581699870967, 31.330162865810507, 30.318127448763715, 28.93657307968157, 24.734237429870703, 20.517700044671503, 20.326116543931352, 19.420223033600244, 19.572684303805328, 17.946182724209535, 16.840076668469106, 114.29058236025293, 16.33570779969908, 15.894362994436424, 12.897177921635, 35.947199209004935, 11.393332756286721, 11.218519356527132, 11.236247993938571, 10.786401106795493, 10.853471584472716, 10.722235500013142, 10.365281360085808, 13.82455757980946, 90.43240104725363, 85.16703625626734, 11.396361078546516, 30.677298379257756, 192.65116539064528, 50.385100309093175, 52.597329376555834, 57.58151883513798, 1015.5495831054689, 140.15603459025007, 122.68913461077219, 41.02203972518721, 2832.669180879674, 55.607395650605085], \"Category\": [\"Default\", \"Default\", \"Default\", \"Default\", \"Default\", \"Default\", \"Default\", \"Default\", \"Default\", \"Default\", \"Default\", \"Default\", \"Default\", \"Default\", \"Default\", \"Default\", \"Default\", \"Default\", \"Default\", \"Default\", \"Default\", \"Default\", \"Default\", \"Default\", \"Default\", \"Default\", \"Default\", \"Default\", \"Default\", \"Default\", \"Topic1\", \"Topic1\", \"Topic1\", \"Topic1\", \"Topic1\", \"Topic1\", \"Topic1\", \"Topic1\", \"Topic1\", \"Topic1\", \"Topic1\", \"Topic1\", \"Topic1\", \"Topic1\", \"Topic1\", \"Topic1\", \"Topic1\", \"Topic1\", \"Topic1\", \"Topic1\", \"Topic1\", \"Topic1\", \"Topic1\", \"Topic1\", \"Topic1\", \"Topic1\", \"Topic1\", \"Topic1\", \"Topic1\", \"Topic1\", \"Topic1\", \"Topic1\", \"Topic1\", \"Topic1\", \"Topic1\", \"Topic1\", \"Topic1\", \"Topic1\", \"Topic1\", \"Topic1\", \"Topic1\", \"Topic1\", \"Topic1\", \"Topic1\", \"Topic1\", \"Topic1\", \"Topic1\", \"Topic1\", \"Topic1\", \"Topic1\", \"Topic1\", \"Topic1\", \"Topic1\", \"Topic1\", \"Topic1\", \"Topic1\", \"Topic1\", \"Topic1\", \"Topic1\", \"Topic1\", \"Topic1\", \"Topic1\", \"Topic1\", \"Topic1\", \"Topic2\", \"Topic2\", \"Topic2\", \"Topic2\", \"Topic2\", \"Topic2\", \"Topic2\", \"Topic2\", \"Topic2\", \"Topic2\", \"Topic2\", \"Topic2\", \"Topic2\", \"Topic2\", \"Topic2\", \"Topic2\", \"Topic2\", \"Topic2\", \"Topic2\", \"Topic2\", \"Topic2\", \"Topic2\", \"Topic2\", \"Topic2\", \"Topic2\", \"Topic2\", \"Topic2\", \"Topic2\", \"Topic2\", \"Topic2\", \"Topic2\", \"Topic2\", \"Topic2\", \"Topic2\", \"Topic2\", \"Topic2\", \"Topic2\", \"Topic2\", \"Topic2\", \"Topic2\", \"Topic2\", \"Topic2\", \"Topic2\", \"Topic2\", \"Topic2\", \"Topic2\", \"Topic2\", \"Topic2\", \"Topic2\", \"Topic2\", \"Topic2\", \"Topic2\", \"Topic2\", \"Topic2\", \"Topic3\", \"Topic3\", \"Topic3\", \"Topic3\", \"Topic3\", \"Topic3\", \"Topic3\", \"Topic3\", \"Topic3\", \"Topic3\", \"Topic3\", \"Topic3\", \"Topic3\", \"Topic3\", \"Topic3\", \"Topic3\", \"Topic3\", \"Topic3\", \"Topic3\", \"Topic3\", \"Topic3\", \"Topic3\", \"Topic3\", \"Topic3\", \"Topic3\", \"Topic3\", \"Topic3\", \"Topic3\", \"Topic3\", \"Topic3\", \"Topic3\", \"Topic3\", \"Topic3\", \"Topic3\", \"Topic3\", \"Topic3\", \"Topic3\", \"Topic3\", \"Topic3\", \"Topic3\", \"Topic3\", \"Topic3\", \"Topic3\", \"Topic3\", \"Topic3\", \"Topic3\", \"Topic3\", \"Topic3\", \"Topic3\", \"Topic3\", \"Topic3\", \"Topic3\", \"Topic3\", \"Topic3\", \"Topic3\", \"Topic3\", \"Topic3\", \"Topic4\", \"Topic4\", \"Topic4\", \"Topic4\", \"Topic4\", \"Topic4\", \"Topic4\", \"Topic4\", \"Topic4\", \"Topic4\", \"Topic4\", \"Topic4\", \"Topic4\", \"Topic4\", \"Topic4\", \"Topic4\", \"Topic4\", \"Topic4\", \"Topic4\", \"Topic4\", \"Topic4\", \"Topic4\", \"Topic4\", \"Topic4\", \"Topic4\", \"Topic4\", \"Topic4\", \"Topic4\", \"Topic4\", \"Topic4\", \"Topic4\", \"Topic4\", \"Topic4\", \"Topic4\", \"Topic4\", \"Topic4\", \"Topic4\", \"Topic4\", \"Topic4\", \"Topic4\", \"Topic4\", \"Topic4\", \"Topic4\", \"Topic4\", \"Topic4\", \"Topic4\", \"Topic4\", \"Topic4\", \"Topic4\", \"Topic4\", \"Topic4\", \"Topic4\", \"Topic4\", \"Topic4\", \"Topic4\", \"Topic4\", \"Topic4\", \"Topic4\", \"Topic4\", \"Topic4\", \"Topic4\", \"Topic4\", \"Topic4\", \"Topic4\", \"Topic5\", \"Topic5\", \"Topic5\", \"Topic5\", \"Topic5\", \"Topic5\", \"Topic5\", \"Topic5\", \"Topic5\", \"Topic5\", \"Topic5\", \"Topic5\", \"Topic5\", \"Topic5\", \"Topic5\", \"Topic5\", \"Topic5\", \"Topic5\", \"Topic5\", \"Topic5\", \"Topic5\", \"Topic5\", \"Topic5\", \"Topic5\", \"Topic5\", \"Topic5\", \"Topic5\", \"Topic5\", \"Topic5\", \"Topic5\", \"Topic5\", \"Topic5\", \"Topic5\", \"Topic5\", \"Topic5\", \"Topic5\", \"Topic5\", \"Topic5\", \"Topic5\", \"Topic5\", \"Topic5\", \"Topic5\", \"Topic5\", \"Topic5\", \"Topic5\"], \"logprob\": [30.0, 29.0, 28.0, 27.0, 26.0, 25.0, 24.0, 23.0, 22.0, 21.0, 20.0, 19.0, 18.0, 17.0, 16.0, 15.0, 14.0, 13.0, 12.0, 11.0, 10.0, 9.0, 8.0, 7.0, 6.0, 5.0, 4.0, 3.0, 2.0, 1.0, -4.996, -5.2996, -5.4287, -5.6174, -5.6359, -5.7132, -5.8521, -5.8509, -5.1242, -5.9144, -6.0198, -6.0445, -6.1549, -6.1668, -6.1874, -6.2096, -6.2407, -6.2728, -6.2425, -6.3982, -6.425, -6.4762, -6.5109, -6.5166, -6.5108, -6.5317, -6.4418, -6.5597, -6.5422, -6.5903, -5.3525, -4.7842, -4.9146, -5.7828, -5.1076, -4.8561, -5.7001, -5.3585, -6.3109, -4.5816, -5.2989, -5.8554, -4.4444, -5.3766, -5.4682, -5.4152, -5.4404, -5.4663, -5.3165, -3.4985, -5.238, -5.3788, -3.0645, -4.0384, -4.9745, -5.0852, -4.4952, -4.5799, -4.4785, -4.193, -4.0377, -5.2753, -5.4019, -5.3867, -4.1679, -4.1283, -4.5648, -4.976, -5.4266, -5.453, -4.1718, -5.4683, -5.4845, -5.5206, -5.5075, -5.5802, -5.5909, -5.8239, -5.5447, -5.8982, -5.8607, -5.908, -5.9296, -5.9326, -6.05, -5.9992, -5.8646, -6.0517, -6.0337, -6.1524, -6.1504, -6.272, -6.3005, -6.3067, -5.0673, -3.3065, -4.3483, -5.5765, -2.6157, -5.44, -5.1271, -2.5808, -3.2353, -4.0578, -4.6508, -4.7676, -3.8294, -4.6554, -5.4901, -4.1374, -4.5005, -5.1137, -4.6329, -5.2643, -5.202, -5.2435, -5.3609, -5.4447, -4.606, -4.7999, -4.8317, -4.1459, -4.9506, -4.8428, -5.1266, -4.9393, -5.2886, -5.4253, -5.4044, -5.509, -5.5288, -5.58, -5.5768, -5.5763, -5.6255, -5.6176, -5.7154, -5.7578, -5.6948, -5.7781, -5.9185, -5.9568, -5.9167, -4.7025, -5.8485, -6.0912, -6.1405, -6.0868, -6.0228, -5.2578, -5.8483, -4.2804, -5.0712, -5.3551, -3.4711, -5.1259, -5.2996, -2.7757, -2.4972, -3.3703, -5.0254, -3.7612, -4.6334, -4.8372, -4.7904, -4.5247, -4.029, -4.1725, -5.266, -5.0778, -4.4846, -4.9102, -5.2121, -5.2176, -5.2116, -4.9813, -4.9109, -5.1728, -5.0578, -5.5426, -5.6865, -5.8064, -5.8557, -5.8762, -5.9399, -5.7333, -5.9598, -5.8121, -5.9957, -6.0109, -6.0438, -6.0661, -6.0854, -6.1804, -6.1903, -6.2031, -6.1917, -6.2268, -6.2351, -6.2262, -6.2729, -6.2725, -6.2589, -6.3036, -6.3444, -6.2691, -5.5511, -5.183, -5.8622, -4.6032, -3.9586, -4.9408, -5.3296, -4.7921, -2.9682, -5.0298, -5.4497, -4.8281, -4.3366, -2.7551, -5.2369, -5.3151, -4.1713, -5.6179, -5.644, -5.5413, -5.0393, -5.3995, -5.0008, -4.0069, -5.2993, -5.2891, -5.4529, -5.2987, -5.215, -4.9599, -5.0761, -5.3333, -5.302, -3.8963, -4.0536, -4.4655, -4.3528, -4.5421, -4.5415, -4.5941, -4.7011, -4.7934, -4.8271, -4.8751, -5.0362, -5.23, -5.2402, -5.2867, -5.28, -5.371, -5.4355, -3.5214, -5.4672, -5.4971, -5.7171, -4.6982, -5.85, -5.8666, -5.8655, -5.9085, -5.903, -5.9154, -5.9517, -5.672, -3.9496, -4.0698, -5.8615, -5.1196, -3.7645, -4.8314, -4.8875, -4.8994, -3.4723, -4.6548, -4.7895, -5.1585, -4.0966, -5.157], \"loglift\": [30.0, 29.0, 28.0, 27.0, 26.0, 25.0, 24.0, 23.0, 22.0, 21.0, 20.0, 19.0, 18.0, 17.0, 16.0, 15.0, 14.0, 13.0, 12.0, 11.0, 10.0, 9.0, 8.0, 7.0, 6.0, 5.0, 4.0, 3.0, 2.0, 1.0, 1.1025, 1.1014, 1.0996, 1.0977, 1.0975, 1.0963, 1.0941, 1.0941, 1.0932, 1.093, 1.091, 1.0905, 1.0879, 1.0877, 1.087, 1.0862, 1.0856, 1.0853, 1.0849, 1.0816, 1.081, 1.0791, 1.0782, 1.0781, 1.0778, 1.0773, 1.0763, 1.0763, 1.0757, 1.0754, 1.0514, 1.0172, 1.0011, 1.0395, 0.9979, 0.9812, 1.026, 0.9885, 1.065, 0.8646, 0.9357, 1.0103, 0.7998, 0.9372, 0.9431, 0.9304, 0.9159, 0.9137, 0.8622, 0.3303, 0.7905, 0.8175, -0.2615, 0.1539, 0.5604, 0.61, 0.1796, 0.2261, -0.0842, -0.5268, -0.7697, 0.5339, 0.788, -0.1684, 1.4285, 1.4268, 1.4264, 1.4229, 1.4171, 1.417, 1.4168, 1.4168, 1.4166, 1.416, 1.4155, 1.415, 1.4146, 1.409, 1.4087, 1.408, 1.4077, 1.4077, 1.4068, 1.4064, 1.4041, 1.4041, 1.4039, 1.4036, 1.4014, 1.4008, 1.4004, 1.3968, 1.3955, 1.3953, 1.3546, 1.0968, 1.1506, 1.3096, 0.6524, 1.2471, 1.1268, 0.2222, 0.4308, 0.617, 0.8403, 0.8508, 0.3629, 0.7266, 1.1826, 0.2569, 0.0263, 0.616, -0.8041, 0.6252, 0.3329, -0.2463, -0.1425, -0.2005, 1.6925, 1.6903, 1.6903, 1.69, 1.6889, 1.6885, 1.6865, 1.6846, 1.6838, 1.6814, 1.681, 1.6787, 1.6779, 1.6774, 1.6774, 1.6767, 1.6764, 1.6758, 1.6747, 1.6734, 1.673, 1.6725, 1.6677, 1.6669, 1.666, 1.6655, 1.6649, 1.6621, 1.6598, 1.659, 1.6557, 1.6153, 1.6453, 1.4756, 1.5513, 1.5569, 1.0557, 1.4519, 1.4873, 0.4923, 0.3058, 0.4585, 1.3167, 0.6331, 1.0963, 1.1858, 1.0719, 0.8573, 0.1634, 0.2309, 1.3977, 1.0478, -0.8185, -0.1042, 0.2868, 0.3704, -0.2144, 1.7513, 1.7506, 1.7494, 1.7467, 1.742, 1.7381, 1.7346, 1.733, 1.7325, 1.7303, 1.7296, 1.7292, 1.7283, 1.7283, 1.7275, 1.7264, 1.7253, 1.7245, 1.7206, 1.7202, 1.7202, 1.7199, 1.7185, 1.7182, 1.7182, 1.7168, 1.7162, 1.7158, 1.7151, 1.7128, 1.71, 1.6746, 1.5658, 1.6462, 1.2937, 1.0385, 1.3316, 1.4457, 1.2748, 0.6979, 1.3243, 1.4385, 1.158, 0.8817, 0.0479, 1.3011, 1.3431, 0.6348, 1.4855, 1.4868, 1.392, 0.8502, 1.2231, 0.6944, -0.7389, 0.9998, 0.9607, 1.1728, 0.6436, 0.4034, -0.4331, -0.4013, 0.7108, 0.2859, 2.5289, 2.5271, 2.521, 2.5197, 2.5197, 2.5195, 2.5189, 2.5162, 2.514, 2.5131, 2.5118, 2.5076, 2.5007, 2.4999, 2.499, 2.4979, 2.4936, 2.4927, 2.4918, 2.4914, 2.4889, 2.4779, 2.4717, 2.4689, 2.4678, 2.4673, 2.4652, 2.4645, 2.4643, 2.4618, 2.4536, 2.2978, 2.2375, 2.4571, 2.2088, 1.7266, 2.0009, 1.9019, 1.7994, 0.3565, 1.1544, 1.1529, 1.8794, -1.2936, 1.5767]}, \"token.table\": {\"Topic\": [4, 1, 1, 4, 4, 1, 3, 1, 1, 2, 3, 1, 2, 4, 1, 2, 4, 1, 5, 2, 1, 2, 3, 4, 5, 1, 2, 3, 5, 1, 3, 4, 5, 1, 1, 2, 3, 4, 5, 3, 3, 1, 3, 3, 5, 2, 5, 3, 1, 3, 4, 3, 1, 2, 3, 4, 5, 5, 5, 1, 3, 4, 1, 4, 1, 5, 3, 4, 3, 5, 1, 2, 3, 4, 4, 3, 4, 1, 2, 3, 4, 4, 1, 2, 3, 4, 1, 2, 3, 4, 2, 1, 2, 3, 5, 2, 4, 3, 4, 5, 1, 4, 1, 5, 1, 1, 4, 1, 2, 3, 1, 2, 3, 1, 3, 1, 1, 3, 5, 1, 4, 2, 5, 4, 5, 4, 3, 4, 2, 3, 5, 3, 2, 1, 2, 3, 4, 5, 2, 1, 2, 4, 1, 5, 1, 3, 1, 2, 1, 2, 3, 1, 3, 1, 5, 2, 3, 4, 2, 1, 4, 1, 4, 3, 5, 1, 4, 2, 4, 1, 2, 3, 4, 2, 2, 5, 4, 2, 1, 1, 2, 3, 4, 3, 1, 3, 3, 2, 3, 3, 2, 1, 2, 3, 4, 5, 3, 2, 1, 4, 1, 1, 2, 4, 5, 1, 2, 4, 1, 2, 3, 4, 1, 5, 3, 3, 4, 2, 3, 3, 4, 1, 2, 3, 4, 5, 5, 2, 3, 4, 5, 1, 2, 3, 4, 4, 1, 2, 3, 4, 5, 4, 5, 3, 1, 3, 5, 4, 1, 2, 3, 5, 2, 5, 1, 5, 1, 2, 3, 5, 2, 4, 4, 3, 2, 1, 2, 3, 2, 3, 2, 2, 3, 3, 4, 4, 1, 1, 2, 3, 4, 5, 1, 4, 2, 4, 2, 5, 3, 3, 5, 4, 5, 2, 4, 4, 1, 2, 3, 4, 5, 1, 2, 3, 4, 5, 5, 1, 2, 4, 1, 2, 3, 1, 1, 2, 5, 1, 4, 3, 4, 1, 4, 1, 2, 3, 1, 5, 2, 5, 2, 2, 4, 1, 2, 4, 1, 2, 4, 5, 2, 1, 5, 1, 2, 4, 5, 5, 3, 4, 1, 3, 4, 1, 4, 5, 1, 2, 3, 4, 2, 1, 2, 4, 1, 1, 2, 3, 4, 3, 1, 2, 3, 4, 1, 4, 5, 2, 2, 3, 1, 2, 1, 2, 3, 4, 5, 5, 1, 2, 3, 4, 5, 1, 2, 3, 4, 1, 4, 2, 1, 2, 2, 3, 4, 4, 1, 2, 4, 1, 2, 3, 4, 5, 2, 4, 5, 1, 2, 5, 1, 4, 2, 3, 4, 2, 3, 5, 2, 2, 5, 1, 2, 3, 4, 4, 3, 1, 2, 1, 1], \"Freq\": [0.9676435208240532, 0.9851745556530859, 0.9591159911607967, 0.9472556984790332, 0.9671828256833304, 0.9859958280751385, 0.9401326008827304, 0.9784377148040501, 0.03793539687125895, 0.1517415874850358, 0.8156110327320674, 0.186323565409811, 0.3377114623052824, 0.46580891352452747, 0.020990374642517618, 0.25188449571021143, 0.713672737845599, 0.98852254798473, 0.9703149356452773, 0.977910535653109, 0.12986775088776667, 0.18688286103361545, 0.14570528148383577, 0.48146093012050084, 0.05068009790742114, 0.8261517250892995, 0.172628718675376, 0.9922740980993159, 0.9213641849218349, 0.38796295818782345, 0.07759259163756468, 0.44338623792894105, 0.08867724758578821, 0.9702116021430377, 0.39171997243103535, 0.025546954723763175, 0.042578257872938625, 0.5450017007736144, 0.8899767970050617, 0.9714572969298734, 0.9684725167926426, 0.944040015724791, 0.05172822003971458, 0.9753998280237683, 0.9725827882209551, 0.07233504538767184, 0.9403555900397339, 0.9868449413740491, 0.19618671005461785, 0.7982769581532726, 0.9491078699247859, 0.9714078340800627, 0.08509523879237277, 0.24539092116870287, 0.5244241460460183, 0.11082170633425291, 0.035621262750295576, 0.9647591466747427, 0.9737148595871722, 0.840678299005721, 0.152850599819222, 0.968238968489985, 0.9930501673331029, 0.97423296832915, 0.9729582056608094, 0.989461820954311, 0.6808108389946863, 0.3160907466761043, 0.9832487045944659, 0.972291105076432, 0.016093364816474512, 0.3218672963294902, 0.08046682408237255, 0.5793611333930824, 0.9633395478990712, 0.961244626820602, 0.03844978507282408, 0.01614354549241901, 0.3228709098483802, 0.11300481844693307, 0.5488805467422463, 0.9843911989247195, 0.386554461994709, 0.4484031759138625, 0.10050416011862434, 0.06184871391915344, 0.24589192783093464, 0.26304717860983706, 0.26304717860983706, 0.2287366770520322, 0.9837491378990451, 0.008749627303918367, 0.008749627303918367, 0.026248881911755104, 0.9537093761271022, 0.9857068360733382, 0.9880685021868794, 0.9606319863747103, 0.02495148016557689, 0.9711377062291718, 0.9779924692973916, 0.9331022216770221, 0.9236071328884394, 0.05895364678011315, 0.9811933925989007, 0.846760197003562, 0.14329787949291048, 0.972526996814475, 0.9928201254077021, 0.9840778557913599, 0.16767414296407196, 0.08383707148203598, 0.7377662290419166, 0.8207344820143502, 0.16414689640287003, 0.9759096069895562, 0.9910078338222988, 0.9818417692082027, 0.9654769359676882, 0.9687579474223829, 0.9454728384437938, 0.5554080079558953, 0.4412119689369261, 0.8975589354922493, 0.07804860308628254, 0.9372300109711112, 0.9895988457893222, 0.9462294522195099, 0.9833482253470679, 0.21010168678449587, 0.7851168295631161, 0.9701378289256717, 0.9794865248741165, 0.06519478916540729, 0.09779218374811093, 0.032597394582703644, 0.09779218374811093, 0.7171426808194801, 0.9892566997291459, 0.6047915219551694, 0.05092981237517216, 0.3437762335324121, 0.396942744527801, 0.5755669795653114, 0.9882315351550357, 0.991032824893205, 0.011444501176257425, 0.9842271011581385, 0.728525218987704, 0.0177689077801879, 0.24876470892263064, 0.12872914476787342, 0.8528305840871614, 0.9873886465580458, 0.978361575308729, 0.04921709332705976, 0.29530255996235855, 0.6398222132517769, 0.9811221557880828, 0.9872679558141058, 0.010731173432762019, 0.9815696600806915, 0.9334452736604594, 0.9841551444707055, 0.9839557869686268, 0.262475901795168, 0.7311828692865395, 0.9777085026473911, 0.9694653387475124, 0.05072486735157508, 0.7136464096359528, 0.2291364697605633, 0.005247400070852594, 0.9960466676539742, 0.982331814957, 0.9304361057057308, 0.9871168500211652, 0.9824142961653936, 0.9493301902282736, 0.05538913348482611, 0.12924131146459425, 0.1938619671968914, 0.6092804683330872, 0.9929371087271016, 0.8795456730933878, 0.10994320913667348, 0.9405354514962049, 0.9216950167798414, 0.06583535834141724, 0.9804955598157049, 0.9836928063653303, 0.5748277566014447, 0.33079710521403893, 0.05422903364164573, 0.01626871009249372, 0.01626871009249372, 0.9672832371623481, 0.9976893503424724, 0.9737439123844818, 0.9670044722045619, 0.9579003422607044, 0.3232103264843214, 0.05703711643840966, 0.09506186073068276, 0.5323464200918235, 0.9928769504440619, 0.2342633311095356, 0.7548485113529481, 0.2766128347987073, 0.20548382013618258, 0.10274191006809129, 0.41096764027236515, 0.055637157943002995, 0.945831685031051, 0.9892547595755772, 0.9576375411884408, 0.982328507158736, 0.007327514617757224, 0.9892144733972252, 0.36966273473351946, 0.6210333943523128, 0.19415264008795247, 0.3673836594767721, 0.08033902348466998, 0.34395144429374336, 0.014226702075410309, 0.9676335868417257, 0.4414913686536414, 0.5469221432574961, 0.006589423412740917, 0.9707406355246845, 0.9132601945456342, 0.03539768195913311, 0.049556754742786355, 0.9823810685809954, 0.9689746398113955, 0.1504760006302222, 0.13542840056719999, 0.5341898022372887, 0.09028560037813331, 0.09028560037813331, 0.9118916742845237, 0.058831720921582176, 0.9668365546752823, 0.31260029891771207, 0.20840019927847472, 0.46890044837656814, 0.966529141815418, 0.8968404563070225, 0.07142977085631153, 0.007936641206256836, 0.01587328241251367, 0.9621743177714466, 0.9501144392031159, 0.9753832948823687, 0.9326413321165855, 0.7742854957222939, 0.12388567931556702, 0.09291425948667527, 0.9794494487894021, 0.9620767288847023, 0.9750826701014202, 0.9656240733741172, 0.9635157373132476, 0.9792192294039026, 0.43073760695800867, 0.03915796426890988, 0.5188430265630559, 0.215428437982493, 0.7847750240790817, 0.988278806122829, 0.7533483326083986, 0.24065293958323844, 0.9812853353316942, 0.9457867661493418, 0.9726530159929144, 0.9894079975295218, 0.39468762837825955, 0.4428762341686285, 0.0481886057903689, 0.11473477569135453, 0.8913832282316136, 0.21401782154263582, 0.7490623753992254, 0.9857185876608072, 0.9495880350834117, 0.9882374977111624, 0.9729988088452671, 0.9819701090774368, 0.971557142818906, 0.9652203825576693, 0.463165657468128, 0.5119199372016151, 0.734570437486183, 0.25598666760882133, 0.9816244303543579, 0.15231394308550342, 0.4580659173973627, 0.29844540139631853, 0.08149639021180072, 0.009554749197245601, 0.383848870150788, 0.3427727917951686, 0.21529530724324641, 0.04532532784068346, 0.012747748455192222, 0.990767196368673, 0.056692676104566034, 0.29480191574374337, 0.6462965075920528, 0.0744678292983549, 0.4933493691016012, 0.42819001846554067, 0.9670745817126853, 0.8295755327622322, 0.14639568225215863, 0.012199640187679885, 0.9029794149832124, 0.08208903772574659, 0.9757540102890725, 0.9633571247843499, 0.16432270446369948, 0.8216135223184974, 0.10472323299221947, 0.8796751571346436, 0.9707202232645954, 0.976976650896411, 0.9270932817156172, 0.9471730298706351, 0.991663695844832, 0.9911987207991707, 0.9913979014361191, 0.977172855639549, 0.7460484176952407, 0.11558496612179785, 0.13660041450757926, 0.4075340506608314, 0.016301362026433258, 0.32602724052866516, 0.2526711114097155, 0.9655306582447434, 0.9786613104333022, 0.943730806025414, 0.02336588955711261, 0.28817930453772217, 0.6230903881896697, 0.06230903881896696, 0.9877411592056955, 0.9096827287788273, 0.06202382241673823, 0.7203811469840798, 0.1252836777363617, 0.14616429069242198, 0.23378185307728114, 0.37764760881714643, 0.37764760881714643, 0.4134022609926393, 0.09942586023873605, 0.16483761039579922, 0.32182581077275085, 0.9907844785379063, 0.49476994583325573, 0.10050014524738007, 0.4020005809895203, 0.9888378840232603, 0.8923564996925051, 0.009595231179489301, 0.019190462358978602, 0.07676184943591441, 0.9828648384440932, 0.5685520837844172, 0.009024636250546305, 0.06317245375382415, 0.35196081377130595, 0.153696643093586, 0.6806565622715951, 0.13173997979450228, 0.9780088965174732, 0.12896485067614852, 0.8597656711743235, 0.9102474372709682, 0.07139195586438966, 0.30333556800605527, 0.3085356063147305, 0.3432025283725654, 0.019066807131809187, 0.02773353764626791, 0.9895070218534658, 0.253471180061001, 0.2979521949463577, 0.247822797218416, 0.1793361552520731, 0.021534459587355236, 0.029476942971928023, 0.5600619164666325, 0.15328010345402573, 0.25350170955858103, 0.9571260817071636, 0.03418307434668442, 0.9610289988514941, 0.20303972154886965, 0.7783189326040003, 0.30922964596589403, 0.6007890264480227, 0.08835132741882687, 0.9344657387836884, 0.779125746042013, 0.198503374787774, 0.0198503374787774, 0.4578801544854831, 0.10634635846114446, 0.2885137317510678, 0.03446409764944496, 0.11323917799103345, 0.8238881602308101, 0.1544790300432769, 0.9472766582871617, 0.563657499521577, 0.1855075314881139, 0.24972167700323028, 0.8806186726531681, 0.11741582302042242, 0.10005968587979353, 0.23347260038618486, 0.6503879582186579, 0.12915795222580054, 0.12915795222580054, 0.7397228172932213, 0.9415231828126251, 0.9771562038446038, 0.9747681249094997, 0.7339386629705393, 0.19463566752809883, 0.020274548700843626, 0.05271382662219343, 0.983951926800653, 0.9472465970017395, 0.8390697278051678, 0.15363248537277718, 0.9774842891583253, 0.9733431638568898], \"Term\": [\"accus\", \"afghanistan\", \"after\", \"agenc\", \"agreement\", \"air\", \"airspac\", \"all\", \"alleg\", \"alleg\", \"alleg\", \"alli\", \"alli\", \"alli\", \"allianc\", \"allianc\", \"allianc\", \"alreadi\", \"ambassador\", \"amid\", \"amp\", \"amp\", \"amp\", \"amp\", \"amp\", \"and\", \"and\", \"angrili\", \"antitank\", \"arm\", \"arm\", \"arm\", \"arm\", \"ask\", \"attack\", \"attack\", \"attack\", \"attack\", \"attent\", \"avoid\", \"away\", \"back\", \"back\", \"ballist\", \"baltic\", \"bbc\", \"bbc\", \"behind\", \"belaru\", \"belaru\", \"belarusian\", \"believ\", \"border\", \"border\", \"border\", \"border\", \"border\", \"borisjohnson\", \"brussel\", \"but\", \"but\", \"bwallacemp\", \"cant\", \"capabl\", \"care\", \"chanc\", \"china\", \"china\", \"close\", \"closest\", \"come\", \"come\", \"come\", \"come\", \"command\", \"concentr\", \"concentr\", \"continu\", \"continu\", \"continu\", \"continu\", \"cooper\", \"could\", \"could\", \"could\", \"could\", \"countri\", \"countri\", \"countri\", \"countri\", \"crimea\", \"crisi\", \"crisi\", \"crisi\", \"crisi\", \"current\", \"cyber\", \"cyberattack\", \"cyberattack\", \"decad\", \"decid\", \"deepen\", \"defenc\", \"defenc\", \"defend\", \"defens\", \"defens\", \"democraci\", \"deni\", \"didnt\", \"diplomat\", \"diplomat\", \"diplomat\", \"doesnt\", \"doesnt\", \"donba\", \"dont\", \"drill\", \"drone\", \"econom\", \"enhanc\", \"europ\", \"europ\", \"ever\", \"ever\", \"evid\", \"exercis\", \"expand\", \"fals\", \"fear\", \"fear\", \"februari\", \"find\", \"finland\", \"finland\", \"finland\", \"finland\", \"finland\", \"flag\", \"forc\", \"forc\", \"forc\", \"foreign\", \"foreign\", \"front\", \"georgia\", \"germani\", \"germani\", \"get\", \"get\", \"get\", \"give\", \"give\", \"global\", \"gotland\", \"govern\", \"govern\", \"govern\", \"gradual\", \"help\", \"help\", \"here\", \"howev\", \"hybrid\", \"import\", \"includ\", \"includ\", \"interest\", \"intern\", \"invad\", \"invad\", \"invad\", \"invad\", \"invas\", \"invit\", \"island\", \"isnt\", \"issu\", \"johnson\", \"join\", \"join\", \"join\", \"join\", \"joint\", \"know\", \"know\", \"korea\", \"kremlin\", \"kremlin\", \"land\", \"lead\", \"like\", \"like\", \"like\", \"like\", \"like\", \"live\", \"look\", \"lot\", \"lukashenko\", \"made\", \"major\", \"major\", \"major\", \"major\", \"make\", \"membership\", \"membership\", \"militari\", \"militari\", \"militari\", \"militari\", \"minist\", \"minist\", \"missil\", \"monday\", \"month\", \"move\", \"move\", \"nation\", \"nation\", \"nato\", \"nato\", \"nato\", \"nato\", \"nato\", \"nazi\", \"near\", \"near\", \"near\", \"nearli\", \"need\", \"need\", \"need\", \"negoti\", \"neighbor\", \"new\", \"new\", \"new\", \"new\", \"new\", \"next\", \"next\", \"north\", \"nuclear\", \"nuclear\", \"nuclear\", \"offer\", \"one\", \"one\", \"one\", \"one\", \"option\", \"over\", \"parti\", \"partyg\", \"peopl\", \"peopl\", \"peopl\", \"percent\", \"peskov\", \"piec\", \"play\", \"poroshenko\", \"posit\", \"prepar\", \"prepar\", \"prepar\", \"presid\", \"presid\", \"pressur\", \"pretext\", \"pretext\", \"prevent\", \"price\", \"propaganda\", \"put\", \"putin\", \"putin\", \"putin\", \"putin\", \"raf\", \"read\", \"read\", \"realli\", \"recent\", \"refus\", \"region\", \"reject\", \"remain\", \"republican\", \"respons\", \"respons\", \"right\", \"right\", \"rule\", \"russia\", \"russia\", \"russia\", \"russia\", \"russia\", \"russian\", \"russian\", \"russian\", \"russian\", \"russian\", \"russiaukrain\", \"said\", \"said\", \"said\", \"say\", \"say\", \"say\", \"secretari\", \"see\", \"see\", \"see\", \"seem\", \"seem\", \"senat\", \"share\", \"sign\", \"sign\", \"situat\", \"situat\", \"sniper\", \"soldier\", \"solidar\", \"someth\", \"soon\", \"soviet\", \"spokesman\", \"stand\", \"start\", \"start\", \"start\", \"state\", \"state\", \"state\", \"state\", \"stay\", \"still\", \"strateg\", \"support\", \"support\", \"support\", \"support\", \"sweden\", \"taiwan\", \"taiwan\", \"take\", \"take\", \"take\", \"tension\", \"tension\", \"tension\", \"the\", \"the\", \"the\", \"the\", \"there\", \"thi\", \"thi\", \"thi\", \"thing\", \"think\", \"think\", \"think\", \"think\", \"threaten\", \"time\", \"time\", \"time\", \"time\", \"today\", \"today\", \"today\", \"toler\", \"top\", \"top\", \"train\", \"train\", \"troop\", \"troop\", \"troop\", \"troop\", \"troop\", \"two\", \"ukrain\", \"ukrain\", \"ukrain\", \"ukrain\", \"ukrain\", \"ukrainian\", \"ukrainian\", \"ukrainian\", \"ukrainian\", \"understand\", \"understand\", \"union\", \"usa\", \"usa\", \"via\", \"via\", \"via\", \"wage\", \"want\", \"want\", \"want\", \"war\", \"war\", \"war\", \"war\", \"war\", \"warn\", \"warn\", \"watch\", \"weapon\", \"weapon\", \"weapon\", \"west\", \"west\", \"western\", \"western\", \"western\", \"whi\", \"whi\", \"whi\", \"within\", \"without\", \"worri\", \"would\", \"would\", \"would\", \"would\", \"wouldnt\", \"ww3\", \"year\", \"year\", \"you\", \"your\"]}, \"R\": 30, \"lambda.step\": 0.01, \"plot.opts\": {\"xlab\": \"PC1\", \"ylab\": \"PC2\"}, \"topic.order\": [1, 2, 3, 4, 5]};\n",
       "\n",
       "function LDAvis_load_lib(url, callback){\n",
       "  var s = document.createElement('script');\n",
       "  s.src = url;\n",
       "  s.async = true;\n",
       "  s.onreadystatechange = s.onload = callback;\n",
       "  s.onerror = function(){console.warn(\"failed to load library \" + url);};\n",
       "  document.getElementsByTagName(\"head\")[0].appendChild(s);\n",
       "}\n",
       "\n",
       "if(typeof(LDAvis) !== \"undefined\"){\n",
       "   // already loaded: just create the visualization\n",
       "   !function(LDAvis){\n",
       "       new LDAvis(\"#\" + \"ldavis_el57872126999271522444500077\", ldavis_el57872126999271522444500077_data);\n",
       "   }(LDAvis);\n",
       "}else if(typeof define === \"function\" && define.amd){\n",
       "   // require.js is available: use it to load d3/LDAvis\n",
       "   require.config({paths: {d3: \"https://d3js.org/d3.v5\"}});\n",
       "   require([\"d3\"], function(d3){\n",
       "      window.d3 = d3;\n",
       "      LDAvis_load_lib(\"https://cdn.jsdelivr.net/gh/bmabey/pyLDAvis@3.3.1/pyLDAvis/js/ldavis.v3.0.0.js\", function(){\n",
       "        new LDAvis(\"#\" + \"ldavis_el57872126999271522444500077\", ldavis_el57872126999271522444500077_data);\n",
       "      });\n",
       "    });\n",
       "}else{\n",
       "    // require.js not available: dynamically load d3 & LDAvis\n",
       "    LDAvis_load_lib(\"https://d3js.org/d3.v5.js\", function(){\n",
       "         LDAvis_load_lib(\"https://cdn.jsdelivr.net/gh/bmabey/pyLDAvis@3.3.1/pyLDAvis/js/ldavis.v3.0.0.js\", function(){\n",
       "                 new LDAvis(\"#\" + \"ldavis_el57872126999271522444500077\", ldavis_el57872126999271522444500077_data);\n",
       "            })\n",
       "         });\n",
       "}\n",
       "</script>"
      ],
      "text/plain": [
       "PreparedData(topic_coordinates=                x           y  topics  cluster       Freq\n",
       "topic                                                    \n",
       "0      150.222153  -72.269554       1        1  32.908217\n",
       "1       51.163364 -159.968018       2        1  23.859605\n",
       "2      -73.144554   21.523815       3        1  18.240158\n",
       "3      -66.410133 -110.606438       4        1  17.097687\n",
       "4       54.417324   12.443444       5        1   7.894333, topic_info=         Term         Freq        Total Category  logprob  loglift\n",
       "1825   russia  1779.000000  1779.000000  Default  30.0000  30.0000\n",
       "1109    invad   571.000000   571.000000  Default  29.0000  29.0000\n",
       "2280      war  1015.000000  1015.000000  Default  28.0000  28.0000\n",
       "1404     nato  1194.000000  1194.000000  Default  27.0000  27.0000\n",
       "743     europ   192.000000   192.000000  Default  26.0000  26.0000\n",
       "...       ...          ...          ...      ...      ...      ...\n",
       "2298   weapon    35.098745   140.156035   Topic5  -4.6548   1.1544\n",
       "2000    state    30.676257   122.689135   Topic5  -4.7895   1.1529\n",
       "1777  respons    21.209352    41.022040   Topic5  -5.1585   1.8794\n",
       "2198   ukrain    61.335351  2832.669181   Topic5  -4.0966  -1.2936\n",
       "2091  tension    21.242213    55.607396   Topic5  -5.1570   1.5767\n",
       "\n",
       "[314 rows x 6 columns], token_table=      Topic      Freq         Term\n",
       "term                              \n",
       "45        4  0.967644        accus\n",
       "71        1  0.985175  afghanistan\n",
       "73        1  0.959116        after\n",
       "75        4  0.947256        agenc\n",
       "83        4  0.967183    agreement\n",
       "...     ...       ...          ...\n",
       "2363      3  0.947247          ww3\n",
       "2370      1  0.839070         year\n",
       "2370      2  0.153632         year\n",
       "2376      1  0.977484          you\n",
       "2380      1  0.973343         your\n",
       "\n",
       "[441 rows x 3 columns], R=30, lambda_step=0.01, plot_opts={'xlab': 'PC1', 'ylab': 'PC2'}, topic_order=[1, 2, 3, 4, 5])"
      ]
     },
     "execution_count": 25,
     "metadata": {},
     "output_type": "execute_result"
    }
   ],
   "source": [
    "#pyLDAvis extracts information from a fitted LDA topic model to inform an interactive web-based visualization\n",
    "pyLDAvis.enable_notebook()\n",
    "pyLDAvis.sklearn.prepare(lda_model, data_matrix, vectorizer, mds='tsne')"
   ]
  },
  {
   "cell_type": "code",
   "execution_count": 26,
   "metadata": {
    "colab": {
     "base_uri": "https://localhost:8080/"
    },
    "executionInfo": {
     "elapsed": 129,
     "status": "ok",
     "timestamp": 1649799390469,
     "user": {
      "displayName": "Wang Johnny",
      "userId": "00967194380598162450"
     },
     "user_tz": 240
    },
    "id": "wDVOPqXwfZfJ",
    "outputId": "41145b34-f388-4471-d977-31eb51058555"
   },
   "outputs": [
    {
     "name": "stdout",
     "output_type": "stream",
     "text": [
      "Top 5 words for topic: 0\n",
      "['nato', 'russian', 'russia', 'war', 'ukrain']\n",
      "\n",
      "\n",
      "Top 5 words for topic: 1\n",
      "['russian', 'invad', 'nato', 'russia', 'ukrain']\n",
      "\n",
      "\n",
      "Top 5 words for topic: 2\n",
      "['troop', 'border', 'war', 'russia', 'ukrain']\n",
      "\n",
      "\n",
      "Top 5 words for topic: 3\n",
      "['the', 'russia', 'amp', 'nato', 'ukrain']\n",
      "\n",
      "\n",
      "Top 5 words for topic: 4\n",
      "['fear', 'russiaukrain', 'europ', 'crisi', 'war']\n",
      "\n",
      "\n"
     ]
    },
    {
     "name": "stderr",
     "output_type": "stream",
     "text": [
      "/opt/homebrew/lib/python3.9/site-packages/sklearn/utils/deprecation.py:87: FutureWarning: Function get_feature_names is deprecated; get_feature_names is deprecated in 1.0 and will be removed in 1.2. Please use get_feature_names_out instead.\n",
      "  warnings.warn(msg, category=FutureWarning)\n"
     ]
    }
   ],
   "source": [
    "#  top 5 most frequent words from each topic that found by LDA\n",
    "for i,topic in enumerate(lda_model.components_):\n",
    "    print('Top 5 words for topic:',i)\n",
    "    print([vectorizer.get_feature_names()[i] for i in topic.argsort()[-5:]])\n",
    "    print('\\n')"
   ]
  },
  {
   "cell_type": "markdown",
   "metadata": {
    "id": "8KHURDvn1k_u"
   },
   "source": [
    "## Hyperparameter Tuning"
   ]
  },
  {
   "cell_type": "code",
   "execution_count": 27,
   "metadata": {
    "colab": {
     "base_uri": "https://localhost:8080/"
    },
    "executionInfo": {
     "elapsed": 114931,
     "status": "ok",
     "timestamp": 1649801766824,
     "user": {
      "displayName": "Wang Johnny",
      "userId": "00967194380598162450"
     },
     "user_tz": 240
    },
    "id": "tTLkNNqH1ouT",
    "outputId": "8c5dcf49-7579-416d-c424-5dda0c8ab70f"
   },
   "outputs": [
    {
     "data": {
      "text/plain": [
       "GridSearchCV(estimator=LatentDirichletAllocation(),\n",
       "             param_grid={'learning_decay': [0.5, 0.7, 0.9],\n",
       "                         'n_components': [3, 5, 10, 15]})"
      ]
     },
     "execution_count": 27,
     "metadata": {},
     "output_type": "execute_result"
    }
   ],
   "source": [
    "# Define Search Param\n",
    "search_params = {'n_components': [3, 5, 10, 15], 'learning_decay': [.5, .7, .9]}\n",
    "\n",
    "# Init the Model\n",
    "lda = LatentDirichletAllocation()\n",
    "\n",
    "# Init Grid Search Class\n",
    "model = GridSearchCV(lda, param_grid=search_params)\n",
    "\n",
    "# Do the Grid Search\n",
    "model.fit(data_matrix)"
   ]
  },
  {
   "cell_type": "code",
   "execution_count": 28,
   "metadata": {
    "colab": {
     "base_uri": "https://localhost:8080/"
    },
    "executionInfo": {
     "elapsed": 529,
     "status": "ok",
     "timestamp": 1649802202595,
     "user": {
      "displayName": "Wang Johnny",
      "userId": "00967194380598162450"
     },
     "user_tz": 240
    },
    "id": "MaUars9Q28Xm",
    "outputId": "7d0cfd74-ac78-47cd-a2ce-09fcdabf6798"
   },
   "outputs": [
    {
     "name": "stdout",
     "output_type": "stream",
     "text": [
      "Best Model's Params:  {'learning_decay': 0.5, 'n_components': 3}\n",
      "Best Log Likelihood Score:  -69647.76385084036\n",
      "Model Perplexity:  761.7509505221232\n"
     ]
    }
   ],
   "source": [
    "# Best Model\n",
    "best_lda_model = model.best_estimator_\n",
    "\n",
    "# Model Parameters\n",
    "print(\"Best Model's Params: \", model.best_params_)\n",
    "\n",
    "# Log Likelihood Score\n",
    "print(\"Best Log Likelihood Score: \", model.best_score_)\n",
    "\n",
    "# Perplexity\n",
    "print(\"Model Perplexity: \", best_lda_model.perplexity(data_matrix))"
   ]
  },
  {
   "cell_type": "markdown",
   "metadata": {
    "id": "MaV2cJEE5BB0"
   },
   "source": [
    "## Topic Modeling Per Day"
   ]
  },
  {
   "cell_type": "code",
   "execution_count": 33,
   "metadata": {},
   "outputs": [
    {
     "name": "stderr",
     "output_type": "stream",
     "text": [
      "  0%|          | 0/25 [00:00<?, ?it/s]/opt/homebrew/lib/python3.9/site-packages/sklearn/utils/deprecation.py:87: FutureWarning: Function get_feature_names is deprecated; get_feature_names is deprecated in 1.0 and will be removed in 1.2. Please use get_feature_names_out instead.\n",
      "  warnings.warn(msg, category=FutureWarning)\n",
      "100%|██████████| 25/25 [07:49<00:00, 18.77s/it]\n"
     ]
    }
   ],
   "source": [
    "daily_topics = tm.generate_daily_topic(text_dict, 3, 0.5)"
   ]
  },
  {
   "cell_type": "code",
   "execution_count": 29,
   "metadata": {
    "colab": {
     "base_uri": "https://localhost:8080/"
    },
    "executionInfo": {
     "elapsed": 75621,
     "status": "ok",
     "timestamp": 1649805727799,
     "user": {
      "displayName": "Wang Johnny",
      "userId": "00967194380598162450"
     },
     "user_tz": 240
    },
    "id": "ffET-Npa_-T9",
    "outputId": "352b95e9-4be0-419c-d46f-b5afad7837e0"
   },
   "outputs": [
    {
     "name": "stderr",
     "output_type": "stream",
     "text": [
      "  0%|          | 0/25 [00:00<?, ?it/s]/opt/homebrew/lib/python3.9/site-packages/sklearn/utils/deprecation.py:87: FutureWarning: Function get_feature_names is deprecated; get_feature_names is deprecated in 1.0 and will be removed in 1.2. Please use get_feature_names_out instead.\n",
      "  warnings.warn(msg, category=FutureWarning)\n",
      "100%|██████████| 25/25 [00:13<00:00,  1.92it/s]\n"
     ]
    }
   ],
   "source": [
    "media_daily_topics = tm.generate_daily_topic(media_text_dict, 3, 0.5)"
   ]
  },
  {
   "cell_type": "code",
   "execution_count": 30,
   "metadata": {
    "id": "pjZzkvQbFHXC"
   },
   "outputs": [
    {
     "name": "stderr",
     "output_type": "stream",
     "text": [
      "  0%|          | 0/25 [00:00<?, ?it/s]/opt/homebrew/lib/python3.9/site-packages/sklearn/utils/deprecation.py:87: FutureWarning: Function get_feature_names is deprecated; get_feature_names is deprecated in 1.0 and will be removed in 1.2. Please use get_feature_names_out instead.\n",
      "  warnings.warn(msg, category=FutureWarning)\n",
      "100%|██████████| 25/25 [07:33<00:00, 18.15s/it]\n"
     ]
    }
   ],
   "source": [
    "normal_daily_topics = tm.generate_daily_topic(normal_text_dict, 3, 0.5)"
   ]
  },
  {
   "cell_type": "code",
   "execution_count": 34,
   "metadata": {},
   "outputs": [
    {
     "data": {
      "text/html": [
       "<div>\n",
       "<style scoped>\n",
       "    .dataframe tbody tr th:only-of-type {\n",
       "        vertical-align: middle;\n",
       "    }\n",
       "\n",
       "    .dataframe tbody tr th {\n",
       "        vertical-align: top;\n",
       "    }\n",
       "\n",
       "    .dataframe thead th {\n",
       "        text-align: right;\n",
       "    }\n",
       "</style>\n",
       "<table border=\"1\" class=\"dataframe\">\n",
       "  <thead>\n",
       "    <tr style=\"text-align: right;\">\n",
       "      <th></th>\n",
       "      <th>topic_0</th>\n",
       "      <th>topic_1</th>\n",
       "      <th>topic_2</th>\n",
       "    </tr>\n",
       "  </thead>\n",
       "  <tbody>\n",
       "    <tr>\n",
       "      <th>2022-01-17</th>\n",
       "      <td>['russia', 'russian', 'nato', 'war', 'ukrain']</td>\n",
       "      <td>['russian', 'nato', 'invad', 'russia', 'ukrain']</td>\n",
       "      <td>['border', 'nato', 'russia', 'war', 'ukrain']</td>\n",
       "    </tr>\n",
       "    <tr>\n",
       "      <th>2022-01-18</th>\n",
       "      <td>['invad', 'nato', 'war', 'russia', 'ukrain']</td>\n",
       "      <td>['belaru', 'border', 'ukrain', 'russian', 'tro...</td>\n",
       "      <td>['move', 'troop', 'nato', 'russia', 'ukrain']</td>\n",
       "    </tr>\n",
       "    <tr>\n",
       "      <th>2022-01-24</th>\n",
       "      <td>['troop', 'border', 'russia', 'war', 'ukrain']</td>\n",
       "      <td>['war', 'invad', 'nato', 'russia', 'ukrain']</td>\n",
       "      <td>['8500', 'alert', 'nato', 'ukrain', 'troop']</td>\n",
       "    </tr>\n",
       "    <tr>\n",
       "      <th>2022-01-25</th>\n",
       "      <td>['nato', 'russian', 'troop', 'border', 'ukrain']</td>\n",
       "      <td>['nato', 'invad', 'war', 'russia', 'ukrain']</td>\n",
       "      <td>['europ', 'nato', 'russia', 'troop', 'ukrain']</td>\n",
       "    </tr>\n",
       "    <tr>\n",
       "      <th>2022-02-21</th>\n",
       "      <td>['order', 'putin', 'russian', 'ukrain', 'troop']</td>\n",
       "      <td>['putin', 'nato', 'war', 'russia', 'ukrain']</td>\n",
       "      <td>['russia', 'troop', 'border', 'russian', 'ukra...</td>\n",
       "    </tr>\n",
       "    <tr>\n",
       "      <th>2022-02-22</th>\n",
       "      <td>['the', 'world', 'standwithukrain', 'war', 'uk...</td>\n",
       "      <td>['russia', 'putin', 'russian', 'ukrain', 'troop']</td>\n",
       "      <td>['invad', 'putin', 'nato', 'russia', 'ukrain']</td>\n",
       "    </tr>\n",
       "    <tr>\n",
       "      <th>2022-02-24</th>\n",
       "      <td>['stand', 'war', 'peopl', 'ukrain', 'standwith...</td>\n",
       "      <td>['russia', 'border', 'troop', 'russian', 'ukra...</td>\n",
       "      <td>['putin', 'war', 'nato', 'russia', 'ukrain']</td>\n",
       "    </tr>\n",
       "    <tr>\n",
       "      <th>2022-02-25</th>\n",
       "      <td>['kyiv', 'ukrainian', 'troop', 'ukrain', 'russ...</td>\n",
       "      <td>['amp', 'peopl', 'standwithukrain', 'war', 'uk...</td>\n",
       "      <td>['war', 'putin', 'russia', 'nato', 'ukrain']</td>\n",
       "    </tr>\n",
       "    <tr>\n",
       "      <th>2022-02-28</th>\n",
       "      <td>['the', 'war', 'russia', 'putin', 'ukrain']</td>\n",
       "      <td>['ukrainerussiawar', 'kyiv', 'russian', 'russi...</td>\n",
       "      <td>['ukrainerussiawar', 'peopl', 'help', 'amp', '...</td>\n",
       "    </tr>\n",
       "    <tr>\n",
       "      <th>2022-03-01</th>\n",
       "      <td>['war', 'russia', 'ukrainerussiawar', 'putin',...</td>\n",
       "      <td>['war', 'putin', 'amp', 'russia', 'ukrain']</td>\n",
       "      <td>['ukrainian', 'kyiv', 'russia', 'russian', 'uk...</td>\n",
       "    </tr>\n",
       "    <tr>\n",
       "      <th>2022-03-03</th>\n",
       "      <td>['kyiv', 'ukrainian', 'russia', 'russian', 'uk...</td>\n",
       "      <td>['support', 'amp', 'help', 'russia', 'ukrain']</td>\n",
       "      <td>['peopl', 'war', 'russia', 'putin', 'ukrain']</td>\n",
       "    </tr>\n",
       "    <tr>\n",
       "      <th>2022-03-04</th>\n",
       "      <td>['nato', 'war', 'ukrain', 'russia', 'putin']</td>\n",
       "      <td>['kyiv', 'ukrainian', 'russian', 'russia', 'uk...</td>\n",
       "      <td>['peopl', 'help', 'support', 'standwithukrain'...</td>\n",
       "    </tr>\n",
       "    <tr>\n",
       "      <th>2022-03-05</th>\n",
       "      <td>['help', 'support', 'peopl', 'standwithukrain'...</td>\n",
       "      <td>['ukrainian', 'kyiv', 'russia', 'russian', 'uk...</td>\n",
       "      <td>['nato', 'war', 'ukrain', 'russia', 'putin']</td>\n",
       "    </tr>\n",
       "    <tr>\n",
       "      <th>2022-03-08</th>\n",
       "      <td>['war', 'russian', 'putin', 'russia', 'ukrain']</td>\n",
       "      <td>['poland', 'standwithukrain', 'support', 'russ...</td>\n",
       "      <td>['world', 'day', 'amp', 'internationalwomensda...</td>\n",
       "    </tr>\n",
       "    <tr>\n",
       "      <th>2022-03-09</th>\n",
       "      <td>['ukrainewar', 'war', 'russian', 'ukrain', 'ru...</td>\n",
       "      <td>['standwithukrain', 'war', 'peopl', 'putin', '...</td>\n",
       "      <td>['ukrainian', 'the', 'russian', 'russia', 'ukr...</td>\n",
       "    </tr>\n",
       "    <tr>\n",
       "      <th>2022-03-10</th>\n",
       "      <td>['standwithukrain', 'ukrainian', 'russia', 'ru...</td>\n",
       "      <td>['standwithukrain', 'war', 'peopl', 'ukrain', ...</td>\n",
       "      <td>['amp', 'the', 'russian', 'russia', 'ukrain']</td>\n",
       "    </tr>\n",
       "    <tr>\n",
       "      <th>2022-03-13</th>\n",
       "      <td>['amp', 'china', 'nato', 'ukrain', 'russia']</td>\n",
       "      <td>['russia', 'war', 'standwithukrain', 'putin', ...</td>\n",
       "      <td>['ukrainerussiawar', 'ukrainewar', 'russia', '...</td>\n",
       "    </tr>\n",
       "    <tr>\n",
       "      <th>2022-03-14</th>\n",
       "      <td>['amp', 'the', 'war', 'russia', 'ukrain']</td>\n",
       "      <td>['ukrainerussiawar', 'ukrainewar', 'russia', '...</td>\n",
       "      <td>['peopl', 'war', 'standwithukrain', 'ukrain', ...</td>\n",
       "    </tr>\n",
       "    <tr>\n",
       "      <th>2022-03-15</th>\n",
       "      <td>['the', 'ukrainian', 'russian', 'russia', 'ukr...</td>\n",
       "      <td>['amp', 'russia', 'war', 'ukrain', 'putin']</td>\n",
       "      <td>['video', 'standwithukrain', 'china', 'russia'...</td>\n",
       "    </tr>\n",
       "    <tr>\n",
       "      <th>2022-03-16</th>\n",
       "      <td>['ukraineunderattack', 'mariupol', 'russia', '...</td>\n",
       "      <td>['amp', 'standwithukrain', 'russia', 'war', 'p...</td>\n",
       "      <td>['amp', 'the', 'peopl', 'russia', 'ukrain']</td>\n",
       "    </tr>\n",
       "    <tr>\n",
       "      <th>2022-03-17</th>\n",
       "      <td>['stpatricksday', 'ukrainian', 'russia', 'russ...</td>\n",
       "      <td>['bbcqt', 'standwithukrain', 'peopl', 'putin',...</td>\n",
       "      <td>['amp', 'putin', 'war', 'russia', 'ukrain']</td>\n",
       "    </tr>\n",
       "    <tr>\n",
       "      <th>2022-03-20</th>\n",
       "      <td>['amp', 'war', 'russia', 'putin', 'ukrain']</td>\n",
       "      <td>['ukrainian', 'mariupol', 'russia', 'russian',...</td>\n",
       "      <td>['stoprussia', 'peopl', 'slavaukraini', 'ukrai...</td>\n",
       "    </tr>\n",
       "    <tr>\n",
       "      <th>2022-03-21</th>\n",
       "      <td>['amp', 'war', 'putin', 'russia', 'ukrain']</td>\n",
       "      <td>['stoprussia', 'thi', 'putin', 'ukrain', 'stan...</td>\n",
       "      <td>['mariupol', 'ukrainian', 'russia', 'russian',...</td>\n",
       "    </tr>\n",
       "    <tr>\n",
       "      <th>2022-03-25</th>\n",
       "      <td>['ukrainian', 'ukrainewar', 'russia', 'russian...</td>\n",
       "      <td>['war', 'peopl', 'standwithukrain', 'putin', '...</td>\n",
       "      <td>['war', 'putin', 'nato', 'ukrain', 'russia']</td>\n",
       "    </tr>\n",
       "    <tr>\n",
       "      <th>2022-03-26</th>\n",
       "      <td>['see', 'amp', 'slavaukraini', 'standwithukrai...</td>\n",
       "      <td>['war', 'biden', 'russia', 'ukrain', 'putin']</td>\n",
       "      <td>['ukrainewar', 'ukrainian', 'russia', 'russian...</td>\n",
       "    </tr>\n",
       "  </tbody>\n",
       "</table>\n",
       "</div>"
      ],
      "text/plain": [
       "                                                      topic_0  \\\n",
       "2022-01-17     ['russia', 'russian', 'nato', 'war', 'ukrain']   \n",
       "2022-01-18       ['invad', 'nato', 'war', 'russia', 'ukrain']   \n",
       "2022-01-24     ['troop', 'border', 'russia', 'war', 'ukrain']   \n",
       "2022-01-25   ['nato', 'russian', 'troop', 'border', 'ukrain']   \n",
       "2022-02-21   ['order', 'putin', 'russian', 'ukrain', 'troop']   \n",
       "2022-02-22  ['the', 'world', 'standwithukrain', 'war', 'uk...   \n",
       "2022-02-24  ['stand', 'war', 'peopl', 'ukrain', 'standwith...   \n",
       "2022-02-25  ['kyiv', 'ukrainian', 'troop', 'ukrain', 'russ...   \n",
       "2022-02-28        ['the', 'war', 'russia', 'putin', 'ukrain']   \n",
       "2022-03-01  ['war', 'russia', 'ukrainerussiawar', 'putin',...   \n",
       "2022-03-03  ['kyiv', 'ukrainian', 'russia', 'russian', 'uk...   \n",
       "2022-03-04       ['nato', 'war', 'ukrain', 'russia', 'putin']   \n",
       "2022-03-05  ['help', 'support', 'peopl', 'standwithukrain'...   \n",
       "2022-03-08    ['war', 'russian', 'putin', 'russia', 'ukrain']   \n",
       "2022-03-09  ['ukrainewar', 'war', 'russian', 'ukrain', 'ru...   \n",
       "2022-03-10  ['standwithukrain', 'ukrainian', 'russia', 'ru...   \n",
       "2022-03-13       ['amp', 'china', 'nato', 'ukrain', 'russia']   \n",
       "2022-03-14          ['amp', 'the', 'war', 'russia', 'ukrain']   \n",
       "2022-03-15  ['the', 'ukrainian', 'russian', 'russia', 'ukr...   \n",
       "2022-03-16  ['ukraineunderattack', 'mariupol', 'russia', '...   \n",
       "2022-03-17  ['stpatricksday', 'ukrainian', 'russia', 'russ...   \n",
       "2022-03-20        ['amp', 'war', 'russia', 'putin', 'ukrain']   \n",
       "2022-03-21        ['amp', 'war', 'putin', 'russia', 'ukrain']   \n",
       "2022-03-25  ['ukrainian', 'ukrainewar', 'russia', 'russian...   \n",
       "2022-03-26  ['see', 'amp', 'slavaukraini', 'standwithukrai...   \n",
       "\n",
       "                                                      topic_1  \\\n",
       "2022-01-17   ['russian', 'nato', 'invad', 'russia', 'ukrain']   \n",
       "2022-01-18  ['belaru', 'border', 'ukrain', 'russian', 'tro...   \n",
       "2022-01-24       ['war', 'invad', 'nato', 'russia', 'ukrain']   \n",
       "2022-01-25       ['nato', 'invad', 'war', 'russia', 'ukrain']   \n",
       "2022-02-21       ['putin', 'nato', 'war', 'russia', 'ukrain']   \n",
       "2022-02-22  ['russia', 'putin', 'russian', 'ukrain', 'troop']   \n",
       "2022-02-24  ['russia', 'border', 'troop', 'russian', 'ukra...   \n",
       "2022-02-25  ['amp', 'peopl', 'standwithukrain', 'war', 'uk...   \n",
       "2022-02-28  ['ukrainerussiawar', 'kyiv', 'russian', 'russi...   \n",
       "2022-03-01        ['war', 'putin', 'amp', 'russia', 'ukrain']   \n",
       "2022-03-03     ['support', 'amp', 'help', 'russia', 'ukrain']   \n",
       "2022-03-04  ['kyiv', 'ukrainian', 'russian', 'russia', 'uk...   \n",
       "2022-03-05  ['ukrainian', 'kyiv', 'russia', 'russian', 'uk...   \n",
       "2022-03-08  ['poland', 'standwithukrain', 'support', 'russ...   \n",
       "2022-03-09  ['standwithukrain', 'war', 'peopl', 'putin', '...   \n",
       "2022-03-10  ['standwithukrain', 'war', 'peopl', 'ukrain', ...   \n",
       "2022-03-13  ['russia', 'war', 'standwithukrain', 'putin', ...   \n",
       "2022-03-14  ['ukrainerussiawar', 'ukrainewar', 'russia', '...   \n",
       "2022-03-15        ['amp', 'russia', 'war', 'ukrain', 'putin']   \n",
       "2022-03-16  ['amp', 'standwithukrain', 'russia', 'war', 'p...   \n",
       "2022-03-17  ['bbcqt', 'standwithukrain', 'peopl', 'putin',...   \n",
       "2022-03-20  ['ukrainian', 'mariupol', 'russia', 'russian',...   \n",
       "2022-03-21  ['stoprussia', 'thi', 'putin', 'ukrain', 'stan...   \n",
       "2022-03-25  ['war', 'peopl', 'standwithukrain', 'putin', '...   \n",
       "2022-03-26      ['war', 'biden', 'russia', 'ukrain', 'putin']   \n",
       "\n",
       "                                                      topic_2  \n",
       "2022-01-17      ['border', 'nato', 'russia', 'war', 'ukrain']  \n",
       "2022-01-18      ['move', 'troop', 'nato', 'russia', 'ukrain']  \n",
       "2022-01-24       ['8500', 'alert', 'nato', 'ukrain', 'troop']  \n",
       "2022-01-25     ['europ', 'nato', 'russia', 'troop', 'ukrain']  \n",
       "2022-02-21  ['russia', 'troop', 'border', 'russian', 'ukra...  \n",
       "2022-02-22     ['invad', 'putin', 'nato', 'russia', 'ukrain']  \n",
       "2022-02-24       ['putin', 'war', 'nato', 'russia', 'ukrain']  \n",
       "2022-02-25       ['war', 'putin', 'russia', 'nato', 'ukrain']  \n",
       "2022-02-28  ['ukrainerussiawar', 'peopl', 'help', 'amp', '...  \n",
       "2022-03-01  ['ukrainian', 'kyiv', 'russia', 'russian', 'uk...  \n",
       "2022-03-03      ['peopl', 'war', 'russia', 'putin', 'ukrain']  \n",
       "2022-03-04  ['peopl', 'help', 'support', 'standwithukrain'...  \n",
       "2022-03-05       ['nato', 'war', 'ukrain', 'russia', 'putin']  \n",
       "2022-03-08  ['world', 'day', 'amp', 'internationalwomensda...  \n",
       "2022-03-09  ['ukrainian', 'the', 'russian', 'russia', 'ukr...  \n",
       "2022-03-10      ['amp', 'the', 'russian', 'russia', 'ukrain']  \n",
       "2022-03-13  ['ukrainerussiawar', 'ukrainewar', 'russia', '...  \n",
       "2022-03-14  ['peopl', 'war', 'standwithukrain', 'ukrain', ...  \n",
       "2022-03-15  ['video', 'standwithukrain', 'china', 'russia'...  \n",
       "2022-03-16        ['amp', 'the', 'peopl', 'russia', 'ukrain']  \n",
       "2022-03-17        ['amp', 'putin', 'war', 'russia', 'ukrain']  \n",
       "2022-03-20  ['stoprussia', 'peopl', 'slavaukraini', 'ukrai...  \n",
       "2022-03-21  ['mariupol', 'ukrainian', 'russia', 'russian',...  \n",
       "2022-03-25       ['war', 'putin', 'nato', 'ukrain', 'russia']  \n",
       "2022-03-26  ['ukrainewar', 'ukrainian', 'russia', 'russian...  "
      ]
     },
     "execution_count": 34,
     "metadata": {},
     "output_type": "execute_result"
    }
   ],
   "source": [
    "daily_topics"
   ]
  },
  {
   "cell_type": "code",
   "execution_count": 31,
   "metadata": {},
   "outputs": [
    {
     "data": {
      "text/html": [
       "<div>\n",
       "<style scoped>\n",
       "    .dataframe tbody tr th:only-of-type {\n",
       "        vertical-align: middle;\n",
       "    }\n",
       "\n",
       "    .dataframe tbody tr th {\n",
       "        vertical-align: top;\n",
       "    }\n",
       "\n",
       "    .dataframe thead th {\n",
       "        text-align: right;\n",
       "    }\n",
       "</style>\n",
       "<table border=\"1\" class=\"dataframe\">\n",
       "  <thead>\n",
       "    <tr style=\"text-align: right;\">\n",
       "      <th></th>\n",
       "      <th>topic_0</th>\n",
       "      <th>topic_1</th>\n",
       "      <th>topic_2</th>\n",
       "    </tr>\n",
       "  </thead>\n",
       "  <tbody>\n",
       "    <tr>\n",
       "      <th>2022-01-17</th>\n",
       "      <td>['russia', 'russian', 'troop', 'ukrain', 'bord...</td>\n",
       "      <td>['nato', 'war', 'invad', 'russia', 'ukrain']</td>\n",
       "      <td>['new', 'amp', 'war', 'nato', 'ukrain']</td>\n",
       "    </tr>\n",
       "    <tr>\n",
       "      <th>2022-01-18</th>\n",
       "      <td>['invad', 'war', 'nato', 'russia', 'ukrain']</td>\n",
       "      <td>['invit', 'tension', 'talk', 'nato', 'ukrain']</td>\n",
       "      <td>['belaru', 'russian', 'russia', 'troop', 'ukra...</td>\n",
       "    </tr>\n",
       "    <tr>\n",
       "      <th>2022-01-24</th>\n",
       "      <td>['russian', 'troop', 'russia', 'nato', 'ukrain']</td>\n",
       "      <td>['european', 'war', 'border', 'russia', 'ukrain']</td>\n",
       "      <td>['put', '8500', 'alert', 'ukrain', 'troop']</td>\n",
       "    </tr>\n",
       "    <tr>\n",
       "      <th>2022-01-25</th>\n",
       "      <td>['border', 'russian', 'troop', 'nato', 'ukrain']</td>\n",
       "      <td>['russian', 'deploy', 'russia', 'troop', 'ukra...</td>\n",
       "      <td>['putin', 'biden', 'war', 'russia', 'ukrain']</td>\n",
       "    </tr>\n",
       "    <tr>\n",
       "      <th>2022-02-21</th>\n",
       "      <td>['say', 'russia', 'russian', 'ukrain', 'border']</td>\n",
       "      <td>['order', 'russian', 'putin', 'troop', 'ukrain']</td>\n",
       "      <td>['secur', 'biden', 'invad', 'russia', 'ukrain']</td>\n",
       "    </tr>\n",
       "    <tr>\n",
       "      <th>2022-02-22</th>\n",
       "      <td>['russia', 'putin', 'russian', 'ukrain', 'troop']</td>\n",
       "      <td>['russian', 'the', 'sanction', 'russia', 'ukra...</td>\n",
       "      <td>['say', 'russia', 'war', 'border', 'ukrain']</td>\n",
       "    </tr>\n",
       "    <tr>\n",
       "      <th>2022-02-24</th>\n",
       "      <td>['chernobyl', 'ukrainian', 'ukrain', 'troop', ...</td>\n",
       "      <td>['war', 'putin', 'troop', 'russia', 'ukrain']</td>\n",
       "      <td>['troop', 'ukrainian', 'ukrain', 'border', 'ru...</td>\n",
       "    </tr>\n",
       "    <tr>\n",
       "      <th>2022-02-25</th>\n",
       "      <td>['first', 'cross', 'the', 'border', 'ukrain']</td>\n",
       "      <td>['kyiv', 'ukrainian', 'troop', 'ukrain', 'russ...</td>\n",
       "      <td>['nato', 'russian', 'russia', 'troop', 'ukrain']</td>\n",
       "    </tr>\n",
       "    <tr>\n",
       "      <th>2022-02-28</th>\n",
       "      <td>['invas', 'the', 'russian', 'russia', 'ukrain']</td>\n",
       "      <td>['war', 'presid', 'putin', 'russia', 'ukrain']</td>\n",
       "      <td>['student', 'sanction', 'countri', 'russia', '...</td>\n",
       "    </tr>\n",
       "    <tr>\n",
       "      <th>2022-03-01</th>\n",
       "      <td>['russiaukrainewar', 'putin', 'russian', 'russ...</td>\n",
       "      <td>['the', 'invas', 'russian', 'ukrain', 'russia']</td>\n",
       "      <td>['india', 'russiaukrainewar', 'student', 'indi...</td>\n",
       "    </tr>\n",
       "    <tr>\n",
       "      <th>2022-03-03</th>\n",
       "      <td>['the', 'putin', 'russian', 'russia', 'ukrain']</td>\n",
       "      <td>['russiaukrainewar', 'evacu', 'student', 'indi...</td>\n",
       "      <td>['russiaukrain', 'war', 'russian', 'russia', '...</td>\n",
       "    </tr>\n",
       "    <tr>\n",
       "      <th>2022-03-04</th>\n",
       "      <td>['indian', 'student', 'war', 'russia', 'ukrain']</td>\n",
       "      <td>['plant', 'nuclear', 'russian', 'russia', 'ukr...</td>\n",
       "      <td>['the', 'standwithukrain', 'putin', 'russia', ...</td>\n",
       "    </tr>\n",
       "    <tr>\n",
       "      <th>2022-03-05</th>\n",
       "      <td>['ceasefir', 'evacu', 'indian', 'russia', 'ukr...</td>\n",
       "      <td>['ukrainian', 'putin', 'russian', 'russia', 'u...</td>\n",
       "      <td>['war', 'putin', 'the', 'ukrain', 'russia']</td>\n",
       "    </tr>\n",
       "    <tr>\n",
       "      <th>2022-03-08</th>\n",
       "      <td>['iwd2022', 'amp', 'internationalwomensday', '...</td>\n",
       "      <td>['ukrainian', 'war', 'russian', 'russia', 'ukr...</td>\n",
       "      <td>['import', 'russian', 'oil', 'ukrain', 'russia']</td>\n",
       "    </tr>\n",
       "    <tr>\n",
       "      <th>2022-03-09</th>\n",
       "      <td>['russian', 'war', 'russiaukrainewar', 'russia...</td>\n",
       "      <td>['invas', 'the', 'russian', 'ukrain', 'russia']</td>\n",
       "      <td>['support', 'standwithukrain', 'war', 'putin',...</td>\n",
       "    </tr>\n",
       "    <tr>\n",
       "      <th>2022-03-10</th>\n",
       "      <td>['amp', 'peopl', 'standwithukrain', 'war', 'uk...</td>\n",
       "      <td>['ukrainian', 'mariupol', 'russia', 'russian',...</td>\n",
       "      <td>['russiaukrainewar', 'the', 'russian', 'russia...</td>\n",
       "    </tr>\n",
       "    <tr>\n",
       "      <th>2022-03-13</th>\n",
       "      <td>['the', 'putin', 'war', 'russia', 'ukrain']</td>\n",
       "      <td>['report', 'russia', 'presid', 'putin', 'ukrain']</td>\n",
       "      <td>['ukrainian', 'russia', 'russiaukrainewar', 'r...</td>\n",
       "    </tr>\n",
       "    <tr>\n",
       "      <th>2022-03-14</th>\n",
       "      <td>['kyiv', 'russian', 'russia', 'russiaukrainewa...</td>\n",
       "      <td>['amp', 'war', 'putin', 'russia', 'ukrain']</td>\n",
       "      <td>['ukrainian', 'the', 'china', 'russia', 'ukrain']</td>\n",
       "    </tr>\n",
       "    <tr>\n",
       "      <th>2022-03-15</th>\n",
       "      <td>['today', 'minist', 'russia', 'china', 'ukrain']</td>\n",
       "      <td>['russiaukrainewar', 'the', 'russian', 'russia...</td>\n",
       "      <td>['standwithukrain', 'amp', 'russia', 'war', 'u...</td>\n",
       "    </tr>\n",
       "    <tr>\n",
       "      <th>2022-03-16</th>\n",
       "      <td>['russiaukrainewar', 'the', 'war', 'russia', '...</td>\n",
       "      <td>['report', 'kyiv', 'russia', 'russian', 'ukrain']</td>\n",
       "      <td>['presid', 'say', 'ukrainewar', 'russia', 'ukr...</td>\n",
       "    </tr>\n",
       "    <tr>\n",
       "      <th>2022-03-17</th>\n",
       "      <td>['war', 'putin', 'russia', 'russian', 'ukrain']</td>\n",
       "      <td>['report', 'compani', 'new', 'russia', 'ukrain']</td>\n",
       "      <td>['presid', 'war', 'russiaukrainewar', 'russia'...</td>\n",
       "    </tr>\n",
       "    <tr>\n",
       "      <th>2022-03-20</th>\n",
       "      <td>['amp', 'war', 'putin', 'russia', 'ukrain']</td>\n",
       "      <td>['stoprussia', 'kherson', 'lalat', 'stopputin'...</td>\n",
       "      <td>['mariupol', 'the', 'russian', 'russia', 'ukra...</td>\n",
       "    </tr>\n",
       "    <tr>\n",
       "      <th>2022-03-21</th>\n",
       "      <td>['lalat', 'kherson', 'show', 'russian', 'ukrain']</td>\n",
       "      <td>['mariupol', 'russian', 'war', 'russia', 'ukra...</td>\n",
       "      <td>['kyiv', 'war', 'russia', 'standwithukrain', '...</td>\n",
       "    </tr>\n",
       "    <tr>\n",
       "      <th>2022-03-25</th>\n",
       "      <td>['nato', 'presid', 'russian', 'russia', 'ukrain']</td>\n",
       "      <td>['china', 'the', 'russia', 'amp', 'ukrain']</td>\n",
       "      <td>['the', 'war', 'russian', 'russia', 'ukrain']</td>\n",
       "    </tr>\n",
       "    <tr>\n",
       "      <th>2022-03-26</th>\n",
       "      <td>['the', 'russia', 'peopl', 'standwithukrain', ...</td>\n",
       "      <td>['lviv', 'the', 'russia', 'russian', 'ukrain']</td>\n",
       "      <td>['russiaukrainewar', 'war', 'putin', 'russia',...</td>\n",
       "    </tr>\n",
       "  </tbody>\n",
       "</table>\n",
       "</div>"
      ],
      "text/plain": [
       "                                                      topic_0  \\\n",
       "2022-01-17  ['russia', 'russian', 'troop', 'ukrain', 'bord...   \n",
       "2022-01-18       ['invad', 'war', 'nato', 'russia', 'ukrain']   \n",
       "2022-01-24   ['russian', 'troop', 'russia', 'nato', 'ukrain']   \n",
       "2022-01-25   ['border', 'russian', 'troop', 'nato', 'ukrain']   \n",
       "2022-02-21   ['say', 'russia', 'russian', 'ukrain', 'border']   \n",
       "2022-02-22  ['russia', 'putin', 'russian', 'ukrain', 'troop']   \n",
       "2022-02-24  ['chernobyl', 'ukrainian', 'ukrain', 'troop', ...   \n",
       "2022-02-25      ['first', 'cross', 'the', 'border', 'ukrain']   \n",
       "2022-02-28    ['invas', 'the', 'russian', 'russia', 'ukrain']   \n",
       "2022-03-01  ['russiaukrainewar', 'putin', 'russian', 'russ...   \n",
       "2022-03-03    ['the', 'putin', 'russian', 'russia', 'ukrain']   \n",
       "2022-03-04   ['indian', 'student', 'war', 'russia', 'ukrain']   \n",
       "2022-03-05  ['ceasefir', 'evacu', 'indian', 'russia', 'ukr...   \n",
       "2022-03-08  ['iwd2022', 'amp', 'internationalwomensday', '...   \n",
       "2022-03-09  ['russian', 'war', 'russiaukrainewar', 'russia...   \n",
       "2022-03-10  ['amp', 'peopl', 'standwithukrain', 'war', 'uk...   \n",
       "2022-03-13        ['the', 'putin', 'war', 'russia', 'ukrain']   \n",
       "2022-03-14  ['kyiv', 'russian', 'russia', 'russiaukrainewa...   \n",
       "2022-03-15   ['today', 'minist', 'russia', 'china', 'ukrain']   \n",
       "2022-03-16  ['russiaukrainewar', 'the', 'war', 'russia', '...   \n",
       "2022-03-17    ['war', 'putin', 'russia', 'russian', 'ukrain']   \n",
       "2022-03-20        ['amp', 'war', 'putin', 'russia', 'ukrain']   \n",
       "2022-03-21  ['lalat', 'kherson', 'show', 'russian', 'ukrain']   \n",
       "2022-03-25  ['nato', 'presid', 'russian', 'russia', 'ukrain']   \n",
       "2022-03-26  ['the', 'russia', 'peopl', 'standwithukrain', ...   \n",
       "\n",
       "                                                      topic_1  \\\n",
       "2022-01-17       ['nato', 'war', 'invad', 'russia', 'ukrain']   \n",
       "2022-01-18     ['invit', 'tension', 'talk', 'nato', 'ukrain']   \n",
       "2022-01-24  ['european', 'war', 'border', 'russia', 'ukrain']   \n",
       "2022-01-25  ['russian', 'deploy', 'russia', 'troop', 'ukra...   \n",
       "2022-02-21   ['order', 'russian', 'putin', 'troop', 'ukrain']   \n",
       "2022-02-22  ['russian', 'the', 'sanction', 'russia', 'ukra...   \n",
       "2022-02-24      ['war', 'putin', 'troop', 'russia', 'ukrain']   \n",
       "2022-02-25  ['kyiv', 'ukrainian', 'troop', 'ukrain', 'russ...   \n",
       "2022-02-28     ['war', 'presid', 'putin', 'russia', 'ukrain']   \n",
       "2022-03-01    ['the', 'invas', 'russian', 'ukrain', 'russia']   \n",
       "2022-03-03  ['russiaukrainewar', 'evacu', 'student', 'indi...   \n",
       "2022-03-04  ['plant', 'nuclear', 'russian', 'russia', 'ukr...   \n",
       "2022-03-05  ['ukrainian', 'putin', 'russian', 'russia', 'u...   \n",
       "2022-03-08  ['ukrainian', 'war', 'russian', 'russia', 'ukr...   \n",
       "2022-03-09    ['invas', 'the', 'russian', 'ukrain', 'russia']   \n",
       "2022-03-10  ['ukrainian', 'mariupol', 'russia', 'russian',...   \n",
       "2022-03-13  ['report', 'russia', 'presid', 'putin', 'ukrain']   \n",
       "2022-03-14        ['amp', 'war', 'putin', 'russia', 'ukrain']   \n",
       "2022-03-15  ['russiaukrainewar', 'the', 'russian', 'russia...   \n",
       "2022-03-16  ['report', 'kyiv', 'russia', 'russian', 'ukrain']   \n",
       "2022-03-17   ['report', 'compani', 'new', 'russia', 'ukrain']   \n",
       "2022-03-20  ['stoprussia', 'kherson', 'lalat', 'stopputin'...   \n",
       "2022-03-21  ['mariupol', 'russian', 'war', 'russia', 'ukra...   \n",
       "2022-03-25        ['china', 'the', 'russia', 'amp', 'ukrain']   \n",
       "2022-03-26     ['lviv', 'the', 'russia', 'russian', 'ukrain']   \n",
       "\n",
       "                                                      topic_2  \n",
       "2022-01-17            ['new', 'amp', 'war', 'nato', 'ukrain']  \n",
       "2022-01-18  ['belaru', 'russian', 'russia', 'troop', 'ukra...  \n",
       "2022-01-24        ['put', '8500', 'alert', 'ukrain', 'troop']  \n",
       "2022-01-25      ['putin', 'biden', 'war', 'russia', 'ukrain']  \n",
       "2022-02-21    ['secur', 'biden', 'invad', 'russia', 'ukrain']  \n",
       "2022-02-22       ['say', 'russia', 'war', 'border', 'ukrain']  \n",
       "2022-02-24  ['troop', 'ukrainian', 'ukrain', 'border', 'ru...  \n",
       "2022-02-25   ['nato', 'russian', 'russia', 'troop', 'ukrain']  \n",
       "2022-02-28  ['student', 'sanction', 'countri', 'russia', '...  \n",
       "2022-03-01  ['india', 'russiaukrainewar', 'student', 'indi...  \n",
       "2022-03-03  ['russiaukrain', 'war', 'russian', 'russia', '...  \n",
       "2022-03-04  ['the', 'standwithukrain', 'putin', 'russia', ...  \n",
       "2022-03-05        ['war', 'putin', 'the', 'ukrain', 'russia']  \n",
       "2022-03-08   ['import', 'russian', 'oil', 'ukrain', 'russia']  \n",
       "2022-03-09  ['support', 'standwithukrain', 'war', 'putin',...  \n",
       "2022-03-10  ['russiaukrainewar', 'the', 'russian', 'russia...  \n",
       "2022-03-13  ['ukrainian', 'russia', 'russiaukrainewar', 'r...  \n",
       "2022-03-14  ['ukrainian', 'the', 'china', 'russia', 'ukrain']  \n",
       "2022-03-15  ['standwithukrain', 'amp', 'russia', 'war', 'u...  \n",
       "2022-03-16  ['presid', 'say', 'ukrainewar', 'russia', 'ukr...  \n",
       "2022-03-17  ['presid', 'war', 'russiaukrainewar', 'russia'...  \n",
       "2022-03-20  ['mariupol', 'the', 'russian', 'russia', 'ukra...  \n",
       "2022-03-21  ['kyiv', 'war', 'russia', 'standwithukrain', '...  \n",
       "2022-03-25      ['the', 'war', 'russian', 'russia', 'ukrain']  \n",
       "2022-03-26  ['russiaukrainewar', 'war', 'putin', 'russia',...  "
      ]
     },
     "execution_count": 31,
     "metadata": {},
     "output_type": "execute_result"
    }
   ],
   "source": [
    "media_daily_topics"
   ]
  },
  {
   "cell_type": "code",
   "execution_count": 32,
   "metadata": {},
   "outputs": [
    {
     "data": {
      "text/html": [
       "<div>\n",
       "<style scoped>\n",
       "    .dataframe tbody tr th:only-of-type {\n",
       "        vertical-align: middle;\n",
       "    }\n",
       "\n",
       "    .dataframe tbody tr th {\n",
       "        vertical-align: top;\n",
       "    }\n",
       "\n",
       "    .dataframe thead th {\n",
       "        text-align: right;\n",
       "    }\n",
       "</style>\n",
       "<table border=\"1\" class=\"dataframe\">\n",
       "  <thead>\n",
       "    <tr style=\"text-align: right;\">\n",
       "      <th></th>\n",
       "      <th>topic_0</th>\n",
       "      <th>topic_1</th>\n",
       "      <th>topic_2</th>\n",
       "    </tr>\n",
       "  </thead>\n",
       "  <tbody>\n",
       "    <tr>\n",
       "      <th>2022-01-17</th>\n",
       "      <td>['move', 'europ', 'russia', 'ukrain', 'war']</td>\n",
       "      <td>['russian', 'war', 'nato', 'russia', 'ukrain']</td>\n",
       "      <td>['troop', 'russian', 'nato', 'russia', 'ukrain']</td>\n",
       "    </tr>\n",
       "    <tr>\n",
       "      <th>2022-01-18</th>\n",
       "      <td>['border', 'russian', 'russia', 'troop', 'ukra...</td>\n",
       "      <td>['invad', 'nato', 'war', 'russia', 'ukrain']</td>\n",
       "      <td>['putin', 'war', 'nato', 'russia', 'ukrain']</td>\n",
       "    </tr>\n",
       "    <tr>\n",
       "      <th>2022-01-24</th>\n",
       "      <td>['nato', 'invad', 'war', 'russia', 'ukrain']</td>\n",
       "      <td>['8500', 'alert', 'nato', 'ukrain', 'troop']</td>\n",
       "      <td>['war', 'troop', 'biden', 'border', 'ukrain']</td>\n",
       "    </tr>\n",
       "    <tr>\n",
       "      <th>2022-01-25</th>\n",
       "      <td>['russian', 'russia', 'nato', 'troop', 'ukrain']</td>\n",
       "      <td>['invad', 'nato', 'war', 'russia', 'ukrain']</td>\n",
       "      <td>['amp', 'troop', 'russian', 'border', 'ukrain']</td>\n",
       "    </tr>\n",
       "    <tr>\n",
       "      <th>2022-02-21</th>\n",
       "      <td>['order', 'putin', 'ukrain', 'russian', 'troop']</td>\n",
       "      <td>['presid', 'biden', 'putin', 'russia', 'ukrain']</td>\n",
       "      <td>['putin', 'war', 'russia', 'nato', 'ukrain']</td>\n",
       "    </tr>\n",
       "    <tr>\n",
       "      <th>2022-02-22</th>\n",
       "      <td>['putin', 'russia', 'russian', 'ukrain', 'troop']</td>\n",
       "      <td>['war', 'invad', 'nato', 'russia', 'ukrain']</td>\n",
       "      <td>['standwithukrain', 'trump', 'putin', 'war', '...</td>\n",
       "    </tr>\n",
       "    <tr>\n",
       "      <th>2022-02-24</th>\n",
       "      <td>['ukrainian', 'border', 'troop', 'ukrain', 'ru...</td>\n",
       "      <td>['stand', 'peopl', 'standwithukrain', 'war', '...</td>\n",
       "      <td>['war', 'putin', 'nato', 'russia', 'ukrain']</td>\n",
       "    </tr>\n",
       "    <tr>\n",
       "      <th>2022-02-25</th>\n",
       "      <td>['invad', 'putin', 'russia', 'nato', 'ukrain']</td>\n",
       "      <td>['stand', 'peopl', 'standwithukrain', 'war', '...</td>\n",
       "      <td>['ukrainian', 'border', 'troop', 'ukrain', 'ru...</td>\n",
       "    </tr>\n",
       "    <tr>\n",
       "      <th>2022-02-28</th>\n",
       "      <td>['ukrainian', 'ukrainerussiawar', 'russia', 'r...</td>\n",
       "      <td>['peopl', 'amp', 'war', 'putin', 'ukrain']</td>\n",
       "      <td>['nato', 'putin', 'russian', 'ukrain', 'russia']</td>\n",
       "    </tr>\n",
       "    <tr>\n",
       "      <th>2022-03-01</th>\n",
       "      <td>['amp', 'war', 'putin', 'ukrain', 'russia']</td>\n",
       "      <td>['amp', 'war', 'putin', 'peopl', 'ukrain']</td>\n",
       "      <td>['ukrainerussiawar', 'kyiv', 'russia', 'russia...</td>\n",
       "    </tr>\n",
       "    <tr>\n",
       "      <th>2022-03-03</th>\n",
       "      <td>['support', 'amp', 'russia', 'help', 'ukrain']</td>\n",
       "      <td>['kyiv', 'ukrainian', 'russia', 'russian', 'uk...</td>\n",
       "      <td>['amp', 'war', 'russia', 'putin', 'ukrain']</td>\n",
       "    </tr>\n",
       "    <tr>\n",
       "      <th>2022-03-04</th>\n",
       "      <td>['kyiv', 'ukrainian', 'russia', 'russian', 'uk...</td>\n",
       "      <td>['russian', 'amp', 'the', 'russia', 'ukrain']</td>\n",
       "      <td>['stop', 'standwithukrain', 'peopl', 'ukrain',...</td>\n",
       "    </tr>\n",
       "    <tr>\n",
       "      <th>2022-03-05</th>\n",
       "      <td>['war', 'peopl', 'standwithukrain', 'ukrain', ...</td>\n",
       "      <td>['russianukrainianwar', 'kyiv', 'russia', 'rus...</td>\n",
       "      <td>['the', 'war', 'amp', 'russia', 'ukrain']</td>\n",
       "    </tr>\n",
       "    <tr>\n",
       "      <th>2022-03-08</th>\n",
       "      <td>['amp', 'war', 'russia', 'putin', 'ukrain']</td>\n",
       "      <td>['standwithukrain', 'ukrainian', 'russian', 'r...</td>\n",
       "      <td>['happi', 'day', 'amp', 'internationalwomensda...</td>\n",
       "    </tr>\n",
       "    <tr>\n",
       "      <th>2022-03-09</th>\n",
       "      <td>['hospit', 'mariupol', 'russian', 'russia', 'u...</td>\n",
       "      <td>['russian', 'war', 'ukrain', 'putin', 'russia']</td>\n",
       "      <td>['standwithukrain', 'amp', 'peopl', 'putin', '...</td>\n",
       "    </tr>\n",
       "    <tr>\n",
       "      <th>2022-03-10</th>\n",
       "      <td>['help', 'support', 'amp', 'russia', 'ukrain']</td>\n",
       "      <td>['standwithukrain', 'russia', 'ukrainian', 'ru...</td>\n",
       "      <td>['amp', 'russia', 'war', 'ukrain', 'putin']</td>\n",
       "    </tr>\n",
       "    <tr>\n",
       "      <th>2022-03-13</th>\n",
       "      <td>['amp', 'war', 'russia', 'ukrain', 'putin']</td>\n",
       "      <td>['forc', 'russian', 'militari', 'russia', 'ukr...</td>\n",
       "      <td>['ukrainewar', 'ukrainian', 'standwithukrain',...</td>\n",
       "    </tr>\n",
       "    <tr>\n",
       "      <th>2022-03-14</th>\n",
       "      <td>['peopl', 'ukrainian', 'putin', 'russian', 'uk...</td>\n",
       "      <td>['nato', 'war', 'putin', 'ukrain', 'russia']</td>\n",
       "      <td>['call', 'stop', 'putin', 'ukrain', 'standwith...</td>\n",
       "    </tr>\n",
       "    <tr>\n",
       "      <th>2022-03-15</th>\n",
       "      <td>['ukrainian', 'kyiv', 'russia', 'russian', 'uk...</td>\n",
       "      <td>['amp', 'war', 'nato', 'ukrain', 'russia']</td>\n",
       "      <td>['war', 'peopl', 'amp', 'putin', 'ukrain']</td>\n",
       "    </tr>\n",
       "    <tr>\n",
       "      <th>2022-03-16</th>\n",
       "      <td>['mariupol', 'putin', 'russia', 'russian', 'uk...</td>\n",
       "      <td>['help', 'stpatricksday', 'slavaukraini', 'sta...</td>\n",
       "      <td>['the', 'war', 'russia', 'putin', 'ukrain']</td>\n",
       "    </tr>\n",
       "    <tr>\n",
       "      <th>2022-03-17</th>\n",
       "      <td>['day', 'peopl', 'stpatricksday', 'standwithuk...</td>\n",
       "      <td>['mariupol', 'ukrainian', 'russia', 'russian',...</td>\n",
       "      <td>['amp', 'war', 'putin', 'russia', 'ukrain']</td>\n",
       "    </tr>\n",
       "    <tr>\n",
       "      <th>2022-03-20</th>\n",
       "      <td>['nato', 'war', 'russia', 'putin', 'ukrain']</td>\n",
       "      <td>['slavaukraini', 'stop', 'peopl', 'standwithuk...</td>\n",
       "      <td>['kyiv', 'mariupol', 'russian', 'russia', 'ukr...</td>\n",
       "    </tr>\n",
       "    <tr>\n",
       "      <th>2022-03-21</th>\n",
       "      <td>['war', 'russian', 'mariupol', 'standwithukrai...</td>\n",
       "      <td>['russia', 'amp', 'war', 'putin', 'ukrain']</td>\n",
       "      <td>['the', 'ukrainerussiawar', 'russian', 'russia...</td>\n",
       "    </tr>\n",
       "    <tr>\n",
       "      <th>2022-03-25</th>\n",
       "      <td>['the', 'ukrainewar', 'russian', 'russia', 'uk...</td>\n",
       "      <td>['mariupol', 'peopl', 'war', 'standwithukrain'...</td>\n",
       "      <td>['standwithukrain', 'russia', 'amp', 'putin', ...</td>\n",
       "    </tr>\n",
       "    <tr>\n",
       "      <th>2022-03-26</th>\n",
       "      <td>['ukrainewar', 'ukrainian', 'russia', 'russian...</td>\n",
       "      <td>['standwithukrain', 'amp', 'russia', 'ukrain',...</td>\n",
       "      <td>['nato', 'presid', 'russia', 'biden', 'ukrain']</td>\n",
       "    </tr>\n",
       "  </tbody>\n",
       "</table>\n",
       "</div>"
      ],
      "text/plain": [
       "                                                      topic_0  \\\n",
       "2022-01-17       ['move', 'europ', 'russia', 'ukrain', 'war']   \n",
       "2022-01-18  ['border', 'russian', 'russia', 'troop', 'ukra...   \n",
       "2022-01-24       ['nato', 'invad', 'war', 'russia', 'ukrain']   \n",
       "2022-01-25   ['russian', 'russia', 'nato', 'troop', 'ukrain']   \n",
       "2022-02-21   ['order', 'putin', 'ukrain', 'russian', 'troop']   \n",
       "2022-02-22  ['putin', 'russia', 'russian', 'ukrain', 'troop']   \n",
       "2022-02-24  ['ukrainian', 'border', 'troop', 'ukrain', 'ru...   \n",
       "2022-02-25     ['invad', 'putin', 'russia', 'nato', 'ukrain']   \n",
       "2022-02-28  ['ukrainian', 'ukrainerussiawar', 'russia', 'r...   \n",
       "2022-03-01        ['amp', 'war', 'putin', 'ukrain', 'russia']   \n",
       "2022-03-03     ['support', 'amp', 'russia', 'help', 'ukrain']   \n",
       "2022-03-04  ['kyiv', 'ukrainian', 'russia', 'russian', 'uk...   \n",
       "2022-03-05  ['war', 'peopl', 'standwithukrain', 'ukrain', ...   \n",
       "2022-03-08        ['amp', 'war', 'russia', 'putin', 'ukrain']   \n",
       "2022-03-09  ['hospit', 'mariupol', 'russian', 'russia', 'u...   \n",
       "2022-03-10     ['help', 'support', 'amp', 'russia', 'ukrain']   \n",
       "2022-03-13        ['amp', 'war', 'russia', 'ukrain', 'putin']   \n",
       "2022-03-14  ['peopl', 'ukrainian', 'putin', 'russian', 'uk...   \n",
       "2022-03-15  ['ukrainian', 'kyiv', 'russia', 'russian', 'uk...   \n",
       "2022-03-16  ['mariupol', 'putin', 'russia', 'russian', 'uk...   \n",
       "2022-03-17  ['day', 'peopl', 'stpatricksday', 'standwithuk...   \n",
       "2022-03-20       ['nato', 'war', 'russia', 'putin', 'ukrain']   \n",
       "2022-03-21  ['war', 'russian', 'mariupol', 'standwithukrai...   \n",
       "2022-03-25  ['the', 'ukrainewar', 'russian', 'russia', 'uk...   \n",
       "2022-03-26  ['ukrainewar', 'ukrainian', 'russia', 'russian...   \n",
       "\n",
       "                                                      topic_1  \\\n",
       "2022-01-17     ['russian', 'war', 'nato', 'russia', 'ukrain']   \n",
       "2022-01-18       ['invad', 'nato', 'war', 'russia', 'ukrain']   \n",
       "2022-01-24       ['8500', 'alert', 'nato', 'ukrain', 'troop']   \n",
       "2022-01-25       ['invad', 'nato', 'war', 'russia', 'ukrain']   \n",
       "2022-02-21   ['presid', 'biden', 'putin', 'russia', 'ukrain']   \n",
       "2022-02-22       ['war', 'invad', 'nato', 'russia', 'ukrain']   \n",
       "2022-02-24  ['stand', 'peopl', 'standwithukrain', 'war', '...   \n",
       "2022-02-25  ['stand', 'peopl', 'standwithukrain', 'war', '...   \n",
       "2022-02-28         ['peopl', 'amp', 'war', 'putin', 'ukrain']   \n",
       "2022-03-01         ['amp', 'war', 'putin', 'peopl', 'ukrain']   \n",
       "2022-03-03  ['kyiv', 'ukrainian', 'russia', 'russian', 'uk...   \n",
       "2022-03-04      ['russian', 'amp', 'the', 'russia', 'ukrain']   \n",
       "2022-03-05  ['russianukrainianwar', 'kyiv', 'russia', 'rus...   \n",
       "2022-03-08  ['standwithukrain', 'ukrainian', 'russian', 'r...   \n",
       "2022-03-09    ['russian', 'war', 'ukrain', 'putin', 'russia']   \n",
       "2022-03-10  ['standwithukrain', 'russia', 'ukrainian', 'ru...   \n",
       "2022-03-13  ['forc', 'russian', 'militari', 'russia', 'ukr...   \n",
       "2022-03-14       ['nato', 'war', 'putin', 'ukrain', 'russia']   \n",
       "2022-03-15         ['amp', 'war', 'nato', 'ukrain', 'russia']   \n",
       "2022-03-16  ['help', 'stpatricksday', 'slavaukraini', 'sta...   \n",
       "2022-03-17  ['mariupol', 'ukrainian', 'russia', 'russian',...   \n",
       "2022-03-20  ['slavaukraini', 'stop', 'peopl', 'standwithuk...   \n",
       "2022-03-21        ['russia', 'amp', 'war', 'putin', 'ukrain']   \n",
       "2022-03-25  ['mariupol', 'peopl', 'war', 'standwithukrain'...   \n",
       "2022-03-26  ['standwithukrain', 'amp', 'russia', 'ukrain',...   \n",
       "\n",
       "                                                      topic_2  \n",
       "2022-01-17   ['troop', 'russian', 'nato', 'russia', 'ukrain']  \n",
       "2022-01-18       ['putin', 'war', 'nato', 'russia', 'ukrain']  \n",
       "2022-01-24      ['war', 'troop', 'biden', 'border', 'ukrain']  \n",
       "2022-01-25    ['amp', 'troop', 'russian', 'border', 'ukrain']  \n",
       "2022-02-21       ['putin', 'war', 'russia', 'nato', 'ukrain']  \n",
       "2022-02-22  ['standwithukrain', 'trump', 'putin', 'war', '...  \n",
       "2022-02-24       ['war', 'putin', 'nato', 'russia', 'ukrain']  \n",
       "2022-02-25  ['ukrainian', 'border', 'troop', 'ukrain', 'ru...  \n",
       "2022-02-28   ['nato', 'putin', 'russian', 'ukrain', 'russia']  \n",
       "2022-03-01  ['ukrainerussiawar', 'kyiv', 'russia', 'russia...  \n",
       "2022-03-03        ['amp', 'war', 'russia', 'putin', 'ukrain']  \n",
       "2022-03-04  ['stop', 'standwithukrain', 'peopl', 'ukrain',...  \n",
       "2022-03-05          ['the', 'war', 'amp', 'russia', 'ukrain']  \n",
       "2022-03-08  ['happi', 'day', 'amp', 'internationalwomensda...  \n",
       "2022-03-09  ['standwithukrain', 'amp', 'peopl', 'putin', '...  \n",
       "2022-03-10        ['amp', 'russia', 'war', 'ukrain', 'putin']  \n",
       "2022-03-13  ['ukrainewar', 'ukrainian', 'standwithukrain',...  \n",
       "2022-03-14  ['call', 'stop', 'putin', 'ukrain', 'standwith...  \n",
       "2022-03-15         ['war', 'peopl', 'amp', 'putin', 'ukrain']  \n",
       "2022-03-16        ['the', 'war', 'russia', 'putin', 'ukrain']  \n",
       "2022-03-17        ['amp', 'war', 'putin', 'russia', 'ukrain']  \n",
       "2022-03-20  ['kyiv', 'mariupol', 'russian', 'russia', 'ukr...  \n",
       "2022-03-21  ['the', 'ukrainerussiawar', 'russian', 'russia...  \n",
       "2022-03-25  ['standwithukrain', 'russia', 'amp', 'putin', ...  \n",
       "2022-03-26    ['nato', 'presid', 'russia', 'biden', 'ukrain']  "
      ]
     },
     "execution_count": 32,
     "metadata": {},
     "output_type": "execute_result"
    }
   ],
   "source": [
    "normal_daily_topics"
   ]
  },
  {
   "cell_type": "markdown",
   "metadata": {},
   "source": [
    "## Data persistence"
   ]
  },
  {
   "cell_type": "code",
   "execution_count": 35,
   "metadata": {},
   "outputs": [],
   "source": [
    "daily_topics.to_csv('../data/processed/daily_topics.csv')\n",
    "media_daily_topics.to_csv('../data/processed/influencer_daily_topics.csv')\n",
    "normal_daily_topics.to_csv('../data/processed/normal_daily_topics.csv')"
   ]
  }
 ],
 "metadata": {
  "colab": {
   "name": "topic_modeling_baseline.ipynb",
   "provenance": []
  },
  "interpreter": {
   "hash": "b0fa6594d8f4cbf19f97940f81e996739fb7646882a419484c72d19e05852a7e"
  },
  "kernelspec": {
   "display_name": "Python 3 (ipykernel)",
   "language": "python",
   "name": "python3"
  },
  "language_info": {
   "codemirror_mode": {
    "name": "ipython",
    "version": 3
   },
   "file_extension": ".py",
   "mimetype": "text/x-python",
   "name": "python",
   "nbconvert_exporter": "python",
   "pygments_lexer": "ipython3",
   "version": "3.8.5"
  }
 },
 "nbformat": 4,
 "nbformat_minor": 1
}
