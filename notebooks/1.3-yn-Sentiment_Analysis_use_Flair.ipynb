{
 "cells": [
  {
   "cell_type": "code",
   "execution_count": 1,
   "id": "e3156d9d",
   "metadata": {},
   "outputs": [],
   "source": [
    "import numpy as np\n",
    "import pandas as pd\n",
    "import csv\n",
    "\n",
    "df = pd.read_csv('labeled_sample_600.csv', sep = ',', encoding = 'latin-1', usecols = lambda col: col not in [\"Unnamed: 2\", \"Unnamed: 3\", \"Unnamed: 4\"])"
   ]
  },
  {
   "cell_type": "code",
   "execution_count": 2,
   "id": "71945392",
   "metadata": {},
   "outputs": [
    {
     "data": {
      "text/html": [
       "<div>\n",
       "<style scoped>\n",
       "    .dataframe tbody tr th:only-of-type {\n",
       "        vertical-align: middle;\n",
       "    }\n",
       "\n",
       "    .dataframe tbody tr th {\n",
       "        vertical-align: top;\n",
       "    }\n",
       "\n",
       "    .dataframe thead th {\n",
       "        text-align: right;\n",
       "    }\n",
       "</style>\n",
       "<table border=\"1\" class=\"dataframe\">\n",
       "  <thead>\n",
       "    <tr style=\"text-align: right;\">\n",
       "      <th></th>\n",
       "      <th>Unnamed: 0</th>\n",
       "      <th>Unnamed: 0.1</th>\n",
       "      <th>tweetcreatedts</th>\n",
       "      <th>text</th>\n",
       "      <th>value</th>\n",
       "    </tr>\n",
       "  </thead>\n",
       "  <tbody>\n",
       "    <tr>\n",
       "      <th>0</th>\n",
       "      <td>0.0</td>\n",
       "      <td>620503.0</td>\n",
       "      <td>2022-03-16 22:16:46</td>\n",
       "      <td>By sending weapons to Ukraine and cheer-leadin...</td>\n",
       "      <td>0</td>\n",
       "    </tr>\n",
       "    <tr>\n",
       "      <th>1</th>\n",
       "      <td>1.0</td>\n",
       "      <td>621695.0</td>\n",
       "      <td>2022-03-16 22:50:54</td>\n",
       "      <td>Here is the other NFT charity drop I'm a part ...</td>\n",
       "      <td>2</td>\n",
       "    </tr>\n",
       "    <tr>\n",
       "      <th>2</th>\n",
       "      <td>2.0</td>\n",
       "      <td>615671.0</td>\n",
       "      <td>2022-03-16 19:58:05</td>\n",
       "      <td>The Russian Orthodox Church is alienating Ukra...</td>\n",
       "      <td>0</td>\n",
       "    </tr>\n",
       "    <tr>\n",
       "      <th>3</th>\n",
       "      <td>3.0</td>\n",
       "      <td>622314.0</td>\n",
       "      <td>2022-03-16 23:06:47</td>\n",
       "      <td>@MSNBC Ã° War in #Ukraine is a Massive Bonanza...</td>\n",
       "      <td>0</td>\n",
       "    </tr>\n",
       "    <tr>\n",
       "      <th>4</th>\n",
       "      <td>4.0</td>\n",
       "      <td>623954.0</td>\n",
       "      <td>2022-03-16 23:51:20</td>\n",
       "      <td>\"We believe in peaceful and non-violent civil ...</td>\n",
       "      <td>2</td>\n",
       "    </tr>\n",
       "    <tr>\n",
       "      <th>5</th>\n",
       "      <td>5.0</td>\n",
       "      <td>589927.0</td>\n",
       "      <td>2022-03-16 09:07:52</td>\n",
       "      <td>Following talks with his #Iranian counterpart ...</td>\n",
       "      <td>0</td>\n",
       "    </tr>\n",
       "    <tr>\n",
       "      <th>6</th>\n",
       "      <td>6.0</td>\n",
       "      <td>613350.0</td>\n",
       "      <td>2022-03-16 18:50:42</td>\n",
       "      <td>In this week's @TheNewArabVoice, we speak with...</td>\n",
       "      <td>0</td>\n",
       "    </tr>\n",
       "    <tr>\n",
       "      <th>7</th>\n",
       "      <td>7.0</td>\n",
       "      <td>596025.0</td>\n",
       "      <td>2022-03-16 12:05:59</td>\n",
       "      <td>It will take time for talks with #Russia to en...</td>\n",
       "      <td>1</td>\n",
       "    </tr>\n",
       "    <tr>\n",
       "      <th>8</th>\n",
       "      <td>8.0</td>\n",
       "      <td>612921.0</td>\n",
       "      <td>2022-03-16 18:35:09</td>\n",
       "      <td>If #Ukraine had student loan debts they'd neve...</td>\n",
       "      <td>0</td>\n",
       "    </tr>\n",
       "    <tr>\n",
       "      <th>9</th>\n",
       "      <td>9.0</td>\n",
       "      <td>591123.0</td>\n",
       "      <td>2022-03-16 09:46:36</td>\n",
       "      <td>Ã¢The #Polish government has suggested organis...</td>\n",
       "      <td>1</td>\n",
       "    </tr>\n",
       "  </tbody>\n",
       "</table>\n",
       "</div>"
      ],
      "text/plain": [
       "   Unnamed: 0  Unnamed: 0.1       tweetcreatedts  \\\n",
       "0         0.0      620503.0  2022-03-16 22:16:46   \n",
       "1         1.0      621695.0  2022-03-16 22:50:54   \n",
       "2         2.0      615671.0  2022-03-16 19:58:05   \n",
       "3         3.0      622314.0  2022-03-16 23:06:47   \n",
       "4         4.0      623954.0  2022-03-16 23:51:20   \n",
       "5         5.0      589927.0  2022-03-16 09:07:52   \n",
       "6         6.0      613350.0  2022-03-16 18:50:42   \n",
       "7         7.0      596025.0  2022-03-16 12:05:59   \n",
       "8         8.0      612921.0  2022-03-16 18:35:09   \n",
       "9         9.0      591123.0  2022-03-16 09:46:36   \n",
       "\n",
       "                                                text  value  \n",
       "0  By sending weapons to Ukraine and cheer-leadin...      0  \n",
       "1  Here is the other NFT charity drop I'm a part ...      2  \n",
       "2  The Russian Orthodox Church is alienating Ukra...      0  \n",
       "3  @MSNBC Ã° War in #Ukraine is a Massive Bonanza...      0  \n",
       "4  \"We believe in peaceful and non-violent civil ...      2  \n",
       "5  Following talks with his #Iranian counterpart ...      0  \n",
       "6  In this week's @TheNewArabVoice, we speak with...      0  \n",
       "7  It will take time for talks with #Russia to en...      1  \n",
       "8  If #Ukraine had student loan debts they'd neve...      0  \n",
       "9  Ã¢The #Polish government has suggested organis...      1  "
      ]
     },
     "execution_count": 2,
     "metadata": {},
     "output_type": "execute_result"
    }
   ],
   "source": [
    "df.head(10)"
   ]
  },
  {
   "cell_type": "code",
   "execution_count": 3,
   "id": "3d8a675f",
   "metadata": {},
   "outputs": [],
   "source": [
    "#Start to clean the data\n",
    "import re\n",
    "from bs4 import BeautifulSoup\n",
    "from html import unescape\n",
    "\n",
    "def clean_message(message):\n",
    "    '''\n",
    "    Input:\n",
    "        message: a string containing a message.\n",
    "    Output:\n",
    "        message: a list of words containing the processed message. \n",
    "\n",
    "    '''\n",
    "    message = message.lower()\n",
    "    #remove urls\n",
    "    message = re.sub(r'(https|http)?:\\/\\/(\\w|\\.|\\/|\\?|\\=|\\&|\\%)*\\b', '', message)\n",
    "    #unescape characters\n",
    "    soup = BeautifulSoup(unescape(message), 'lxml')\n",
    "    message = soup.text\n",
    "    #remove emoticons\n",
    "    regrex_pattern = re.compile(pattern = \"[\"   \n",
    "        #graphs, symbols                        \n",
    "        u\"\\U0001F300-\\U0001F5FF\" \n",
    "        #emoticons\n",
    "        u\"\\U0001F600-\\U0001F64F\"\n",
    "        #flags\n",
    "        u\"\\U0001F1E0-\\U0001F1FF\" \n",
    "        #map and transport\n",
    "        u\"\\U0001F680-\\U0001F6FF\"  \n",
    "                           \"]+\", flags = re.UNICODE)\n",
    "    message = regrex_pattern.sub(r'', message)\n",
    "    #remove redundant white spaces\n",
    "    message = re.sub(' +', ' ', message)\n",
    "    #remove special characters \n",
    "    message = re.sub(r\"[^a-zA-Z0-9?!.,]+\", ' ', message)\n",
    "     \n",
    "    return message\n"
   ]
  },
  {
   "cell_type": "code",
   "execution_count": 4,
   "id": "9f8de591",
   "metadata": {},
   "outputs": [],
   "source": [
    "df['text'] = df['text'].apply(clean_message)"
   ]
  },
  {
   "cell_type": "code",
   "execution_count": 5,
   "id": "05050ad0",
   "metadata": {},
   "outputs": [
    {
     "data": {
      "text/html": [
       "<div>\n",
       "<style scoped>\n",
       "    .dataframe tbody tr th:only-of-type {\n",
       "        vertical-align: middle;\n",
       "    }\n",
       "\n",
       "    .dataframe tbody tr th {\n",
       "        vertical-align: top;\n",
       "    }\n",
       "\n",
       "    .dataframe thead th {\n",
       "        text-align: right;\n",
       "    }\n",
       "</style>\n",
       "<table border=\"1\" class=\"dataframe\">\n",
       "  <thead>\n",
       "    <tr style=\"text-align: right;\">\n",
       "      <th></th>\n",
       "      <th>Unnamed: 0</th>\n",
       "      <th>Unnamed: 0.1</th>\n",
       "      <th>tweetcreatedts</th>\n",
       "      <th>text</th>\n",
       "      <th>value</th>\n",
       "    </tr>\n",
       "  </thead>\n",
       "  <tbody>\n",
       "    <tr>\n",
       "      <th>0</th>\n",
       "      <td>0.0</td>\n",
       "      <td>620503.0</td>\n",
       "      <td>2022-03-16 22:16:46</td>\n",
       "      <td>by sending weapons to ukraine and cheer leadin...</td>\n",
       "      <td>0</td>\n",
       "    </tr>\n",
       "    <tr>\n",
       "      <th>1</th>\n",
       "      <td>1.0</td>\n",
       "      <td>621695.0</td>\n",
       "      <td>2022-03-16 22:50:54</td>\n",
       "      <td>here is the other nft charity drop i m a part ...</td>\n",
       "      <td>2</td>\n",
       "    </tr>\n",
       "    <tr>\n",
       "      <th>2</th>\n",
       "      <td>2.0</td>\n",
       "      <td>615671.0</td>\n",
       "      <td>2022-03-16 19:58:05</td>\n",
       "      <td>the russian orthodox church is alienating ukra...</td>\n",
       "      <td>0</td>\n",
       "    </tr>\n",
       "    <tr>\n",
       "      <th>3</th>\n",
       "      <td>3.0</td>\n",
       "      <td>622314.0</td>\n",
       "      <td>2022-03-16 23:06:47</td>\n",
       "      <td>msnbc war in ukraine is a massive bonanza for...</td>\n",
       "      <td>0</td>\n",
       "    </tr>\n",
       "    <tr>\n",
       "      <th>4</th>\n",
       "      <td>4.0</td>\n",
       "      <td>623954.0</td>\n",
       "      <td>2022-03-16 23:51:20</td>\n",
       "      <td>we believe in peaceful and non violent civil ...</td>\n",
       "      <td>2</td>\n",
       "    </tr>\n",
       "    <tr>\n",
       "      <th>5</th>\n",
       "      <td>5.0</td>\n",
       "      <td>589927.0</td>\n",
       "      <td>2022-03-16 09:07:52</td>\n",
       "      <td>following talks with his iranian counterpart i...</td>\n",
       "      <td>0</td>\n",
       "    </tr>\n",
       "    <tr>\n",
       "      <th>6</th>\n",
       "      <td>6.0</td>\n",
       "      <td>613350.0</td>\n",
       "      <td>2022-03-16 18:50:42</td>\n",
       "      <td>in this week s thenewarabvoice, we speak with ...</td>\n",
       "      <td>0</td>\n",
       "    </tr>\n",
       "    <tr>\n",
       "      <th>7</th>\n",
       "      <td>7.0</td>\n",
       "      <td>596025.0</td>\n",
       "      <td>2022-03-16 12:05:59</td>\n",
       "      <td>it will take time for talks with russia to end...</td>\n",
       "      <td>1</td>\n",
       "    </tr>\n",
       "    <tr>\n",
       "      <th>8</th>\n",
       "      <td>8.0</td>\n",
       "      <td>612921.0</td>\n",
       "      <td>2022-03-16 18:35:09</td>\n",
       "      <td>if ukraine had student loan debts they d never...</td>\n",
       "      <td>0</td>\n",
       "    </tr>\n",
       "    <tr>\n",
       "      <th>9</th>\n",
       "      <td>9.0</td>\n",
       "      <td>591123.0</td>\n",
       "      <td>2022-03-16 09:46:36</td>\n",
       "      <td>the polish government has suggested organisin...</td>\n",
       "      <td>1</td>\n",
       "    </tr>\n",
       "  </tbody>\n",
       "</table>\n",
       "</div>"
      ],
      "text/plain": [
       "   Unnamed: 0  Unnamed: 0.1       tweetcreatedts  \\\n",
       "0         0.0      620503.0  2022-03-16 22:16:46   \n",
       "1         1.0      621695.0  2022-03-16 22:50:54   \n",
       "2         2.0      615671.0  2022-03-16 19:58:05   \n",
       "3         3.0      622314.0  2022-03-16 23:06:47   \n",
       "4         4.0      623954.0  2022-03-16 23:51:20   \n",
       "5         5.0      589927.0  2022-03-16 09:07:52   \n",
       "6         6.0      613350.0  2022-03-16 18:50:42   \n",
       "7         7.0      596025.0  2022-03-16 12:05:59   \n",
       "8         8.0      612921.0  2022-03-16 18:35:09   \n",
       "9         9.0      591123.0  2022-03-16 09:46:36   \n",
       "\n",
       "                                                text  value  \n",
       "0  by sending weapons to ukraine and cheer leadin...      0  \n",
       "1  here is the other nft charity drop i m a part ...      2  \n",
       "2  the russian orthodox church is alienating ukra...      0  \n",
       "3   msnbc war in ukraine is a massive bonanza for...      0  \n",
       "4   we believe in peaceful and non violent civil ...      2  \n",
       "5  following talks with his iranian counterpart i...      0  \n",
       "6  in this week s thenewarabvoice, we speak with ...      0  \n",
       "7  it will take time for talks with russia to end...      1  \n",
       "8  if ukraine had student loan debts they d never...      0  \n",
       "9   the polish government has suggested organisin...      1  "
      ]
     },
     "execution_count": 5,
     "metadata": {},
     "output_type": "execute_result"
    }
   ],
   "source": [
    "df.head(10)"
   ]
  },
  {
   "cell_type": "code",
   "execution_count": 6,
   "id": "69d5d96d",
   "metadata": {},
   "outputs": [
    {
     "name": "stdout",
     "output_type": "stream",
     "text": [
      "Requirement already satisfied: flair in /Users/yannanzheng/opt/anaconda3/lib/python3.9/site-packages (0.10)\n",
      "Requirement already satisfied: wikipedia-api in /Users/yannanzheng/opt/anaconda3/lib/python3.9/site-packages (from flair) (0.5.4)\n",
      "Requirement already satisfied: lxml in /Users/yannanzheng/opt/anaconda3/lib/python3.9/site-packages (from flair) (4.6.3)\n",
      "Requirement already satisfied: konoha<5.0.0,>=4.0.0 in /Users/yannanzheng/opt/anaconda3/lib/python3.9/site-packages (from flair) (4.6.5)\n",
      "Requirement already satisfied: ftfy in /Users/yannanzheng/opt/anaconda3/lib/python3.9/site-packages (from flair) (6.1.1)\n",
      "Requirement already satisfied: bpemb>=0.3.2 in /Users/yannanzheng/opt/anaconda3/lib/python3.9/site-packages (from flair) (0.3.3)\n",
      "Requirement already satisfied: sqlitedict>=1.6.0 in /Users/yannanzheng/opt/anaconda3/lib/python3.9/site-packages (from flair) (2.0.0)\n",
      "Requirement already satisfied: tabulate in /Users/yannanzheng/opt/anaconda3/lib/python3.9/site-packages (from flair) (0.8.9)\n",
      "Requirement already satisfied: gensim>=3.4.0 in /Users/yannanzheng/opt/anaconda3/lib/python3.9/site-packages (from flair) (4.1.2)\n",
      "Requirement already satisfied: segtok>=1.5.7 in /Users/yannanzheng/opt/anaconda3/lib/python3.9/site-packages (from flair) (1.5.11)\n",
      "Requirement already satisfied: torch!=1.8,>=1.5.0 in /Users/yannanzheng/opt/anaconda3/lib/python3.9/site-packages (from flair) (1.8.1)\n",
      "Requirement already satisfied: janome in /Users/yannanzheng/opt/anaconda3/lib/python3.9/site-packages (from flair) (0.4.2)\n",
      "Requirement already satisfied: sentencepiece==0.1.95 in /Users/yannanzheng/opt/anaconda3/lib/python3.9/site-packages (from flair) (0.1.95)\n",
      "Requirement already satisfied: langdetect in /Users/yannanzheng/opt/anaconda3/lib/python3.9/site-packages (from flair) (1.0.9)\n",
      "Requirement already satisfied: tqdm>=4.26.0 in /Users/yannanzheng/opt/anaconda3/lib/python3.9/site-packages (from flair) (4.62.3)\n",
      "Requirement already satisfied: mpld3==0.3 in /Users/yannanzheng/opt/anaconda3/lib/python3.9/site-packages (from flair) (0.3)\n",
      "Requirement already satisfied: conllu>=4.0 in /Users/yannanzheng/opt/anaconda3/lib/python3.9/site-packages (from flair) (4.4.1)\n",
      "Requirement already satisfied: deprecated>=1.2.4 in /Users/yannanzheng/opt/anaconda3/lib/python3.9/site-packages (from flair) (1.2.13)\n",
      "Requirement already satisfied: matplotlib>=2.2.3 in /Users/yannanzheng/opt/anaconda3/lib/python3.9/site-packages (from flair) (3.4.3)\n",
      "Requirement already satisfied: more-itertools~=8.8.0 in /Users/yannanzheng/opt/anaconda3/lib/python3.9/site-packages (from flair) (8.8.0)\n",
      "Requirement already satisfied: regex in /Users/yannanzheng/opt/anaconda3/lib/python3.9/site-packages (from flair) (2021.8.3)\n",
      "Requirement already satisfied: python-dateutil>=2.6.1 in /Users/yannanzheng/opt/anaconda3/lib/python3.9/site-packages (from flair) (2.8.2)\n",
      "Requirement already satisfied: transformers>=4.0.0 in /Users/yannanzheng/opt/anaconda3/lib/python3.9/site-packages (from flair) (4.17.0)\n",
      "Requirement already satisfied: scikit-learn>=0.21.3 in /Users/yannanzheng/opt/anaconda3/lib/python3.9/site-packages (from flair) (0.24.2)\n",
      "Requirement already satisfied: huggingface-hub in /Users/yannanzheng/opt/anaconda3/lib/python3.9/site-packages (from flair) (0.4.0)\n",
      "Requirement already satisfied: gdown==3.12.2 in /Users/yannanzheng/opt/anaconda3/lib/python3.9/site-packages (from flair) (3.12.2)\n",
      "Requirement already satisfied: six in /Users/yannanzheng/opt/anaconda3/lib/python3.9/site-packages (from gdown==3.12.2->flair) (1.16.0)\n",
      "Requirement already satisfied: requests[socks] in /Users/yannanzheng/opt/anaconda3/lib/python3.9/site-packages (from gdown==3.12.2->flair) (2.26.0)\n",
      "Requirement already satisfied: filelock in /Users/yannanzheng/opt/anaconda3/lib/python3.9/site-packages (from gdown==3.12.2->flair) (3.3.1)\n",
      "Requirement already satisfied: numpy in /Users/yannanzheng/opt/anaconda3/lib/python3.9/site-packages (from bpemb>=0.3.2->flair) (1.20.3)\n",
      "Requirement already satisfied: wrapt<2,>=1.10 in /Users/yannanzheng/opt/anaconda3/lib/python3.9/site-packages (from deprecated>=1.2.4->flair) (1.12.1)\n",
      "Requirement already satisfied: smart-open>=1.8.1 in /Users/yannanzheng/opt/anaconda3/lib/python3.9/site-packages (from gensim>=3.4.0->flair) (5.2.1)\n",
      "Requirement already satisfied: scipy>=0.18.1 in /Users/yannanzheng/opt/anaconda3/lib/python3.9/site-packages (from gensim>=3.4.0->flair) (1.7.1)\n",
      "Requirement already satisfied: overrides<4.0.0,>=3.0.0 in /Users/yannanzheng/opt/anaconda3/lib/python3.9/site-packages (from konoha<5.0.0,>=4.0.0->flair) (3.1.0)\n",
      "Requirement already satisfied: importlib-metadata<4.0.0,>=3.7.0 in /Users/yannanzheng/opt/anaconda3/lib/python3.9/site-packages (from konoha<5.0.0,>=4.0.0->flair) (3.10.1)\n",
      "Requirement already satisfied: zipp>=0.5 in /Users/yannanzheng/opt/anaconda3/lib/python3.9/site-packages (from importlib-metadata<4.0.0,>=3.7.0->konoha<5.0.0,>=4.0.0->flair) (3.6.0)\n",
      "Requirement already satisfied: pyparsing>=2.2.1 in /Users/yannanzheng/opt/anaconda3/lib/python3.9/site-packages (from matplotlib>=2.2.3->flair) (3.0.4)\n",
      "Requirement already satisfied: kiwisolver>=1.0.1 in /Users/yannanzheng/opt/anaconda3/lib/python3.9/site-packages (from matplotlib>=2.2.3->flair) (1.3.1)\n",
      "Requirement already satisfied: cycler>=0.10 in /Users/yannanzheng/opt/anaconda3/lib/python3.9/site-packages (from matplotlib>=2.2.3->flair) (0.10.0)\n",
      "Requirement already satisfied: pillow>=6.2.0 in /Users/yannanzheng/opt/anaconda3/lib/python3.9/site-packages (from matplotlib>=2.2.3->flair) (8.4.0)\n",
      "Requirement already satisfied: idna<4,>=2.5 in /Users/yannanzheng/opt/anaconda3/lib/python3.9/site-packages (from requests[socks]->gdown==3.12.2->flair) (3.2)\n",
      "Requirement already satisfied: charset-normalizer~=2.0.0 in /Users/yannanzheng/opt/anaconda3/lib/python3.9/site-packages (from requests[socks]->gdown==3.12.2->flair) (2.0.4)\n",
      "Requirement already satisfied: certifi>=2017.4.17 in /Users/yannanzheng/opt/anaconda3/lib/python3.9/site-packages (from requests[socks]->gdown==3.12.2->flair) (2021.10.8)\n",
      "Requirement already satisfied: urllib3<1.27,>=1.21.1 in /Users/yannanzheng/opt/anaconda3/lib/python3.9/site-packages (from requests[socks]->gdown==3.12.2->flair) (1.26.7)\n",
      "Requirement already satisfied: threadpoolctl>=2.0.0 in /Users/yannanzheng/opt/anaconda3/lib/python3.9/site-packages (from scikit-learn>=0.21.3->flair) (2.2.0)\n",
      "Requirement already satisfied: joblib>=0.11 in /Users/yannanzheng/opt/anaconda3/lib/python3.9/site-packages (from scikit-learn>=0.21.3->flair) (1.1.0)\n",
      "Requirement already satisfied: typing-extensions in /Users/yannanzheng/opt/anaconda3/lib/python3.9/site-packages (from torch!=1.8,>=1.5.0->flair) (3.10.0.2)\n",
      "Requirement already satisfied: pyyaml>=5.1 in /Users/yannanzheng/opt/anaconda3/lib/python3.9/site-packages (from transformers>=4.0.0->flair) (6.0)\n",
      "Requirement already satisfied: tokenizers!=0.11.3,>=0.11.1 in /Users/yannanzheng/opt/anaconda3/lib/python3.9/site-packages (from transformers>=4.0.0->flair) (0.11.6)\n",
      "Requirement already satisfied: sacremoses in /Users/yannanzheng/opt/anaconda3/lib/python3.9/site-packages (from transformers>=4.0.0->flair) (0.0.49)\n",
      "Requirement already satisfied: packaging>=20.0 in /Users/yannanzheng/opt/anaconda3/lib/python3.9/site-packages (from transformers>=4.0.0->flair) (21.0)\n",
      "Requirement already satisfied: wcwidth>=0.2.5 in /Users/yannanzheng/opt/anaconda3/lib/python3.9/site-packages (from ftfy->flair) (0.2.5)\n",
      "Requirement already satisfied: PySocks!=1.5.7,>=1.5.6 in /Users/yannanzheng/opt/anaconda3/lib/python3.9/site-packages (from requests[socks]->gdown==3.12.2->flair) (1.7.1)\n",
      "Requirement already satisfied: click in /Users/yannanzheng/opt/anaconda3/lib/python3.9/site-packages (from sacremoses->transformers>=4.0.0->flair) (8.0.3)\n"
     ]
    }
   ],
   "source": [
    "!pip install flair"
   ]
  },
  {
   "cell_type": "code",
   "execution_count": 7,
   "id": "d4be69f3",
   "metadata": {},
   "outputs": [
    {
     "name": "stdout",
     "output_type": "stream",
     "text": [
      "2022-04-23 17:25:20,109 loading file /Users/yannanzheng/.flair/models/sentiment-en-mix-distillbert_4.pt\n"
     ]
    }
   ],
   "source": [
    "from flair.models import TextClassifier\n",
    "from flair.data import Sentence\n",
    "classifier = TextClassifier.load('en-sentiment')"
   ]
  },
  {
   "cell_type": "code",
   "execution_count": 8,
   "id": "a6ad0c42",
   "metadata": {},
   "outputs": [
    {
     "name": "stdout",
     "output_type": "stream",
     "text": [
      "Sentence: \"it will take time for talks with russia to end the war .\"   [− Tokens: 13]\n",
      "{'result': 'NEGATIVE', 'score': '0.96'}\n"
     ]
    }
   ],
   "source": [
    "#let's see how flair model work\n",
    "sentence_try = Sentence(\"it will take time for talks with russia to end the war.\")\n",
    "print(sentence_try)\n",
    "classifier.predict(sentence_try)\n",
    "sentiment = sentence_try.labels[0]\n",
    "sentiment_score = sentiment.score\n",
    "result = {'result': sentiment.value, 'score':\"%.2f\" % sentiment_score}\n",
    "print(result)"
   ]
  },
  {
   "cell_type": "code",
   "execution_count": 9,
   "id": "cbb48c70",
   "metadata": {},
   "outputs": [],
   "source": [
    "#A helper function that predict the sentiment status and sentiment score, \n",
    "#prepare to store them into a csv(the next step)\n",
    "\n",
    "def flair_prediction(x):\n",
    "\n",
    "    sentence = Sentence(x)\n",
    "    \n",
    "    try:        \n",
    "        classifier.predict(sentence)\n",
    "        score = sentence.labels[0]\n",
    "        staging_score = str(score).replace(\"(\",\",\").replace(\")\",\"\")\n",
    "        \n",
    "        sentiment_score = staging_score.split(\",\")\n",
    "        \n",
    "        if \"POSITIVE\" in str(sentiment_score[0]):\n",
    "            return sentiment_score[0].strip(), float(sentiment_score[1].strip())\n",
    "        elif \"NEGATIVE\" in str(sentiment_score[0]):\n",
    "            return sentiment_score[0].strip(), float(sentiment_score[1].strip())\n",
    "        \n",
    "    except Exception:\n",
    "        print(sentence)\n",
    "        pass \n",
    "    \n",
    "    return \"ERROR\",0.00"
   ]
  },
  {
   "cell_type": "code",
   "execution_count": 10,
   "id": "1c7cfea9",
   "metadata": {},
   "outputs": [],
   "source": [
    "# create two columns for sentiment status and sentiment score\n",
    "df['Sentiment_status'] = \"\"\n",
    "df['Sentiment_score'] = np.nan"
   ]
  },
  {
   "cell_type": "code",
   "execution_count": 11,
   "id": "aee09b6c",
   "metadata": {},
   "outputs": [
    {
     "name": "stderr",
     "output_type": "stream",
     "text": [
      "Pandas Apply: 100%|███████████████████████████| 600/600 [01:03<00:00,  9.49it/s]\n"
     ]
    }
   ],
   "source": [
    "#using swifter to suppress the results \n",
    "import swifter\n",
    "df[\"Sentiment_status\"],df[\"Sentiment_score\"] =  zip(*df[\"text\"].swifter.apply(flair_prediction))"
   ]
  },
  {
   "cell_type": "code",
   "execution_count": 12,
   "id": "60983fc6",
   "metadata": {},
   "outputs": [],
   "source": [
    "#store the result into a csv\n",
    "data_tofile = df[['text', 'value', 'Sentiment_status', 'Sentiment_score']]\n",
    "data_tofile.to_csv('600_flair_score.csv')"
   ]
  },
  {
   "cell_type": "code",
   "execution_count": 13,
   "id": "4f043912",
   "metadata": {},
   "outputs": [
    {
     "data": {
      "text/plain": [
       "<AxesSubplot:ylabel='Unnamed: 0'>"
      ]
     },
     "execution_count": 13,
     "metadata": {},
     "output_type": "execute_result"
    },
    {
     "data": {
      "image/png": "[encoded data removed]",
      "text/plain": [
       "<Figure size 432x288 with 1 Axes>"
      ]
     },
     "metadata": {},
     "output_type": "display_data"
    }
   ],
   "source": [
    "#generate a pie chart to see the ratio of sentiment status\n",
    "\n",
    "import matplotlib.pyplot as plt\n",
    "df.groupby(['Sentiment_status']).sum().plot(kind='pie', y='Unnamed: 0', autopct='%1.1f%%', startangle=200, fontsize=15)"
   ]
  },
  {
   "cell_type": "code",
   "execution_count": 14,
   "id": "8875b764",
   "metadata": {},
   "outputs": [
    {
     "data": {
      "text/html": [
       "<div>\n",
       "<style scoped>\n",
       "    .dataframe tbody tr th:only-of-type {\n",
       "        vertical-align: middle;\n",
       "    }\n",
       "\n",
       "    .dataframe tbody tr th {\n",
       "        vertical-align: top;\n",
       "    }\n",
       "\n",
       "    .dataframe thead tr th {\n",
       "        text-align: left;\n",
       "    }\n",
       "\n",
       "    .dataframe thead tr:last-of-type th {\n",
       "        text-align: right;\n",
       "    }\n",
       "</style>\n",
       "<table border=\"1\" class=\"dataframe\">\n",
       "  <thead>\n",
       "    <tr>\n",
       "      <th></th>\n",
       "      <th colspan=\"2\" halign=\"left\">Sentiment_score</th>\n",
       "    </tr>\n",
       "    <tr>\n",
       "      <th></th>\n",
       "      <th>count</th>\n",
       "      <th>mean</th>\n",
       "    </tr>\n",
       "    <tr>\n",
       "      <th>Sentiment_status</th>\n",
       "      <th></th>\n",
       "      <th></th>\n",
       "    </tr>\n",
       "  </thead>\n",
       "  <tbody>\n",
       "    <tr>\n",
       "      <th>NEGATIVE</th>\n",
       "      <td>404</td>\n",
       "      <td>0.926424</td>\n",
       "    </tr>\n",
       "    <tr>\n",
       "      <th>POSITIVE</th>\n",
       "      <td>196</td>\n",
       "      <td>0.878885</td>\n",
       "    </tr>\n",
       "  </tbody>\n",
       "</table>\n",
       "</div>"
      ],
      "text/plain": [
       "                 Sentiment_score          \n",
       "                           count      mean\n",
       "Sentiment_status                          \n",
       "NEGATIVE                     404  0.926424\n",
       "POSITIVE                     196  0.878885"
      ]
     },
     "execution_count": 14,
     "metadata": {},
     "output_type": "execute_result"
    }
   ],
   "source": [
    "df.groupby([\"Sentiment_status\"]).agg({'Sentiment_score': ['count','mean']})"
   ]
  },
  {
   "cell_type": "code",
   "execution_count": 15,
   "id": "f769fec0",
   "metadata": {},
   "outputs": [
    {
     "data": {
      "image/png": "[encoded data removed]",
      "text/plain": [
       "<Figure size 432x288 with 1 Axes>"
      ]
     },
     "metadata": {},
     "output_type": "display_data"
    }
   ],
   "source": [
    "#our team labeled negative tweets as 0, neutral tweet as 1 and positive tweet as 2 in the value column.\n",
    "negative = df[df[\"value\"] == 0]\n",
    "neutral = df[df[\"value\"] == 1]\n",
    "positive = df[df[\"value\"] == 2]\n",
    "percent_negative = len(negative)/600\n",
    "percent_neutral = len(neutral)/600\n",
    "percent_positive = len(positive)/600\n",
    "\n",
    "#let's see a pie chart of hand_labeled status \n",
    "labels = 'Negative', 'Neutral', 'Positive'\n",
    "sizes = percent_negative, percent_neutral, percent_positive\n",
    "fig1, ax1 = plt.subplots()\n",
    "ax1.pie(sizes, labels=labels, autopct='%1.1f%%',shadow=True, startangle=200)\n",
    "ax1.axis('equal')\n",
    "plt.show()"
   ]
  },
  {
   "cell_type": "code",
   "execution_count": 16,
   "id": "52be192a",
   "metadata": {},
   "outputs": [],
   "source": [
    "#count the number of tweets bese on their flair score\n",
    "def cut_off_score(x):\n",
    "    count = 0\n",
    "    for i in df.index:\n",
    "        num = df['Sentiment_score'][i]\n",
    "        if num <= x:\n",
    "             count += 1 \n",
    "    return count"
   ]
  },
  {
   "cell_type": "code",
   "execution_count": 17,
   "id": "ba145b32",
   "metadata": {},
   "outputs": [
    {
     "name": "stdout",
     "output_type": "stream",
     "text": [
      "167\n",
      "228\n",
      "277\n"
     ]
    }
   ],
   "source": [
    "num_90 = cut_off_score(0.9)\n",
    "print(num_90)\n",
    "num_96 = cut_off_score(0.96)\n",
    "print(num_96)\n",
    "num_98 = cut_off_score(0.98)\n",
    "print(num_98)"
   ]
  },
  {
   "cell_type": "code",
   "execution_count": 18,
   "id": "f8ac981a",
   "metadata": {},
   "outputs": [],
   "source": [
    "#if the tweet's score less than the target number, replace the sentiment status to Neutral.\n",
    "def replace_score(x):\n",
    "    score_x = df\n",
    "    score_x.loc[score_x['Sentiment_score'] <= x, \"Sentiment_status\"] = \"Neutral\"  \n",
    "    return score_x"
   ]
  },
  {
   "cell_type": "code",
   "execution_count": 19,
   "id": "a863dc42",
   "metadata": {},
   "outputs": [],
   "source": [
    "#compare each tweet's sentiment status to hand-labeled value, get the number of tweets that have same value \n",
    "#on sentiment status and hand-labeled value.\n",
    "def accuracy(replaced_set):\n",
    "    count = 0\n",
    "    for i in replaced_set.index:\n",
    "        if (replaced_set['Sentiment_status'][i] == \"NEGATIVE\" and replaced_set['value'][i]  == 0):\n",
    "            count += 1\n",
    "        elif (replaced_set['Sentiment_status'][i] == \"Neutral\" and replaced_set['value'][i]  == 1):\n",
    "            count += 1\n",
    "        elif (replaced_set['Sentiment_status'][i] == \"POSITIVE\" and replaced_set['value'][i]  == 2):\n",
    "            count += 1\n",
    "    return count"
   ]
  },
  {
   "cell_type": "code",
   "execution_count": 21,
   "id": "85554fe3",
   "metadata": {},
   "outputs": [
    {
     "name": "stdout",
     "output_type": "stream",
     "text": [
      "The total number of tweets which sentiment status equals hand-labeled value: 346\n",
      "Accuracy: 0.5767\n"
     ]
    },
    {
     "data": {
      "text/html": [
       "<div>\n",
       "<style scoped>\n",
       "    .dataframe tbody tr th:only-of-type {\n",
       "        vertical-align: middle;\n",
       "    }\n",
       "\n",
       "    .dataframe tbody tr th {\n",
       "        vertical-align: top;\n",
       "    }\n",
       "\n",
       "    .dataframe thead tr th {\n",
       "        text-align: left;\n",
       "    }\n",
       "\n",
       "    .dataframe thead tr:last-of-type th {\n",
       "        text-align: right;\n",
       "    }\n",
       "</style>\n",
       "<table border=\"1\" class=\"dataframe\">\n",
       "  <thead>\n",
       "    <tr>\n",
       "      <th></th>\n",
       "      <th colspan=\"2\" halign=\"left\">Sentiment_score</th>\n",
       "    </tr>\n",
       "    <tr>\n",
       "      <th></th>\n",
       "      <th>count</th>\n",
       "      <th>mean</th>\n",
       "    </tr>\n",
       "    <tr>\n",
       "      <th>Sentiment_status</th>\n",
       "      <th></th>\n",
       "      <th></th>\n",
       "    </tr>\n",
       "  </thead>\n",
       "  <tbody>\n",
       "    <tr>\n",
       "      <th>NEGATIVE</th>\n",
       "      <td>308</td>\n",
       "      <td>0.987220</td>\n",
       "    </tr>\n",
       "    <tr>\n",
       "      <th>Neutral</th>\n",
       "      <td>167</td>\n",
       "      <td>0.719986</td>\n",
       "    </tr>\n",
       "    <tr>\n",
       "      <th>POSITIVE</th>\n",
       "      <td>125</td>\n",
       "      <td>0.977879</td>\n",
       "    </tr>\n",
       "  </tbody>\n",
       "</table>\n",
       "</div>"
      ],
      "text/plain": [
       "                 Sentiment_score          \n",
       "                           count      mean\n",
       "Sentiment_status                          \n",
       "NEGATIVE                     308  0.987220\n",
       "Neutral                      167  0.719986\n",
       "POSITIVE                     125  0.977879"
      ]
     },
     "execution_count": 21,
     "metadata": {},
     "output_type": "execute_result"
    },
    {
     "data": {
      "image/png": "[encoded data removed]",
      "text/plain": [
       "<Figure size 432x288 with 1 Axes>"
      ]
     },
     "metadata": {},
     "output_type": "display_data"
    }
   ],
   "source": [
    "a = replace_score(0.9)\n",
    "count_90 = accuracy(a)\n",
    "rate = count_90 / 600\n",
    "print(\"The total number of tweets which sentiment status equals hand-labeled value:\" , count_90)\n",
    "print(\"Accuracy:\" , round(rate, 4))\n",
    "df.groupby(['Sentiment_status']).sum().plot(kind='pie', y='Unnamed: 0', autopct='%1.1f%%', startangle=250, fontsize=15)\n",
    "df.groupby([\"Sentiment_status\"]).agg({'Sentiment_score': ['count','mean']})"
   ]
  },
  {
   "cell_type": "code",
   "execution_count": 22,
   "id": "d7e05c3f",
   "metadata": {},
   "outputs": [
    {
     "name": "stdout",
     "output_type": "stream",
     "text": [
      "The total number of tweets which sentiment status equals hand-labeled value:  329\n",
      "Accuracy: 0.5483\n"
     ]
    },
    {
     "data": {
      "text/html": [
       "<div>\n",
       "<style scoped>\n",
       "    .dataframe tbody tr th:only-of-type {\n",
       "        vertical-align: middle;\n",
       "    }\n",
       "\n",
       "    .dataframe tbody tr th {\n",
       "        vertical-align: top;\n",
       "    }\n",
       "\n",
       "    .dataframe thead tr th {\n",
       "        text-align: left;\n",
       "    }\n",
       "\n",
       "    .dataframe thead tr:last-of-type th {\n",
       "        text-align: right;\n",
       "    }\n",
       "</style>\n",
       "<table border=\"1\" class=\"dataframe\">\n",
       "  <thead>\n",
       "    <tr>\n",
       "      <th></th>\n",
       "      <th colspan=\"2\" halign=\"left\">Sentiment_score</th>\n",
       "    </tr>\n",
       "    <tr>\n",
       "      <th></th>\n",
       "      <th>count</th>\n",
       "      <th>mean</th>\n",
       "    </tr>\n",
       "    <tr>\n",
       "      <th>Sentiment_status</th>\n",
       "      <th></th>\n",
       "      <th></th>\n",
       "    </tr>\n",
       "  </thead>\n",
       "  <tbody>\n",
       "    <tr>\n",
       "      <th>NEGATIVE</th>\n",
       "      <td>272</td>\n",
       "      <td>0.994078</td>\n",
       "    </tr>\n",
       "    <tr>\n",
       "      <th>Neutral</th>\n",
       "      <td>228</td>\n",
       "      <td>0.777577</td>\n",
       "    </tr>\n",
       "    <tr>\n",
       "      <th>POSITIVE</th>\n",
       "      <td>100</td>\n",
       "      <td>0.988598</td>\n",
       "    </tr>\n",
       "  </tbody>\n",
       "</table>\n",
       "</div>"
      ],
      "text/plain": [
       "                 Sentiment_score          \n",
       "                           count      mean\n",
       "Sentiment_status                          \n",
       "NEGATIVE                     272  0.994078\n",
       "Neutral                      228  0.777577\n",
       "POSITIVE                     100  0.988598"
      ]
     },
     "execution_count": 22,
     "metadata": {},
     "output_type": "execute_result"
    },
    {
     "data": {
      "image/png": "[encoded data removed]",
      "text/plain": [
       "<Figure size 432x288 with 1 Axes>"
      ]
     },
     "metadata": {},
     "output_type": "display_data"
    }
   ],
   "source": [
    "b = replace_score(0.96)\n",
    "count_96 = accuracy(b)\n",
    "rate = count_96 / 600\n",
    "print(\"The total number of tweets which sentiment status equals hand-labeled value: \" , count_96)\n",
    "print(\"Accuracy:\" , round(rate, 4))\n",
    "df.groupby(['Sentiment_status']).sum().plot(kind='pie', y='Unnamed: 0', autopct='%1.1f%%', startangle=250, fontsize=15)\n",
    "df.groupby([\"Sentiment_status\"]).agg({'Sentiment_score': ['count','mean']})"
   ]
  },
  {
   "cell_type": "code",
   "execution_count": 23,
   "id": "b308c72c",
   "metadata": {},
   "outputs": [
    {
     "name": "stdout",
     "output_type": "stream",
     "text": [
      "The total number of tweets which sentiment status equals hand-labeled value:  310\n",
      "Accuracy: 0.5167\n"
     ]
    },
    {
     "data": {
      "text/html": [
       "<div>\n",
       "<style scoped>\n",
       "    .dataframe tbody tr th:only-of-type {\n",
       "        vertical-align: middle;\n",
       "    }\n",
       "\n",
       "    .dataframe tbody tr th {\n",
       "        vertical-align: top;\n",
       "    }\n",
       "\n",
       "    .dataframe thead tr th {\n",
       "        text-align: left;\n",
       "    }\n",
       "\n",
       "    .dataframe thead tr:last-of-type th {\n",
       "        text-align: right;\n",
       "    }\n",
       "</style>\n",
       "<table border=\"1\" class=\"dataframe\">\n",
       "  <thead>\n",
       "    <tr>\n",
       "      <th></th>\n",
       "      <th colspan=\"2\" halign=\"left\">Sentiment_score</th>\n",
       "    </tr>\n",
       "    <tr>\n",
       "      <th></th>\n",
       "      <th>count</th>\n",
       "      <th>mean</th>\n",
       "    </tr>\n",
       "    <tr>\n",
       "      <th>Sentiment_status</th>\n",
       "      <th></th>\n",
       "      <th></th>\n",
       "    </tr>\n",
       "  </thead>\n",
       "  <tbody>\n",
       "    <tr>\n",
       "      <th>NEGATIVE</th>\n",
       "      <td>247</td>\n",
       "      <td>0.996396</td>\n",
       "    </tr>\n",
       "    <tr>\n",
       "      <th>Neutral</th>\n",
       "      <td>277</td>\n",
       "      <td>0.811833</td>\n",
       "    </tr>\n",
       "    <tr>\n",
       "      <th>POSITIVE</th>\n",
       "      <td>76</td>\n",
       "      <td>0.994064</td>\n",
       "    </tr>\n",
       "  </tbody>\n",
       "</table>\n",
       "</div>"
      ],
      "text/plain": [
       "                 Sentiment_score          \n",
       "                           count      mean\n",
       "Sentiment_status                          \n",
       "NEGATIVE                     247  0.996396\n",
       "Neutral                      277  0.811833\n",
       "POSITIVE                      76  0.994064"
      ]
     },
     "execution_count": 23,
     "metadata": {},
     "output_type": "execute_result"
    },
    {
     "data": {
      "image/png": "[encoded data removed]",
      "text/plain": [
       "<Figure size 432x288 with 1 Axes>"
      ]
     },
     "metadata": {},
     "output_type": "display_data"
    }
   ],
   "source": [
    "c = replace_score(0.98)\n",
    "count_98 = accuracy(c)\n",
    "rate = count_98 / 600\n",
    "print(\"The total number of tweets which sentiment status equals hand-labeled value: \" , count_98)\n",
    "print(\"Accuracy:\" , round(rate, 4))\n",
    "df.groupby(['Sentiment_status']).sum().plot(kind='pie', y='Unnamed: 0', autopct='%1.1f%%', startangle=250, fontsize=15)\n",
    "df.groupby([\"Sentiment_status\"]).agg({'Sentiment_score': ['count','mean']})"
   ]
  },
  {
   "cell_type": "code",
   "execution_count": null,
   "id": "b81ea110",
   "metadata": {},
   "outputs": [],
   "source": []
  }
 ],
 "metadata": {
  "kernelspec": {
   "display_name": "Python 3.9.7 ('base')",
   "language": "python",
   "name": "python397jvsc74a57bd0325b4530f81be9252f9ee45520d66a6b4efcbf5c069288f124c9bcb34d6c88f5"
  },
  "language_info": {
   "codemirror_mode": {
    "name": "ipython",
    "version": 3
   },
   "file_extension": ".py",
   "mimetype": "text/x-python",
   "name": "python",
   "nbconvert_exporter": "python",
   "pygments_lexer": "ipython3",
   "version": "3.9.7"
  }
 },
 "nbformat": 4,
 "nbformat_minor": 5
}
