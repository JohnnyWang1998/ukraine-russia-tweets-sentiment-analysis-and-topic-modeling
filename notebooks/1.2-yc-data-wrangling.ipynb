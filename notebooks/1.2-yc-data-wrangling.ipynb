{
 "cells": [
  {
   "cell_type": "code",
   "execution_count": 3,
   "id": "78c9cb37",
   "metadata": {},
   "outputs": [
    {
     "name": "stderr",
     "output_type": "stream",
     "text": [
      "[nltk_data] Downloading package punkt to\n",
      "[nltk_data]     C:\\Users\\11941\\AppData\\Roaming\\nltk_data...\n",
      "[nltk_data]   Package punkt is already up-to-date!\n",
      "[nltk_data] Downloading package stopwords to\n",
      "[nltk_data]     C:\\Users\\11941\\AppData\\Roaming\\nltk_data...\n",
      "[nltk_data]   Package stopwords is already up-to-date!\n"
     ]
    }
   ],
   "source": [
    "import pandas as pd\n",
    "import gzip\n",
    "import sys, os\n",
    "import numpy as np\n",
    "from emoji import UNICODE_EMOJI, demojize\n",
    "from tqdm.notebook import tqdm\n",
    "import seaborn as sns\n",
    "import warnings\n",
    "import ast\n",
    "warnings.filterwarnings('ignore')\n",
    "\n",
    "%load_ext autoreload\n",
    "# OPTIONAL: always reload modules so that as you change code in src, it gets loaded\n",
    "%autoreload 2\n",
    "sys.path.insert(0, os.path.abspath('..'))\n",
    "\n",
    "from src.data import make_dataset, preprocessor"
   ]
  },
  {
   "cell_type": "markdown",
   "id": "496567e8",
   "metadata": {},
   "source": [
    "### Created Merged DataFrame"
   ]
  },
  {
   "cell_type": "code",
   "execution_count": 4,
   "id": "f51c55e7",
   "metadata": {},
   "outputs": [
    {
     "name": "stderr",
     "output_type": "stream",
     "text": [
      "100%|██████████| 18/18 [01:52<00:00,  6.26s/it]\n"
     ]
    }
   ],
   "source": [
    "file_list = os.listdir('../data/raw/')\n",
    "final_df = make_dataset.get_dataset('../data/raw/', file_list)"
   ]
  },
  {
   "cell_type": "code",
   "execution_count": 5,
   "id": "d0282b1f",
   "metadata": {},
   "outputs": [],
   "source": [
    "final_df.to_csv('../data/interim/data_cleaned_version_1.csv') # export to csv\n",
    "df = final_df[final_df['language']=='en']\n",
    "ru_df = final_df[final_df['language']=='ru']\n",
    "del final_df"
   ]
  },
  {
   "cell_type": "markdown",
   "id": "3db95734",
   "metadata": {},
   "source": [
    "### Count Emojis"
   ]
  },
  {
   "cell_type": "code",
   "execution_count": 6,
   "id": "eed0b96e",
   "metadata": {},
   "outputs": [
    {
     "data": {
      "text/plain": [
       "[Text(0.5, 1.0, 'Top 20 Most Used Emojis')]"
      ]
     },
     "execution_count": 6,
     "metadata": {},
     "output_type": "execute_result"
    },
    {
     "data": {
      "image/png": "[encoded data removed]",
      "text/plain": [
       "<Figure size 432x288 with 1 Axes>"
      ]
     },
     "metadata": {
      "needs_background": "light"
     },
     "output_type": "display_data"
    }
   ],
   "source": [
    "emojis_df = make_dataset.get_all_emoji(df, 'en')   \n",
    "sns.barplot(y=\"UNICODE\", x=\"count\", data=emojis_df.head(20), palette='viridis').set(title='Top 20 Most Used Emojis')"
   ]
  },
  {
   "cell_type": "code",
   "execution_count": 7,
   "id": "381371fe",
   "metadata": {},
   "outputs": [],
   "source": [
    "emoji_text_dict = {\":blue_heart:\": \"love to ukraine\", \n",
    "                   \":folded_hands:\": \"prayers\", \n",
    "                   \":yellow_heart:\": \"love to ukraine\", \n",
    "                   \":sunflower:\": \"peace\", \n",
    "                   \":red_heart:\": \"love\", \n",
    "                   \":high_voltage:\": \"tension\", \n",
    "                   \":fire:\": \"heated\", \n",
    "                   \":loudly_crying_face:\": \"sad\", \n",
    "                   \":face_with_tears_of_joy:\": \"joy\", \n",
    "                   \":clapping_hands:\": \"excellent\", \n",
    "                   \":broken_heart:\": \"heart break\", \n",
    "                   \":rolling_on_the_floor_laughing:\": \"joy\", \n",
    "                   \":stop_sign:\": \"stop\", \n",
    "                   \":dove:\": \"peace\", \n",
    "                   \":raised_fist:\": \"support\", \n",
    "                   \":flexed_biceps:\": \"strong\", \n",
    "                   \":red_exclamation_mark:\": \"urgent\", \n",
    "                   \"double_exclamation_mark\": \"urgent\",\n",
    "                   \":thinking_face:\": \"pondering\",\n",
    "                   \":thumbs_up:\": \"excellent\",\n",
    "                   \":collision:\": \"conflict\",\n",
    "                   \":pouting_face:\": \"anger\",\n",
    "                   \":warning:\": \"warning\", \n",
    "                   \"face_with_symbols_on_mouth\": \"warning\" \n",
    "                  }\n",
    "\n",
    "#df['text'] = df['text'].map(lambda x: preprocessor.process_emoji(x, emoji_text_dict))"
   ]
  },
  {
   "cell_type": "markdown",
   "id": "626e371a",
   "metadata": {},
   "source": [
    "### Format and Count Hashtags"
   ]
  },
  {
   "cell_type": "code",
   "execution_count": 8,
   "id": "b062a6bb",
   "metadata": {},
   "outputs": [
    {
     "data": {
      "text/html": [
       "<div>\n",
       "<style scoped>\n",
       "    .dataframe tbody tr th:only-of-type {\n",
       "        vertical-align: middle;\n",
       "    }\n",
       "\n",
       "    .dataframe tbody tr th {\n",
       "        vertical-align: top;\n",
       "    }\n",
       "\n",
       "    .dataframe thead th {\n",
       "        text-align: right;\n",
       "    }\n",
       "</style>\n",
       "<table border=\"1\" class=\"dataframe\">\n",
       "  <thead>\n",
       "    <tr style=\"text-align: right;\">\n",
       "      <th></th>\n",
       "      <th>userid</th>\n",
       "      <th>username</th>\n",
       "      <th>following</th>\n",
       "      <th>followers</th>\n",
       "      <th>totaltweets</th>\n",
       "      <th>usercreatedts</th>\n",
       "      <th>tweetcreatedts</th>\n",
       "      <th>retweetcount</th>\n",
       "      <th>text</th>\n",
       "      <th>hashtags</th>\n",
       "      <th>language</th>\n",
       "      <th>favorite_count</th>\n",
       "    </tr>\n",
       "  </thead>\n",
       "  <tbody>\n",
       "    <tr>\n",
       "      <th>0</th>\n",
       "      <td>313480107</td>\n",
       "      <td>chavez145</td>\n",
       "      <td>939</td>\n",
       "      <td>577</td>\n",
       "      <td>69258</td>\n",
       "      <td>2011-06-08 18:31:50</td>\n",
       "      <td>2022-02-28 00:07:06</td>\n",
       "      <td>642</td>\n",
       "      <td>⚡️New York State Governor Kathy Hokul (Democra...</td>\n",
       "      <td>[russia]</td>\n",
       "      <td>en</td>\n",
       "      <td>0</td>\n",
       "    </tr>\n",
       "    <tr>\n",
       "      <th>1</th>\n",
       "      <td>2170195636</td>\n",
       "      <td>d7xen</td>\n",
       "      <td>1631</td>\n",
       "      <td>214</td>\n",
       "      <td>1630</td>\n",
       "      <td>2013-11-06 01:34:15</td>\n",
       "      <td>2022-02-28 00:07:07</td>\n",
       "      <td>6</td>\n",
       "      <td>Closer look at the Vasylkiv oil depot fire whi...</td>\n",
       "      <td>[osint, russia]</td>\n",
       "      <td>en</td>\n",
       "      <td>0</td>\n",
       "    </tr>\n",
       "    <tr>\n",
       "      <th>2</th>\n",
       "      <td>2324486774</td>\n",
       "      <td>GayEqualGlobal</td>\n",
       "      <td>34037</td>\n",
       "      <td>34867</td>\n",
       "      <td>267610</td>\n",
       "      <td>2014-02-02 23:23:52</td>\n",
       "      <td>2022-02-28 00:07:07</td>\n",
       "      <td>1501</td>\n",
       "      <td>#Russia's state media is flipping out over our...</td>\n",
       "      <td>[russia]</td>\n",
       "      <td>en</td>\n",
       "      <td>0</td>\n",
       "    </tr>\n",
       "    <tr>\n",
       "      <th>3</th>\n",
       "      <td>2544474997</td>\n",
       "      <td>Jmltrouille</td>\n",
       "      <td>1586</td>\n",
       "      <td>1429</td>\n",
       "      <td>28390</td>\n",
       "      <td>2014-06-03 22:19:12</td>\n",
       "      <td>2022-02-28 00:07:08</td>\n",
       "      <td>3</td>\n",
       "      <td>Ukrainian National Anthem with English transla...</td>\n",
       "      <td>[ukraine, eukraine]</td>\n",
       "      <td>en</td>\n",
       "      <td>0</td>\n",
       "    </tr>\n",
       "    <tr>\n",
       "      <th>4</th>\n",
       "      <td>991781656808886272</td>\n",
       "      <td>Akan__Drama</td>\n",
       "      <td>1095</td>\n",
       "      <td>1036</td>\n",
       "      <td>22392</td>\n",
       "      <td>2018-05-02 20:49:08</td>\n",
       "      <td>2022-02-28 00:07:08</td>\n",
       "      <td>128</td>\n",
       "      <td>JUST IN: Ukraine opens global recruitment prog...</td>\n",
       "      <td>[]</td>\n",
       "      <td>en</td>\n",
       "      <td>0</td>\n",
       "    </tr>\n",
       "    <tr>\n",
       "      <th>...</th>\n",
       "      <td>...</td>\n",
       "      <td>...</td>\n",
       "      <td>...</td>\n",
       "      <td>...</td>\n",
       "      <td>...</td>\n",
       "      <td>...</td>\n",
       "      <td>...</td>\n",
       "      <td>...</td>\n",
       "      <td>...</td>\n",
       "      <td>...</td>\n",
       "      <td>...</td>\n",
       "      <td>...</td>\n",
       "    </tr>\n",
       "    <tr>\n",
       "      <th>835197</th>\n",
       "      <td>536744675</td>\n",
       "      <td>SCVIndy</td>\n",
       "      <td>4083</td>\n",
       "      <td>1714</td>\n",
       "      <td>84124</td>\n",
       "      <td>2012-03-25 23:42:57</td>\n",
       "      <td>2022-03-26 23:59:49.000000</td>\n",
       "      <td>0</td>\n",
       "      <td>@RonnyJacksonTX Listen to #trump praise #putin...</td>\n",
       "      <td>[trump, putin, ukraine, ukraine, fam46, ukrain...</td>\n",
       "      <td>en</td>\n",
       "      <td>0</td>\n",
       "    </tr>\n",
       "    <tr>\n",
       "      <th>835198</th>\n",
       "      <td>46825562</td>\n",
       "      <td>dawn_westlake</td>\n",
       "      <td>397</td>\n",
       "      <td>636</td>\n",
       "      <td>49224</td>\n",
       "      <td>2009-06-13 04:27:30</td>\n",
       "      <td>2022-03-26 23:59:52.000000</td>\n",
       "      <td>0</td>\n",
       "      <td>@djrothkopf Also, what the heck is wrong with ...</td>\n",
       "      <td>[savedemocracy, standwithukraine, putinmustgo]</td>\n",
       "      <td>en</td>\n",
       "      <td>0</td>\n",
       "    </tr>\n",
       "    <tr>\n",
       "      <th>835199</th>\n",
       "      <td>1443389368463511552</td>\n",
       "      <td>Snezhana_Slav</td>\n",
       "      <td>353</td>\n",
       "      <td>275</td>\n",
       "      <td>2521</td>\n",
       "      <td>2021-09-30 01:37:05</td>\n",
       "      <td>2022-03-26 23:59:52.000000</td>\n",
       "      <td>0</td>\n",
       "      <td>March 26, 2022 \\n#RussianArmy has gained Khers...</td>\n",
       "      <td>[russianarmy, ukraine]</td>\n",
       "      <td>en</td>\n",
       "      <td>0</td>\n",
       "    </tr>\n",
       "    <tr>\n",
       "      <th>835200</th>\n",
       "      <td>1297137944906670081</td>\n",
       "      <td>MykolaGuitar</td>\n",
       "      <td>325</td>\n",
       "      <td>222</td>\n",
       "      <td>225</td>\n",
       "      <td>2020-08-22 11:46:18</td>\n",
       "      <td>2022-03-26 23:59:52.000000</td>\n",
       "      <td>4</td>\n",
       "      <td>🐕🐕🐕 russian missile hit civilian houses right ...</td>\n",
       "      <td>[]</td>\n",
       "      <td>en</td>\n",
       "      <td>0</td>\n",
       "    </tr>\n",
       "    <tr>\n",
       "      <th>835201</th>\n",
       "      <td>17600254</td>\n",
       "      <td>JamesSemaj1220</td>\n",
       "      <td>1705</td>\n",
       "      <td>1686</td>\n",
       "      <td>432499</td>\n",
       "      <td>2008-11-24 20:28:51</td>\n",
       "      <td>2022-03-26 23:59:53.000000</td>\n",
       "      <td>0</td>\n",
       "      <td>ICE DANCE RESULTS !\\n\\n🥇 @GabriellaPks &amp;amp; @...</td>\n",
       "      <td>[papadakiscizeron, hubbelldonohue, chockbates,...</td>\n",
       "      <td>en</td>\n",
       "      <td>0</td>\n",
       "    </tr>\n",
       "  </tbody>\n",
       "</table>\n",
       "<p>824957 rows × 12 columns</p>\n",
       "</div>"
      ],
      "text/plain": [
       "                     userid        username  following  followers  \\\n",
       "0                 313480107       chavez145        939        577   \n",
       "1                2170195636           d7xen       1631        214   \n",
       "2                2324486774  GayEqualGlobal      34037      34867   \n",
       "3                2544474997     Jmltrouille       1586       1429   \n",
       "4        991781656808886272     Akan__Drama       1095       1036   \n",
       "...                     ...             ...        ...        ...   \n",
       "835197            536744675         SCVIndy       4083       1714   \n",
       "835198             46825562   dawn_westlake        397        636   \n",
       "835199  1443389368463511552   Snezhana_Slav        353        275   \n",
       "835200  1297137944906670081    MykolaGuitar        325        222   \n",
       "835201             17600254  JamesSemaj1220       1705       1686   \n",
       "\n",
       "        totaltweets       usercreatedts              tweetcreatedts  \\\n",
       "0             69258 2011-06-08 18:31:50         2022-02-28 00:07:06   \n",
       "1              1630 2013-11-06 01:34:15         2022-02-28 00:07:07   \n",
       "2            267610 2014-02-02 23:23:52         2022-02-28 00:07:07   \n",
       "3             28390 2014-06-03 22:19:12         2022-02-28 00:07:08   \n",
       "4             22392 2018-05-02 20:49:08         2022-02-28 00:07:08   \n",
       "...             ...                 ...                         ...   \n",
       "835197        84124 2012-03-25 23:42:57  2022-03-26 23:59:49.000000   \n",
       "835198        49224 2009-06-13 04:27:30  2022-03-26 23:59:52.000000   \n",
       "835199         2521 2021-09-30 01:37:05  2022-03-26 23:59:52.000000   \n",
       "835200          225 2020-08-22 11:46:18  2022-03-26 23:59:52.000000   \n",
       "835201       432499 2008-11-24 20:28:51  2022-03-26 23:59:53.000000   \n",
       "\n",
       "        retweetcount                                               text  \\\n",
       "0                642  ⚡️New York State Governor Kathy Hokul (Democra...   \n",
       "1                  6  Closer look at the Vasylkiv oil depot fire whi...   \n",
       "2               1501  #Russia's state media is flipping out over our...   \n",
       "3                  3  Ukrainian National Anthem with English transla...   \n",
       "4                128  JUST IN: Ukraine opens global recruitment prog...   \n",
       "...              ...                                                ...   \n",
       "835197             0  @RonnyJacksonTX Listen to #trump praise #putin...   \n",
       "835198             0  @djrothkopf Also, what the heck is wrong with ...   \n",
       "835199             0  March 26, 2022 \\n#RussianArmy has gained Khers...   \n",
       "835200             4  🐕🐕🐕 russian missile hit civilian houses right ...   \n",
       "835201             0  ICE DANCE RESULTS !\\n\\n🥇 @GabriellaPks &amp; @...   \n",
       "\n",
       "                                                 hashtags language  \\\n",
       "0                                                [russia]       en   \n",
       "1                                         [osint, russia]       en   \n",
       "2                                                [russia]       en   \n",
       "3                                     [ukraine, eukraine]       en   \n",
       "4                                                      []       en   \n",
       "...                                                   ...      ...   \n",
       "835197  [trump, putin, ukraine, ukraine, fam46, ukrain...       en   \n",
       "835198     [savedemocracy, standwithukraine, putinmustgo]       en   \n",
       "835199                             [russianarmy, ukraine]       en   \n",
       "835200                                                 []       en   \n",
       "835201  [papadakiscizeron, hubbelldonohue, chockbates,...       en   \n",
       "\n",
       "        favorite_count  \n",
       "0                    0  \n",
       "1                    0  \n",
       "2                    0  \n",
       "3                    0  \n",
       "4                    0  \n",
       "...                ...  \n",
       "835197               0  \n",
       "835198               0  \n",
       "835199               0  \n",
       "835200               0  \n",
       "835201               0  \n",
       "\n",
       "[824957 rows x 12 columns]"
      ]
     },
     "execution_count": 8,
     "metadata": {},
     "output_type": "execute_result"
    }
   ],
   "source": [
    "preprocessor.clean_hashtag(df)"
   ]
  },
  {
   "cell_type": "code",
   "execution_count": 9,
   "id": "e0494302",
   "metadata": {},
   "outputs": [
    {
     "data": {
      "text/plain": [
       "[Text(0.5, 1.0, 'Top 20 Most Used Hashtags')]"
      ]
     },
     "execution_count": 9,
     "metadata": {},
     "output_type": "execute_result"
    },
    {
     "data": {
      "image/png": "[encoded data removed]",
      "text/plain": [
       "<Figure size 432x288 with 1 Axes>"
      ]
     },
     "metadata": {
      "needs_background": "light"
     },
     "output_type": "display_data"
    }
   ],
   "source": [
    "counts = make_dataset.count_hashtags(df)\n",
    "sns.barplot(y=counts.head(20).index, x=\"hashtag\", data=counts.head(20), palette='viridis').set(title='Top 20 Most Used Hashtags')"
   ]
  },
  {
   "cell_type": "markdown",
   "id": "679c2d51",
   "metadata": {},
   "source": [
    "### Russian Tweets Translation"
   ]
  },
  {
   "cell_type": "code",
   "execution_count": null,
   "id": "e4b8128a",
   "metadata": {},
   "outputs": [],
   "source": [
    "df_splits = np.array_split(ru_df, 6) # run in smaller splits\n",
    "\n",
    "my_dict = {}\n",
    "for i, _df in enumerate(df_splits):\n",
    "    print('translating df number '+str(i+1))\n",
    "    my_dict['lst_%s' % str(i+1)] = make_dataset.run_translate(_df)\n",
    "    \n",
    "translated_list = [item for sublist in list(my_dict.values()) for item in sublist]\n",
    "ru_df['text_translated'] = translated_list\n",
    "final_df = ru_df[ru_df['text_translated']!='TypeError'].copy()\n",
    "final_df.drop(['Unnamed: 0'], axis=1, inplace=True)\n",
    "final_df.reset_index(inplace=True, drop=True)\n",
    "final_df.to_csv('../data/interim/russian_tweets_translated.csv')"
   ]
  },
  {
   "cell_type": "markdown",
   "id": "f349e22e",
   "metadata": {},
   "source": [
    "### Process Pre-War Data"
   ]
  },
  {
   "cell_type": "code",
   "execution_count": 11,
   "id": "1e356584",
   "metadata": {},
   "outputs": [
    {
     "data": {
      "application/vnd.jupyter.widget-view+json": {
       "model_id": "0e7e9d00a1264323a6a16645c904ff45",
       "version_major": 2,
       "version_minor": 0
      },
      "text/plain": [
       "  0%|          | 0/8 [00:00<?, ?it/s]"
      ]
     },
     "metadata": {},
     "output_type": "display_data"
    }
   ],
   "source": [
    "final_df = pd.DataFrame()\n",
    "file_list = os.listdir('../data/external/')\n",
    "with tqdm(total=len(file_list)) as pbar:\n",
    "    for file in file_list:\n",
    "        df = pd.read_csv('../data/external/'+ file)\n",
    "        df = make_dataset.process_new_data(df)\n",
    "        df['usercreatedts'] = pd.to_datetime(df['usercreatedts']) # convert to datetime\n",
    "        df = df[df['usercreatedts'].dt.year != 2022] # filter out accounts created recently in 2022\n",
    "        df = df.drop_duplicates(subset=['text'], keep='first') # drop duplicated retweets, keep first occurrence\n",
    "        df = df[(df['language'] == 'en') | (df['language'] == 'ru')] # filter out None English and Russian language tweets \n",
    "        df = df[(df['followers'] >= 200) & (df['totaltweets'] >= 200)] # only keep accounts that have over 200 followers/totaltweets\n",
    "        final_df = pd.concat([final_df, df],ignore_index=True) # use concat because it's faster than append\n",
    "        pbar.update(1)"
   ]
  },
  {
   "cell_type": "code",
   "execution_count": 12,
   "id": "96505d3f",
   "metadata": {},
   "outputs": [],
   "source": [
    "final_df['tweetcreatedts'] = pd.to_datetime(final_df['tweetcreatedts'])\n",
    "dates = ['01-17-2022', '01-18-2022', '01-24-2022', '01-25-2022', '02-21-2022', '02-22-2022', '02-24-2022', '02-25-2022']\n",
    "concat_df = pd.DataFrame()\n",
    "for date in dates:\n",
    "    temp_df = final_df[(final_df['tweetcreatedts'].dt.day == int(date.split('-')[1])) & \n",
    "                       (final_df['tweetcreatedts'].dt.month == int(date.split('-')[0])) & \n",
    "                       (final_df['tweetcreatedts'].dt.year == int(date.split('-')[2]))]\n",
    "                       \n",
    "    concat_df = pd.concat([concat_df, temp_df],ignore_index=True)\n",
    " \n",
    "concat_df.sort_values(by=['tweetcreatedts'], inplace=True) # sort by tweetcreatedts\n",
    "concat_df = concat_df.drop_duplicates(subset=['text'], keep='first') # drop retweets across daily borders\n",
    "concat_df.reset_index(drop=True, inplace=True) # reset index\n",
    "concat_df\n",
    "concat_df.to_csv('../data/interim/new_data.csv',index=False)"
   ]
  }
 ],
 "metadata": {
  "kernelspec": {
   "display_name": "Python 3 (ipykernel)",
   "language": "python",
   "name": "python3"
  },
  "language_info": {
   "codemirror_mode": {
    "name": "ipython",
    "version": 3
   },
   "file_extension": ".py",
   "mimetype": "text/x-python",
   "name": "python",
   "nbconvert_exporter": "python",
   "pygments_lexer": "ipython3",
   "version": "3.8.5"
  }
 },
 "nbformat": 4,
 "nbformat_minor": 5
}
